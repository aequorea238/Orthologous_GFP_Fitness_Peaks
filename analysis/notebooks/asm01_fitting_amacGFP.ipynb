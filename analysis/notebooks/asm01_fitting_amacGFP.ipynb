{
 "cells": [
  {
   "cell_type": "code",
   "execution_count": 1,
   "metadata": {},
   "outputs": [],
   "source": [
    "import pandas as pd\n",
    "import numpy as np\n",
    "import os\n",
    "import scipy\n",
    "from scipy import stats\n",
    "from matplotlib import pyplot as plt\n",
    "from scipy import interpolate\n",
    "import seaborn as sns\n",
    "import time\n",
    "from datetime import datetime\n",
    "%matplotlib inline\n"
   ]
  },
  {
   "cell_type": "code",
   "execution_count": 2,
   "metadata": {},
   "outputs": [],
   "source": [
    "POI = 'amacGFP' # protein of interest"
   ]
  },
  {
   "cell_type": "code",
   "execution_count": 3,
   "metadata": {},
   "outputs": [],
   "source": [
    "%run ./asm00_fitting_functions.ipynb"
   ]
  },
  {
   "cell_type": "code",
   "execution_count": 4,
   "metadata": {},
   "outputs": [
    {
     "data": {
      "image/png": "[encoded data removed]",
      "text/plain": [
       "<Figure size 504x288 with 1 Axes>"
      ]
     },
     "metadata": {},
     "output_type": "display_data"
    }
   ],
   "source": [
    "gates_dict = get_gates_dict(POI)\n",
    "gates_positions_figure(gates_dict)\n",
    "d = pd.read_csv(f\"../../data/{POI}/{POI}_06_hiseq_working_data.txt\",delimiter='\\t')"
   ]
  },
  {
   "cell_type": "markdown",
   "metadata": {},
   "source": [
    "## Sanity check with control barcodes"
   ]
  },
  {
   "cell_type": "code",
   "execution_count": null,
   "metadata": {},
   "outputs": [],
   "source": [
    "bc_controls['custom'] = ['AACCCATTATGCTCAACCAT','ACCCCCACCCACCCAAAACC']\n",
    "\n",
    "plt.close('all')\n",
    "# for bc in ['cgre','av','pplu','amac']:#,'custom']:\n",
    "for bc in bc_controls.keys():\n",
    "    \n",
    "    sanity_wt = bc_controls[bc]\n",
    "    sanity_wt_df = d[d.primary_bc.isin(sanity_wt)]\n",
    "    f_sanity_wt = fit_job(sanity_wt_df,gates_dict)\n",
    "    f_sanity_wt_df = pd.DataFrame.from_records(f_sanity_wt,index='original_index')\n",
    "    sanity0 = sanity_wt_df.join(f_sanity_wt_df)\n",
    "    demoplot(f_sanity_wt,sanity0,gates_dict,f'{POI} data, bc: {bc}')"
   ]
  },
  {
   "cell_type": "markdown",
   "metadata": {},
   "source": [
    "## Sanity check: fitting small sample"
   ]
  },
  {
   "cell_type": "code",
   "execution_count": 9,
   "metadata": {},
   "outputs": [
    {
     "data": {
      "application/vnd.jupyter.widget-view+json": {
       "model_id": "bce55641882948dab4136734a16336a2",
       "version_major": 2,
       "version_minor": 0
      },
      "text/plain": [
       "VBox(children=(HTML(value=''), IntProgress(value=0, max=1000)))"
      ]
     },
     "metadata": {},
     "output_type": "display_data"
    }
   ],
   "source": [
    "sel0 = d.sample(1000)\n",
    "# sel0 = d\n",
    "fit_job_result = fit_job(sel0,gates_dict)\n",
    "fit_job_result_df = pd.DataFrame.from_records(fit_job_result,index='original_index')\n",
    "sel0_and_fit_df = sel0.join(fit_job_result_df)"
   ]
  },
  {
   "cell_type": "code",
   "execution_count": 10,
   "metadata": {},
   "outputs": [],
   "source": [
    "demoplot(random.sample(fit_job_result,10),sel0,gates_dict,'insane')"
   ]
  },
  {
   "cell_type": "markdown",
   "metadata": {
    "heading_collapsed": true
   },
   "source": [
    "## Fitting all"
   ]
  },
  {
   "cell_type": "code",
   "execution_count": 26,
   "metadata": {
    "hidden": true
   },
   "outputs": [
    {
     "data": {
      "application/vnd.jupyter.widget-view+json": {
       "model_id": "d39807043a2f45738879892ae27a9666",
       "version_major": 2,
       "version_minor": 0
      },
      "text/plain": [
       "VBox(children=(HTML(value=''), IntProgress(value=0, max=846633)))"
      ]
     },
     "metadata": {},
     "output_type": "display_data"
    },
    {
     "name": "stderr",
     "output_type": "stream",
     "text": [
      "IOPub message rate exceeded.\n",
      "The notebook server will temporarily stop sending output\n",
      "to the client in order to avoid crashing it.\n",
      "To change this limit, set the config variable\n",
      "`--NotebookApp.iopub_msg_rate_limit`.\n",
      "\n",
      "Current values:\n",
      "NotebookApp.iopub_msg_rate_limit=1000.0 (msgs/sec)\n",
      "NotebookApp.rate_limit_window=3.0 (secs)\n",
      "\n",
      "IOPub message rate exceeded.\n",
      "The notebook server will temporarily stop sending output\n",
      "to the client in order to avoid crashing it.\n",
      "To change this limit, set the config variable\n",
      "`--NotebookApp.iopub_msg_rate_limit`.\n",
      "\n",
      "Current values:\n",
      "NotebookApp.iopub_msg_rate_limit=1000.0 (msgs/sec)\n",
      "NotebookApp.rate_limit_window=3.0 (secs)\n",
      "\n"
     ]
    }
   ],
   "source": [
    "start_ = datetime.today().strftime('%Y%m%d-%H%M%S')\n",
    "\n",
    "sel0 = d\n",
    "fit_job_result = fit_job(sel0,gates_dict)\n",
    "fit_job_result_df = pd.DataFrame.from_records(fit_job_result,index='original_index')\n",
    "sel0_and_fit_df = sel0.join(fit_job_result_df)\n",
    "stop_ = datetime.today().strftime('%Y%m%d-%H%M%S')\n"
   ]
  },
  {
   "cell_type": "code",
   "execution_count": 28,
   "metadata": {
    "hidden": true
   },
   "outputs": [],
   "source": [
    "sel0_and_fit_df.to_csv(f\"{POI}_cdf_fitting_{stop_}.csv.gz\",index=False)"
   ]
  },
  {
   "cell_type": "code",
   "execution_count": 103,
   "metadata": {
    "hidden": true
   },
   "outputs": [],
   "source": [
    "#%run ../louisa/_get_folder_IDs.ipynb\n",
    "%run ./lgs01a_functions_for_getting_aa_pseudopositions.ipynb"
   ]
  },
  {
   "cell_type": "code",
   "execution_count": 36,
   "metadata": {
    "hidden": true
   },
   "outputs": [],
   "source": [
    "ssu = sel0_and_fit_df"
   ]
  },
  {
   "cell_type": "code",
   "execution_count": 38,
   "metadata": {
    "hidden": true
   },
   "outputs": [
    {
     "data": {
      "application/vnd.jupyter.widget-view+json": {
       "model_id": "c6dca50d85a64401bc8e5b548de7e162",
       "version_major": 2,
       "version_minor": 0
      },
      "text/plain": [
       "VBox(children=(HTML(value=''), IntProgress(value=0, max=550028)))"
      ]
     },
     "metadata": {},
     "output_type": "display_data"
    }
   ],
   "source": [
    "ssu = sel0_and_fit_df\n",
    "gb = ssu.groupby(['primary_bc','secondary_bc'])\n",
    "\n",
    "i=0\n",
    "res = []\n",
    "for name,group in log_progress(gb,every=100,size=gb.ngroups):\n",
    "\n",
    "    if group.shape[0]>1:\n",
    "        r = {}\n",
    "        r['primary_bc'] = name[0]\n",
    "        r['secondary_bc'] = name[1]\n",
    "\n",
    "        for row_index, row in group.iterrows():\n",
    "            r[f'{row[\"machine\"]}_mu'] = row['mu']\n",
    "            r[f'{row[\"machine\"]}_sigma'] = row['sigma']\n",
    "            r[f'{row[\"machine\"]}_pmu'] = row['pmu']\n",
    "            r[f'{row[\"machine\"]}_psigma'] = row['psigma']\n",
    "            r[f'{row[\"machine\"]}_nreads'] = np.sum(row[gates])\n",
    "\n",
    "\n",
    "            pass\n",
    "        res.append(r)"
   ]
  },
  {
   "cell_type": "code",
   "execution_count": 39,
   "metadata": {
    "hidden": true
   },
   "outputs": [],
   "source": [
    "resdf = pd.DataFrame.from_records(res)"
   ]
  },
  {
   "cell_type": "code",
   "execution_count": 13,
   "metadata": {
    "hidden": true
   },
   "outputs": [],
   "source": [
    "resdf.to_csv(\"amacGFP_cdf_fitting_AB_20200329-021058.csv.gz\")"
   ]
  }
 ],
 "metadata": {
  "kernelspec": {
   "display_name": "Python [conda env:gfp3]",
   "language": "python",
   "name": "conda-env-gfp3-py"
  },
  "language_info": {
   "codemirror_mode": {
    "name": "ipython",
    "version": 3
   },
   "file_extension": ".py",
   "mimetype": "text/x-python",
   "name": "python",
   "nbconvert_exporter": "python",
   "pygments_lexer": "ipython3",
   "version": "3.6.8"
  },
  "toc": {
   "base_numbering": 1,
   "nav_menu": {},
   "number_sections": true,
   "sideBar": true,
   "skip_h1_title": false,
   "title_cell": "Table of Contents",
   "title_sidebar": "Contents",
   "toc_cell": false,
   "toc_position": {},
   "toc_section_display": true,
   "toc_window_display": false
  }
 },
 "nbformat": 4,
 "nbformat_minor": 2
}
