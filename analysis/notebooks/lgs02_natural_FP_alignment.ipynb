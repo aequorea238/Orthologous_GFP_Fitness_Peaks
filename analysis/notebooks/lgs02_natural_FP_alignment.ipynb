{
 "cells": [
  {
   "cell_type": "code",
   "execution_count": 2,
   "metadata": {},
   "outputs": [],
   "source": [
    "%run lgs00_general_functions.ipynb"
   ]
  },
  {
   "cell_type": "code",
   "execution_count": 3,
   "metadata": {},
   "outputs": [],
   "source": [
    "%run lgs01_functions_for_getting_aa_pseudopositions.ipynb"
   ]
  },
  {
   "cell_type": "code",
   "execution_count": 4,
   "metadata": {},
   "outputs": [],
   "source": [
    "def make_interleaved_fasta_sequential(fasta_path_in, fasta_path_out):\n",
    "    with open(fasta_path_in, 'r') as fin:\n",
    "        lines = fin.readlines()\n",
    "        \n",
    "    with open(fasta_path_out, 'w') as fout:\n",
    "        header = ''\n",
    "        seq = ''\n",
    "        for i in range(len(lines)):\n",
    "            if i==0:\n",
    "                fout.write('>' + lines[i][1:-1] + '\\n')\n",
    "            else:\n",
    "                if lines[i][0] =='>':\n",
    "                    fout.write('\\n' + '>' + lines[i][1:-1] + '\\n')\n",
    "                else:\n",
    "                    fout.write(lines[i][:-1])"
   ]
  },
  {
   "cell_type": "code",
   "execution_count": 5,
   "metadata": {},
   "outputs": [],
   "source": [
    "gfps_all = pd.read_csv(os.path.join(data_folder, 'alignments','extant_fluorescent_proteins_data.csv'))\n",
    "natural_mask = gfps_all['derived_from']=='nature'\n",
    "green_mask = gfps_all['color']=='green'"
   ]
  },
  {
   "cell_type": "code",
   "execution_count": 6,
   "metadata": {},
   "outputs": [],
   "source": [
    "wts = {}\n",
    "for x in  gfps_all[natural_mask].index:\n",
    "    wts[gfps_all.loc[x]['name']] = gfps_all.loc[x]['aa_seq']"
   ]
  },
  {
   "cell_type": "code",
   "execution_count": 7,
   "metadata": {},
   "outputs": [],
   "source": [
    "alignment = {}\n",
    "with open(os.path.join(data_folder, 'alignments',\n",
    "                               'extant_fluorescent_proteins_TCoffee_aligned.fasta'), 'r') as f:\n",
    "    lines = f.readlines()\n",
    "for i in range(0, len(lines), 2):\n",
    "    alignment[lines[i][1:lines[i].index('|')]] = lines[i+1].strip()\n"
   ]
  },
  {
   "cell_type": "code",
   "execution_count": 8,
   "metadata": {},
   "outputs": [],
   "source": [
    "def get_seq_identity(s1, s2, gapper='-'):\n",
    "    identity = sum(1 for a,b in zip(s1,s2) if a==b!=gapper)\n",
    "    length = sum(1 for a,b in zip(s1,s2) if a!=gapper and b!=gapper)\n",
    "#     length=len(s1)\n",
    "    return 100.*identity/length"
   ]
  },
  {
   "cell_type": "code",
   "execution_count": 9,
   "metadata": {
    "scrolled": false
   },
   "outputs": [],
   "source": [
    "pairwise = {}\n",
    "skip = []\n",
    "for s1 in list(alignment.keys()):\n",
    "    for s2 in list(alignment.keys()):\n",
    "        skip.append(s1+s2)\n",
    "        if s1!=s2 and (s2+s1) not in skip:\n",
    "            identity = get_seq_identity(alignment[s1],alignment[s2])\n",
    "            pairwise[frozenset([s1,s2])] = identity\n",
    "#             if identity>95:\n",
    "#                 print(identity,s1,s2)"
   ]
  },
  {
   "cell_type": "code",
   "execution_count": 10,
   "metadata": {},
   "outputs": [
    {
     "data": {
      "image/png": "[encoded data removed]",
      "text/plain": [
       "<Figure size 432x288 with 1 Axes>"
      ]
     },
     "metadata": {
      "needs_background": "light"
     },
     "output_type": "display_data"
    }
   ],
   "source": [
    "# plt.hist(pairwise.values(), bins=100)\n",
    "# label_plot_axis(x='amino acid identity', y='number of gene pairs');"
   ]
  },
  {
   "cell_type": "markdown",
   "metadata": {},
   "source": [
    "# New alignment quasipositions"
   ]
  },
  {
   "cell_type": "markdown",
   "metadata": {},
   "source": [
    "Let 'quasipositions' be the positions of aminoacids in the big alignment of >70 wt GFPs. \n",
    "Get dictionary linking the quasipositions to the native position of each gene: **{quasipos1: {gene1: nativepos_gene1, gene2: nativepos_gene2, ...}, quasipos2: ...}**"
   ]
  },
  {
   "cell_type": "code",
   "execution_count": 21,
   "metadata": {},
   "outputs": [],
   "source": [
    "quasilength = len(alignment['avGFP'])"
   ]
  },
  {
   "cell_type": "code",
   "execution_count": 12,
   "metadata": {},
   "outputs": [],
   "source": [
    "quasipos_to_nativepos = {} \n",
    "\n",
    "for i in range(quasilength):\n",
    "    quasipos_to_nativepos[i] = {}\n",
    "    for gene in alignment.keys():\n",
    "        wt2pseudo = get_pseudo_aa_positions(wts[gene], alignment[gene])\n",
    "        try:\n",
    "            quasipos_to_nativepos[i][gene] = list(wt2pseudo.keys())[list(wt2pseudo.values()).index(i)]\n",
    "        except:\n",
    "            quasipos_to_nativepos[i][gene] = np.nan"
   ]
  },
  {
   "cell_type": "code",
   "execution_count": 13,
   "metadata": {},
   "outputs": [],
   "source": [
    "quasipos_to_nativeaa = {x: {gene: alignment[gene][x] for gene in alignment.keys()} for x in range(quasilength)}"
   ]
  },
  {
   "cell_type": "code",
   "execution_count": 14,
   "metadata": {},
   "outputs": [],
   "source": [
    "max_len = max([len(x) for x in wts.values()])\n",
    "nativepos_to_quasipos = {}\n",
    "\n",
    "for i in range(max_len):\n",
    "    nativepos_to_quasipos[i] = {}\n",
    "    for gene in alignment.keys():\n",
    "        wt2pseudo = get_pseudo_aa_positions(wts[gene], alignment[gene])\n",
    "        try:\n",
    "            nativepos_to_quasipos[i][gene] = list(wt2pseudo.values())[list(wt2pseudo.keys()).index(i)]\n",
    "        except:\n",
    "            nativepos_to_quasipos[i][gene] = np.nan"
   ]
  },
  {
   "cell_type": "code",
   "execution_count": 15,
   "metadata": {},
   "outputs": [],
   "source": [
    "quasipos_aa_occupancy = {}\n",
    "quasipos_aa_states = {}\n",
    "for i in range(quasilength):\n",
    "    extant = [alignment[gene][i] for gene in alignment]\n",
    "    quasipos_aa_occupancy[i] = ''.join(set(extant))\n",
    "    quasipos_aa_states[i] = extant"
   ]
  },
  {
   "cell_type": "markdown",
   "metadata": {},
   "source": [
    "# Functions"
   ]
  },
  {
   "cell_type": "code",
   "execution_count": 16,
   "metadata": {},
   "outputs": [],
   "source": [
    "namekey = {'amac':'GFPxm', 'av':'avGFP', 'cgre':'cgreGFP', 'pplu':'ppluGFP2'}"
   ]
  },
  {
   "cell_type": "code",
   "execution_count": 17,
   "metadata": {},
   "outputs": [],
   "source": [
    "def check_n_mut_extant(list_of_muts):\n",
    "    if list_of_muts=='wt' or type(list_of_muts)!=str:\n",
    "        return np.nan\n",
    "    else:\n",
    "        muts = list_of_muts.split(':')\n",
    "        extant = 0\n",
    "        for mut in muts:\n",
    "            try:\n",
    "                if mut[-1] in quasipos_aa_occupancy[int(mut[:-1])]:\n",
    "                    extant += 1\n",
    "            except:\n",
    "                print(list_of_muts)\n",
    "        return extant"
   ]
  },
  {
   "cell_type": "code",
   "execution_count": 18,
   "metadata": {},
   "outputs": [],
   "source": [
    "def check_if_mutations_cooccur(genotype, alignment):\n",
    "    muts = genotype.split(':')\n",
    "    wt = []\n",
    "    cooccur = False\n",
    "    for gene in alignment.keys():\n",
    "        current = True\n",
    "        for m in muts:\n",
    "            if alignment[gene][int(m[:-1])] != m[-1]:\n",
    "                current = False\n",
    "                break\n",
    "        if current==True:\n",
    "            cooccur = True\n",
    "            wt.append(gene)\n",
    "#     if len(wt)>0:\n",
    "#         print(muts, wt)\n",
    "    return wt"
   ]
  },
  {
   "cell_type": "code",
   "execution_count": 19,
   "metadata": {},
   "outputs": [],
   "source": [
    "def get_neutral_and_deleterious_states(singles_effects_dict, gene, input_pos='pseudo', output_pos='pseudo', \n",
    "                                       threshold=0.25):\n",
    "    namekey = {'amac':'GFPxm', 'av':'avGFP', 'cgre':'cgreGFP', 'pplu':'ppluGFP2'}\n",
    "    ok = []\n",
    "    bad = []\n",
    "    for mut in singles_effects_dict:\n",
    "        \n",
    "        if mut=='wt':\n",
    "            pass\n",
    "        else:\n",
    "            if singles_effects_dict[mut] < threshold:\n",
    "                is_bad = True\n",
    "            else:\n",
    "                is_bad = False\n",
    "            \n",
    "            if input_pos==output_pos:\n",
    "                pass\n",
    "            elif input_pos=='pseudo' and output_pos=='native':\n",
    "                mut = mut[0] + pseudopos_to_nativepos[int(mut[1:-1])][genekey[gene]] + mut[-1]\n",
    "            elif input_pos=='pseudo' and output_pos=='quasi':\n",
    "                natpos = pseudopos_to_nativepos[int(mut[1:-1])][genekey[gene]]\n",
    "                quasipos = nativepos_to_quasipos[natpos][namekey[gene]]\n",
    "                mut = mut[0] + str(quasipos) + mut[-1]\n",
    "                \n",
    "            ok.append(mut[1:-1] + mut[0])\n",
    "            if is_bad == True:\n",
    "                bad.append(mut[1:-1] + mut[-1])\n",
    "            else:\n",
    "                ok.append(mut[1:-1] + mut[-1])\n",
    "    return set(ok), set(bad)    "
   ]
  },
  {
   "cell_type": "code",
   "execution_count": 20,
   "metadata": {},
   "outputs": [],
   "source": [
    "def get_wt_states(name, wts=wts):\n",
    "    ok = []\n",
    "    for i in range(len(wts[name])):\n",
    "        ok.append(str(nativepos_to_quasipos[i][name]) + wts[name][i])\n",
    "    return set(ok)"
   ]
  },
  {
   "cell_type": "code",
   "execution_count": null,
   "metadata": {},
   "outputs": [],
   "source": []
  }
 ],
 "metadata": {
  "kernelspec": {
   "display_name": "Python 3",
   "language": "python",
   "name": "python3"
  },
  "language_info": {
   "codemirror_mode": {
    "name": "ipython",
    "version": 3
   },
   "file_extension": ".py",
   "mimetype": "text/x-python",
   "name": "python",
   "nbconvert_exporter": "python",
   "pygments_lexer": "ipython3",
   "version": "3.7.6"
  }
 },
 "nbformat": 4,
 "nbformat_minor": 2
}
