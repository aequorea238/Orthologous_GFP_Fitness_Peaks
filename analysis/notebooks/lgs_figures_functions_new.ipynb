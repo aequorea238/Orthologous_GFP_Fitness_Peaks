{
 "cells": [
  {
   "cell_type": "code",
   "execution_count": 1,
   "metadata": {},
   "outputs": [],
   "source": [
    "%run lgs00_general_functions.ipynb"
   ]
  },
  {
   "cell_type": "markdown",
   "metadata": {},
   "source": [
    "### General"
   ]
  },
  {
   "cell_type": "code",
   "execution_count": 2,
   "metadata": {},
   "outputs": [],
   "source": [
    "identities = {frozenset(['amac','av']):82, frozenset(['cgre','av']):41, frozenset(['pplu','av']):18,\n",
    "              frozenset(['amac','cgre']):43, frozenset(['amac','pplu']):17, frozenset(['cgre','pplu']):19,\n",
    "        frozenset(['amacV14L','av']):82, frozenset(['amacV14L','cgre']):43, frozenset(['amacV14L','pplu']):17,\n",
    "             frozenset(['amac','amacV14L']):100}"
   ]
  },
  {
   "cell_type": "code",
   "execution_count": 3,
   "metadata": {},
   "outputs": [],
   "source": [
    "def make_figure_letters(figure, coordinates, **kwargs):\n",
    "    ax = figure.add_subplot(1,1,1)\n",
    "    ax = fig.add_subplot(1,1,1)\n",
    "    for side in ['top','bottom','right','left']:\n",
    "        ax.spines[side].set_color(None)\n",
    "    ax.tick_params(labelcolor='w', top=False, bottom=False, left=False, right=False)\n",
    "    \n",
    "    for letter in coordinates:\n",
    "        plt.text(coordinates[letter][0], coordinates[letter][1], letter, weight='bold', **kwargs)\n",
    "    return ax"
   ]
  },
  {
   "cell_type": "code",
   "execution_count": 21,
   "metadata": {},
   "outputs": [],
   "source": [
    "import matplotlib.image as mpimg\n",
    "def show_image(image_path):\n",
    "    plt.imshow(mpimg.imread(image_path))\n",
    "    plt.axis('off')"
   ]
  },
  {
   "cell_type": "code",
   "execution_count": null,
   "metadata": {},
   "outputs": [],
   "source": [
    "def patch_violinplot(facecolors, edgecolors, ):\n",
    "    from matplotlib.collections import PolyCollection\n",
    "    ax = plt.gca()\n",
    "    violins = [art for art in ax.get_children() if isinstance(art, PolyCollection)]\n",
    "#     colors = sns.color_palette(palette, n_colors=n) * (len(violins)//n)\n",
    "    for i in range(len(violins)):\n",
    "        violins[i].set_edgecolor(edgecolors[i])\n",
    "        violins[i].set_facecolor(facecolors[i])"
   ]
  },
  {
   "cell_type": "markdown",
   "metadata": {},
   "source": [
    "# Overview"
   ]
  },
  {
   "cell_type": "markdown",
   "metadata": {},
   "source": [
    "### Library distributions with WTs and chromomutants"
   ]
  },
  {
   "cell_type": "code",
   "execution_count": 4,
   "metadata": {},
   "outputs": [],
   "source": [
    "def plot_library_distributions(gene, nt_data, aa_data, ax, \n",
    "                               y1_label='Number of genotypes: Library', \n",
    "                               y2_label='Number of genotypes:\\nWTs, chromophore mutants'):\n",
    "    library = aa_data[(aa_data.gene==gene)]\n",
    "    wts = nt_data[(nt_data.gene==gene) & (nt_data.aa_genotype_native=='wt')]\n",
    "    \n",
    "    nonsense_mask = (aa_data.aa_genotype_pseudo.str.contains('\\*')) & ~(aa_data.aa_genotype_pseudo.str.contains('\\*246'))\n",
    "    chromomuts = aa_data[(aa_data.gene==gene) & ~nonsense_mask & (aa_data.n_mut<=20)\n",
    "                         & (aa_data.aa_genotype_pseudo.str.contains('G69|Y68|R99'))]\n",
    "    \n",
    "    sns.histplot(data = library['brightness'], \n",
    "                        bins=50, element='poly', color=colors[gene], fill=True, linewidth=2, )\n",
    "    \n",
    "    plt.ylim(0,4500)\n",
    "    plt.yticks([])\n",
    "    plt.ylabel('')\n",
    "    plt.xlabel('Fluorescence (log)', fontsize=12)\n",
    "    ax.spines['top'].set_visible(False)\n",
    "    ax.spines['right'].set_visible(False)\n",
    "\n",
    "    ax.twinx()\n",
    "    wtmean = round(wts['log_brightness'].mean(),1)\n",
    "    wtstd = round(wts['log_brightness'].std(),3)\n",
    "    sns.histplot(data = wts['log_brightness'],\n",
    "                        bins=10, element='poly', color='w', fill=True, linewidth=2, edgecolor=colors[gene])\n",
    "    \n",
    "\n",
    "    sns.histplot(data = chromomuts['brightness'],\n",
    "                        bins=50, element='poly', color='k', fill=True, linewidth=0, )\n",
    "    plt.ylabel('')\n",
    "    if gene=='avGFP':\n",
    "        plt.ylim(0,200)\n",
    "    elif gene=='cgreGFP':\n",
    "        plt.ylim(0,900)\n",
    "        \n",
    "    \n",
    "        \n",
    "    y2_ticks = {'amacGFP':range(0,500,100), 'cgreGFP':range(0,900,200), \n",
    "               'ppluGFP':range(0,1600,400), 'avGFP':range(0,200,50)}\n",
    "    plt.yticks([])\n",
    "    legendary(colors = [colors[gene],'w','k'], edges = [colors[gene],colors[gene], 'k'],\n",
    "              labels = [f'Library\\n(n = {len(library)})', f'WT protein \\n(n = {len(wts)})',\n",
    "                       f'Mut. chromophore\\n(n = {len(chromomuts)})'], loc='upper left',\n",
    "             )\n",
    "#     plt.setp(legend.get_title(),fontsize=14)\n",
    "    plt.title(names[gene], fontsize=13)    \n",
    "    plt.sca(ax)\n"
   ]
  },
  {
   "cell_type": "markdown",
   "metadata": {},
   "source": [
    "# Comparison of genes"
   ]
  },
  {
   "cell_type": "markdown",
   "metadata": {},
   "source": [
    "### Violins of N-mutants with median curves"
   ]
  },
  {
   "cell_type": "code",
   "execution_count": 5,
   "metadata": {},
   "outputs": [],
   "source": [
    "from scipy.optimize import curve_fit\n",
    "\n",
    "def sigmoid(x, L ,x0, k, b):\n",
    "    y = L / (1 + np.exp(-k*(x-x0)))+b\n",
    "    return (y)\n",
    "\n",
    "def fit_sigmoid(xdata, ydata, mid_guess):\n",
    "    p0 = [max(ydata), mid_guess, 1, min(ydata)]\n",
    "    popt, pcov = curve_fit(sigmoid, xdata, ydata, p0, maxfev=10000)\n",
    "    return popt\n",
    "\n",
    "def get_fitnesses_by_nmut(gene, n, data_nt, data_aa, fit=False):\n",
    "    wt = data_nt[(data_nt.gene==gene) & (data_nt.aa_genotype_native=='wt')]['log_brightness']\n",
    "    muts = [data_aa[(data_aa.gene==gene) & (data_aa.n_mut==i)]['brightness'] for i in range(1,n)]\n",
    "    \n",
    "#     labels = ['WT'] + [f'{i} mut.' for i in range(1,n)]\n",
    "    labels = ['WT'] + [i for i in range(1,n)]\n",
    "    \n",
    "    toplot = [list(wt)]+[list(x) for x in muts]\n",
    "    violins = plt.violinplot(toplot, showmedians=True, showmeans=False, positions=range(0,n),widths=0.8,\n",
    "                            showextrema=False)\n",
    "    \n",
    "    \n",
    "    for patch in violins['bodies']:\n",
    "        patch.set_color(colors[gene])\n",
    "#     for item in ['cmedians']:#'cbars', 'cmaxes', 'cmins', \n",
    "#         violins[item].set_color(colors[gene])\n",
    "#         violins[item].set_linewidth(3)\n",
    "    violins['cmedians'].set_linewidth(2)\n",
    "    violins['cmedians'].set_color('k')\n",
    "    for v in violins['bodies']:\n",
    "        v.set_alpha(1)\n",
    "#         v.set_edgecolor('k')\n",
    "    \n",
    "    plt.ylabel('Fluorescence (log)', fontsize=10)\n",
    "    plt.xticks(range(0,n), labels)\n",
    "    plt.xlabel(f'Number of mutations')\n",
    "    \n",
    "    if fit==True:        \n",
    "        popt = fit_sigmoid(xdata = list(range(0,n)), ydata = [np.median(x) for x in toplot], mid_guess=5)\n",
    "        x = np.linspace(0, 8, 100)\n",
    "        y = sigmoid(x, *popt)\n",
    "        plt.plot(x,y, color='k', linewidth=2)"
   ]
  },
  {
   "cell_type": "markdown",
   "metadata": {},
   "source": [
    "### Buried vs exposed residues violins"
   ]
  },
  {
   "cell_type": "code",
   "execution_count": 6,
   "metadata": {},
   "outputs": [],
   "source": [
    "def plot_buried_vs_exposed_violins_singles(gene):\n",
    "    \n",
    "    ax = sns.violinplot(data=data_aa[~wt_mask & singles_mask & (data_aa.gene==gene)], \n",
    "                        x='gene', y='brightness', \n",
    "                   saturation=1,width=1,\n",
    "                   hue='has_buried_mutation', col='gene', split=True, \n",
    "               linewidth=2, inner=None, scale='area', cut=0)\n",
    "\n",
    "    patch_violinplot(edgecolors=[None, colors[gene]], facecolors=[colors[gene],'w'])\n",
    "    \n",
    "    legendary(['k', 'w'], ['Exposed sites', 'Buried sites'], edges=['k','k'],\n",
    "              ncol=2, loc='upper center')\n",
    "    \n",
    "    ax.spines['top'].set_visible(False)\n",
    "    ax.spines['right'].set_visible(False)\n",
    "    ax.spines['bottom'].set_visible(False)\n",
    "    ax.spines['left'].set_position('center')\n",
    "    ax.get_legend().remove()\n",
    "    \n",
    "    yticks = {'amacGFP' : [3,3.5,4,4.5], 'cgreGFP':[3,3.5,4,4.5], \n",
    "              'ppluGFP':[3,3.5,4,4.5], 'avGFP':[1.5,2,2.5,3,3.5,4]}\n",
    "    plt.yticks(yticks[gene],yticks[gene])\n",
    "    \n",
    "    label_plot_axis(y='Fluorescence of single mutants', fontsize_y=12)\n",
    "    plt.xticks([0],[names[gene]],fontsize=12)"
   ]
  },
  {
   "cell_type": "markdown",
   "metadata": {},
   "source": [
    "### Observed vs expected bright genotypes"
   ]
  },
  {
   "cell_type": "code",
   "execution_count": null,
   "metadata": {},
   "outputs": [],
   "source": [
    "def get_ratio_predicted2observed_fluo(dataset, n_mut, threshold=0.4, **kwargs):\n",
    "    '''Returns the fraction of genotypes observed to be bright, from among those predicted to be bright\n",
    "    (measure of negative epistasis), as well as the fraction of genotypes observed to be dark,\n",
    "    from among those predicted to be dark (measure of positive epistasis).'''\n",
    "    \n",
    "    n_mut_mask = dataset['n_mut']==n_mut\n",
    "    bright_prediction_mask = dataset['expected_effect']>=threshold\n",
    "    dark_prediction_mask = dataset['expected_effect']<threshold\n",
    "    is_bright_mask = dataset['measured_effect']>=threshold\n",
    "    \n",
    "    bright_predicted = dataset[n_mut_mask & bright_prediction_mask]\n",
    "    bright_real = dataset[n_mut_mask & is_bright_mask & bright_prediction_mask]\n",
    "    dark_predicted = dataset[n_mut_mask & dark_prediction_mask]\n",
    "    dark_real = dataset[n_mut_mask & ~is_bright_mask & dark_prediction_mask]\n",
    "    \n",
    "    return len(bright_real)/len(bright_predicted)"
   ]
  },
  {
   "cell_type": "code",
   "execution_count": 7,
   "metadata": {},
   "outputs": [],
   "source": [
    "def plot_predicted_bright_vs_real(dataset, threshold=False):\n",
    "    stds = {'amac' : 0.03148308406723709, 'cgre' : 0.02852658185221242, 'pplu' : 0.027489382693326424,\n",
    "          'amacV14L' : 0.029670382945273337, 'av' : 0.0817635644945253}\n",
    "\n",
    "#     brightness_thresholds = {'amac':np.log10(3000), 'cgre':np.log10(6000), 'pplu':np.log10(5000), 'av':2, \n",
    "#                              'amacV14L':np.log10(3000), 'amacV14V':np.log10(3000)}\n",
    "    \n",
    "\n",
    "\n",
    "    n = 8\n",
    "    name = {'amac':'amacGFP', 'av':'avGFP', 'cgre':'cgreGFP', 'pplu':'ppluGFP2'}\n",
    "    \n",
    "    for gene in ['amac', 'cgre', 'pplu','av' ,]:\n",
    "        if threshold == False:\n",
    "            threshold = gate_borders_log[gene][0] - ref_wt_log[gene+'GFP']\n",
    "            \n",
    "        plt.plot([100 * get_ratio_predicted2observed_fluo(dataset[eval(gene+'_mask')], n_mut=i, \n",
    "                            threshold=threshold) for i in range(1,n)],\n",
    "                 color=colors[gene],label=name[gene], linewidth=3)\n",
    "            \n",
    "        plt.legend(loc='lower left', frameon=False)\n",
    "        plt.ylim(0,105)\n",
    "        plt.xticks(range(n-1), range(1,n))\n",
    "#         label_plot_axis(x='Number of amino acid substitutions',\n",
    "#                         y='Observed v. expected\\nfunctional genotypes (%)',)"
   ]
  },
  {
   "cell_type": "markdown",
   "metadata": {},
   "source": [
    "### Mini landscapes of single mutants"
   ]
  },
  {
   "cell_type": "code",
   "execution_count": 8,
   "metadata": {},
   "outputs": [],
   "source": [
    "singlemuts_landscapes = pd.read_csv('single_mutant_landscapes.csv', index_col=0)"
   ]
  },
  {
   "cell_type": "code",
   "execution_count": 9,
   "metadata": {},
   "outputs": [],
   "source": [
    "for n in [1,2,3,4,5,6,7]:\n",
    "    singlemuts_landscapes[str(n)] = singlemuts_landscapes[[str(n), f'n_obs:{n}']].apply(lambda x:\n",
    "                                                    x[0] if x[1] > 15 else np.nan, axis=1)"
   ]
  },
  {
   "cell_type": "code",
   "execution_count": 10,
   "metadata": {},
   "outputs": [],
   "source": [
    "def plot_singlemut_landscapes(gene):\n",
    "    meds = [data_aa[(data_aa.gene==gene) & (data_aa.n_mut==i)]['brightness'].median() for i in range(8)]\n",
    "    for i in singlemuts_landscapes[singlemuts_landscapes.gene==gene].index:\n",
    "        plt.plot(range(8), singlemuts_landscapes[singlemuts_landscapes.gene==gene].loc[i][0:8], \n",
    "             linewidth =1, color=colors[gene], alpha=0.2)\n",
    "    plt.plot(range(8), meds, color='k', linewidth=2)\n",
    "    plt.xticks(range(8),range(8))\n",
    "    legendary(['w'], [''], title=names[gene], loc='upper right', fontsize=12)\n",
    "    plt.ylabel('Fluorescence (log)', fontsize=10)\n",
    "    plt.xlabel('Number of mutations', fontsize=10)"
   ]
  },
  {
   "cell_type": "markdown",
   "metadata": {},
   "source": [
    "# Effect change of mutations across genes"
   ]
  },
  {
   "cell_type": "code",
   "execution_count": null,
   "metadata": {},
   "outputs": [],
   "source": [
    "def get_overall_fractions_cross_gene_effects(gene1, gene2, neutral_threshold, bad_threshold):\n",
    "    df = df_effects_singles[['effect_in_'+gene1, 'effect_in_'+gene2]].dropna() # muts must be obsered in both genes\n",
    "    df = df.reset_index()\n",
    "    \n",
    "    wts = {'amac' : 3.974485547944876, 'cgre' : 4.49832043653411, 'pplu' : 4.226492294827216,\n",
    "          'amacV14L' : 3.9577171946556176, 'av' : 3.726358457799625}\n",
    "    \n",
    "    stds = {'amac' : 0.03148308406723709, 'cgre' : 0.02852658185221242, 'pplu' : 0.027489382693326424,\n",
    "          'amacV14L' : 0.029670382945273337, 'av' : 0.0817635644945253}\n",
    "    \n",
    "    neutral_in_both_mask = (df['effect_in_'+gene1] > -stds[gene1]*neutral_threshold) & (\n",
    "                                        df['effect_in_'+gene2] > -stds[gene2]*neutral_threshold)\n",
    "    \n",
    "    bad_in_both_mask = (df['effect_in_'+gene1] < -stds[gene1]*bad_threshold) & (\n",
    "                                        df['effect_in_'+gene2] < -stds[gene2]*bad_threshold)\n",
    "    \n",
    "    changed_effect_mask = ((df['effect_in_'+gene1] > -stds[gene1]*neutral_threshold) & \n",
    "                            (df['effect_in_'+gene2] < -stds[gene2]*bad_threshold)) | (\n",
    "                            (df['effect_in_'+gene2] > -stds[gene2]*neutral_threshold) & \n",
    "                            (df['effect_in_'+gene1] < -stds[gene1]*bad_threshold))\n",
    "    \n",
    "#     print('neutral in both', len(df[neutral_in_both_mask]) / len(df))\n",
    "#     print('bad in both', len(df[bad_in_both_mask]) / len(df))\n",
    "#     print('changed effect', len(df[changed_effect_mask]), len(df))\n",
    "\n",
    "    return {'nn' : len(df[neutral_in_both_mask]) / len(df) ,\n",
    "           'bb' : len(df[bad_in_both_mask]) / len(df), 'bn' : len(df[changed_effect_mask]) / len(df),\n",
    "           'n_muts' : len(df)}"
   ]
  },
  {
   "cell_type": "code",
   "execution_count": null,
   "metadata": {},
   "outputs": [],
   "source": [
    "def get_overall_epistasis_overlap(gene1, gene2, e):\n",
    "    # get mutation pairs which are measured to be epistatic in one gene\n",
    "    # and measured as non-epistatic in another gene\n",
    "    \n",
    "    epairs1 = {x for x in epistatic_pairs_pos[gene1] if\n",
    "                                abs(max(epistatic_pairs_pos[gene1][x]))>e\n",
    "                            and x in epistatic_pairs_pos[gene2]}\n",
    "    \n",
    "    epairs2 = {x for x in epistatic_pairs_pos[gene2] if\n",
    "                                abs(max(epistatic_pairs_pos[gene2][x]))>e\n",
    "                            and x in epistatic_pairs_pos[gene1]}\n",
    "#     assert len(epairs1) == len(epairs2)\n",
    "    \n",
    "    eboth = [x for x in epairs1 if x in epairs2]\n",
    "    esingle = list(epairs1) + [x for x in epairs2 if x not in epairs1]\n",
    "#     esingle = [x for x in epairs1 if x not in epairs2] + [x for x in epairs2 if x not in epairs1]\n",
    "    \n",
    "    return [len(eboth) / len(esingle), len(esingle)]"
   ]
  },
  {
   "cell_type": "code",
   "execution_count": 11,
   "metadata": {},
   "outputs": [],
   "source": [
    "def plot_bars_effectchange_epimaintain_split(ax1, ax2, spread = 1.4, c=matplotlib.cm.bone(225)):\n",
    "    mako = ListedColormap(sns.color_palette('bone', 256))\n",
    "\n",
    "    shares = {}\n",
    "    fractions = {}\n",
    "    pairs = [('amac','amacV14L'), ('amac','av'),('amacV14L','av'),\n",
    "                 ('amac','cgre'), ('amacV14L', 'cgre'), ('av','cgre'),\n",
    "             ('amac','pplu'), ('amacV14L','pplu'), ('av','pplu'), ('cgre','pplu')]\n",
    "\n",
    "    \n",
    "#     names = {'amac' : 'Amac', 'cgre' : 'Cgre', 'pplu':'Pplu', 'av':'Av', 'amacV14L':'Amac:V12L'}\n",
    "    \n",
    "    for pair in pairs:\n",
    "        fractions[pair] = get_overall_fractions_cross_gene_effects(pair[0],pair[1],2,5)\n",
    "        shares[pair] = get_overall_epistasis_overlap(pair[0], pair[1], e=0.3)\n",
    "\n",
    "    # TOP PLOT\n",
    "    x = np.array([0, 2,3, 5,6,7, 9,10,11,12])\n",
    "    plt.sca(ax1)\n",
    "    plt.bar(x*spread, [100*fractions[pair]['bn'] for pair in pairs], width=0.8, color=c, edgecolor='k')\n",
    "    plt.ylabel('Neutrality change\\n(% of mutations)', fontsize=11)\n",
    "    \n",
    "    plt.xticks(x*spread, \n",
    "               [f'n = {fractions[pair][\"n_muts\"]}' for pair in pairs], \n",
    "               rotation=0, ha='center' ,  fontsize=10, va = 'top')#va='center_baseline')\n",
    "    \n",
    "    for i in range(len(pairs)):\n",
    "        plt.text(x = x[i]*spread, y = 1+ 100*fractions[pairs[i]]['bn'], #s = fractions[pairs[i]]['n_muts'],\n",
    "                 s = f'{names[pairs[i][1]]},\\n{names[pairs[i][0]]}', fontsize=9,\n",
    "                rotation = 0, ha='center', va='bottom')\n",
    "    plt.ylim(0,21)\n",
    "    \n",
    "    for xi in np.array([1,4,8])*spread:\n",
    "        plt.axvline(xi, linewidth=1, linestyle = ':', color='k')\n",
    "\n",
    "    for xi,div in zip(np.array([0,2.5,6,10.5])*spread, \n",
    "                        ['0.4% divergence', '18% divergence', '57-59% divergence', '81-83% divergence']):\n",
    "        plt.text(xi, 23, div, horizontalalignment='center', verticalalignment='center', fontsize=12)  \n",
    "    \n",
    "    \n",
    "    \n",
    "    # BOTTOM PLOT\n",
    "    plt.sca(ax2)\n",
    "    plt.bar(x*spread, [100*shares[pair][0] for pair in pairs], width=0.8, color=c, edgecolor='k')\n",
    "    plt.ylabel('Pairs of sites epistatic\\nin both genes (%)', fontsize=11)\n",
    "    plt.xticks(x*spread, ['']*len(x), rotation=0, ha='right' , fontsize=8, va='center_baseline')\n",
    "    plt.ylim(0,9)\n",
    "    \n",
    "    for i in range(len(pairs)):\n",
    "        plt.text(x = x[i]*spread, y = 0.5+ 100*shares[pairs[i]][0], #s = fractions[pairs[i]]['n_muts'],\n",
    "                 s = f'{names[pairs[i][1]]},\\n{names[pairs[i][0]]}', fontsize=9,\n",
    "                rotation = 0, ha='center', va='bottom')\n",
    "    plt.xticks(x*spread, \n",
    "               [f'n = {shares[pair][1]}' for pair in pairs], \n",
    "               rotation=0, ha='center' ,  fontsize=10, va = 'top')#va='center_baseline')\n",
    "        \n",
    "    for xi in np.array([1,4,8])*spread:\n",
    "        plt.axvline(xi, linewidth=1, linestyle = ':', color='k')\n",
    "        \n",
    "    \n",
    "#     plt.xlabel('Percent')\n"
   ]
  },
  {
   "cell_type": "markdown",
   "metadata": {},
   "source": [
    "# Testing neural net predictions"
   ]
  },
  {
   "cell_type": "code",
   "execution_count": null,
   "metadata": {},
   "outputs": [],
   "source": [
    "stds = {'amac' : 0.03148308406723709, 'cgre' : 0.02852658185221242, 'pplu' : 0.027489382693326424,\n",
    "          'amacV14L' : 0.029670382945273337, 'av' : 0.0817635644945253}"
   ]
  },
  {
   "cell_type": "code",
   "execution_count": null,
   "metadata": {},
   "outputs": [],
   "source": [
    "def load_predictions_data():\n",
    "    predictions = pd.read_csv(os.path.join(data_folder, 'predictions','experimentally_tested_predictions.csv'))\n",
    "    fiji_ctrls = {'cgre_wt': 246, 'cgre_neg': 5, 'amac_wt': 65, 'amac_neg': 4, 'pplu_wt': 191, 'pplu_neg': 4}\n",
    "    predictions['fiji_log_value'] = np.log10(predictions['fiji_value'])\n",
    "    \n",
    "    predictions['fiji_log_scaled'] = predictions[['fiji_log_value', 'gene']].apply(lambda x:\n",
    "                                        (x[0] - np.log10(fiji_ctrls[x[1]+'_neg'])) / \n",
    "                            (np.log10(fiji_ctrls[x[1]+'_wt']) -  np.log10(fiji_ctrls[x[1]+'_neg'])), axis=1)\n",
    "    \n",
    "    predictions['fiji_log_scaled'] = predictions['fiji_log_scaled'].apply(lambda x: x if x>0 else 0)\n",
    "    \n",
    "    minval = {gene : data_aa[data_aa.gene==gene]['brightness'].min() \n",
    "              for gene in ['amacGFP', 'cgreGFP', 'ppluGFP', 'avGFP']}\n",
    "    print(minval)\n",
    "    predictions['fiji_library_values'] = predictions[['fiji_log_scaled', 'gene']].apply(lambda x:\n",
    "                                    x[0] * (ref_wt_log[x[1]+'GFP'] - minval[x[1]+'GFP']) + minval[x[1]+'GFP']\n",
    "                                                                                  , axis=1    )\n",
    "    \n",
    "    return predictions"
   ]
  },
  {
   "cell_type": "code",
   "execution_count": null,
   "metadata": {},
   "outputs": [],
   "source": [
    "predictions = load_predictions_data()"
   ]
  },
  {
   "cell_type": "code",
   "execution_count": null,
   "metadata": {},
   "outputs": [],
   "source": [
    "def plot_all_vs_neutral_muts(gene, y_axis, threshold, df_effects, color, \n",
    "                             df = data_aa, borders = gate_borders_log):\n",
    "    df = df[(df['gene']==gene+'GFP')]\n",
    "    plot_half_violin([df[df['n_mut']==i][y_axis] for i in range(1,9)], side='left', \n",
    "                     color=color[1], alpha=1, widths=0.9, chonkylines=True)\n",
    "    bads = df_effects[df_effects['effect_in_'+gene] < -threshold].copy()\n",
    "    bads['full_mutation'] = bads[['wt_state_'+gene, 'position', 'mutation']].apply(lambda x:\n",
    "                                            x[0] + str(x[1]) + x[2], axis=1)\n",
    "    bads = set(bads['full_mutation'])\n",
    "    bads = {x for x in bads if '*' not in x}\n",
    "\n",
    "    df = df[(df['gene']==gene+'GFP') & ~(df['aa_genotype_pseudo'].str.contains('|'.join(bads)))]\n",
    "\n",
    "    plot_half_violin([df[df['n_mut']==i][y_axis] for i in range(1,9)], side='right', alpha=0.5, \n",
    "                     color=color[0], widths=0.9, chonkylines=True)\n",
    "\n",
    "    label_plot_axis(x = 'Number of mutations', t= gene+'GFP fitness')\n",
    "\n",
    "    if gene!='av':\n",
    "        plt.axhline(borders[gene][0], color='crimson', linewidth=1, linestyle='--',\n",
    "                   path_effects=[pe.Stroke(linewidth=3, foreground='w'), pe.Normal()])\n",
    "    "
   ]
  },
  {
   "cell_type": "code",
   "execution_count": null,
   "metadata": {},
   "outputs": [],
   "source": [
    "def plot_predictions(gene, color, threshold=0.15, ycol = 'fiji_library_values', \n",
    "                     df = df_effects_singles, mode='full',**kwargs):\n",
    "    c = ListedColormap(sns.color_palette('mako', 256))\n",
    "    pos = [1,2,3,4,5,6,7,8,12,18,24,30,36,42,48]\n",
    "    plot_all_vs_neutral_muts(gene, 'brightness', threshold, \n",
    "                                         df, color=color)\n",
    "\n",
    "    dummy = predictions[predictions['gene']==gene].copy()\n",
    "    dists = list(range(1,49))\n",
    "    for d in [6,12,18,24,30,36,42,48]:\n",
    "        dists.remove(d)\n",
    "    for d in dists:\n",
    "        dummy.loc[10000*d,'distance'] = d\n",
    "        dummy.loc[10000*d,'gene'] = gene\n",
    "    sns.swarmplot(data=dummy[dummy['gene']==gene], x='distance', y=ycol, color='k',\n",
    "                  edgecolor='w', linewidth=1, **kwargs)\n",
    "\n",
    "    dists = [dummy[dummy['distance']==x][ycol].median() for x in [6,12,18,24,30,36,42,48]]\n",
    "    plt.plot([x-1 for x in [6,12,18,24,30,36,42,48]], dists, color='k', linestyle='--', linewidth=1)\n",
    "    \n",
    "    plt.xticks([i-1 for i in pos], pos);"
   ]
  },
  {
   "cell_type": "markdown",
   "metadata": {},
   "source": [
    "# FACS library sorting"
   ]
  },
  {
   "cell_type": "code",
   "execution_count": 12,
   "metadata": {},
   "outputs": [
    {
     "name": "stderr",
     "output_type": "stream",
     "text": [
      "C:\\Users\\lgonzale\\AppData\\Local\\Continuum\\anaconda3\\lib\\site-packages\\FlowCytometryTools\\core\\docstring.py:56: MatplotlibDeprecationWarning: \n",
      "The dedent function was deprecated in Matplotlib 3.1 and will be removed in 3.3. Use inspect.cleandoc instead.\n",
      "  doc = dedent(doc)\n"
     ]
    }
   ],
   "source": [
    "from FlowCytometryTools import FCMeasurement\n",
    "from FlowCytometryTools import ThresholdGate, PolyGate, IntervalGate, QuadGate\n",
    "\n",
    "def transform_by_log10(dataset):\n",
    "    dataset = np.where(dataset<=1, 0, np.log10(dataset))\n",
    "    return dataset\n",
    "\n",
    "def determine_filename(gene, machine, ctrl):\n",
    "    path = os.path.join(data_folder, 'cell_sorting', 'fcs_files')\n",
    "    machine = 'GFP_' + machine + '__' if gene!='pplu' else 'GFP2_' + machine + '__'\n",
    "    if ctrl in ['ctrl', 'negctrl']:\n",
    "        name = 'negative_control'\n",
    "    else:\n",
    "        name = 'library'\n",
    "    filename = os.path.join(path, gene + machine + name + '.fcs')\n",
    "    return filename\n",
    "\n",
    "def load_fcs_data(filename):\n",
    "    fcs = FCMeasurement(ID=filename, datafile=filename)\n",
    "    cols = [x for x in fcs.data.columns if x!='Time']\n",
    "    fcs = fcs.transform(transform_by_log10, auto_range=False, use_spln=False, channels=cols)\n",
    "    for channel_name in ['GFP-A', 'FITC-A']:\n",
    "        if channel_name in fcs.data.columns:\n",
    "            fcs.data.rename(columns={channel_name:'GFP'}, inplace=True)\n",
    "    for channel_name in ['mCherry-A', 'PE-Texas Red-A']:\n",
    "        if channel_name in fcs.data.columns:\n",
    "            fcs.data.rename(columns={channel_name:'mKate2'}, inplace=True)\n",
    "    return fcs"
   ]
  },
  {
   "cell_type": "code",
   "execution_count": 13,
   "metadata": {},
   "outputs": [],
   "source": [
    "is_bacteria_gate = ThresholdGate(threshold=1, channel=['FSC-A'], region='above', name='is_bacteria_gate')\n",
    "\n",
    "# Based on sorting data pdfs from VBCF\n",
    "mKate2_gate_A = IntervalGate(vert=(3.2, 3.4), channel=['mKate2'], region='in', name='mKate2_gate_A')\n",
    "mKate2_gate_B = IntervalGate(vert=(3.4, 3.6), channel=['mKate2'], region='in', name='mKate2_gate_B')"
   ]
  },
  {
   "cell_type": "code",
   "execution_count": 14,
   "metadata": {},
   "outputs": [],
   "source": [
    "def sortingplot_library_scatter(gene, machine, fontscale=1, savepath=False):\n",
    "    redgate = {'A' : {'amac':(3.18, 3.35), 'cgre':(3.14, 3.32), 'pplu':(3.18, 3.44)},\n",
    "              'B' : {'amac':(3.4, 3.6), 'cgre':(3.29, 3.57), 'pplu':(3.28, 3.53)}}\n",
    "    if gene=='pplu':\n",
    "        gate_borders = pd.read_csv(os.path.join(data_folder, 'cell_sorting', 'ppluGFP2__gate_border_values.txt'),\n",
    "                              sep='\\t', index_col=0)\n",
    "    else:\n",
    "        gate_borders = pd.read_csv(os.path.join(data_folder, 'cell_sorting', gene+'GFP__gate_border_values.txt'),\n",
    "                                  sep='\\t', index_col=0)\n",
    "    gate_borders = {'A': np.log10(np.array(gate_borders.head(7)['upper_limit'])),\n",
    "                  'B': np.log10(np.array(gate_borders.iloc[8:15]['upper_limit']))}\n",
    "    \n",
    "    library = load_fcs_data(determine_filename(gene,machine,''))\n",
    "    library = library.gate(is_bacteria_gate).data.copy().replace(0,np.nan).sample(10000)\n",
    "    library[''] = 'Whole library'\n",
    "    ctrl = load_fcs_data(determine_filename(gene,machine,'ctrl'))\n",
    "    ctrl = ctrl.gate(is_bacteria_gate).data.copy().replace(0,np.nan).sample(1500)\n",
    "    ctrl[''] = 'Non-fluorescent controls'\n",
    "    data=pd.concat([library,ctrl])\n",
    "    data['sorted'] = data['mKate2'].apply(lambda x: True if \n",
    "                                          redgate[machine][gene][0]<x<redgate[machine][gene][1] else False)\n",
    "    \n",
    "    ax = sns.jointplot(data = data, x='GFP', y='mKate2', hue='', \n",
    "                       alpha=0.4, s=5, edgecolor=None, palette=['darkgrey', 'k',], )\n",
    "    ax.set_axis_labels('GFP fluorescence (log)','mKate2 fluorescence (log)', fontsize=10+fontscale)\n",
    "    ax.ax_joint.legend(frameon=False)\n",
    "\n",
    "    plt.sca(ax.ax_joint)\n",
    "    plt.scatter(data[data.sorted==True]['GFP'], data[data.sorted==True]['mKate2'], color='crimson', s=4, \n",
    "                label='Sorted cells', alpha=0.4)\n",
    "    legendary(['lightgrey', 'grey', 'crimson'], \n",
    "              ['Whole library', 'Non-fluorescent controls', 'Sorted cells'], fontsize=10+fontscale,\n",
    "             title='%sGFP library: sorter %s' % (gene,machine), title_fontsize=12+fontscale, loc='upper left')\n",
    "    plt.ylim(0,5.5)\n",
    "    plt.xlim(0,5.5)\n",
    "    plt.yticks(fontsize=10+fontscale)\n",
    "    plt.xticks(fontsize=10+fontscale)\n",
    "    \n",
    "    plt.sca(ax.ax_marg_x)\n",
    "    sns.kdeplot(x=data[data.sorted==True]['GFP'], color='crimson')\n",
    "    for border in gate_borders[machine]:\n",
    "        plt.axvline(border, color='crimson', linestyle='--', linewidth=1)\n",
    "    \n",
    "#     plt.fill_between([0,6], redgate[0], redgate[1], facecolor='r', edgecolor='w', alpha=0.4, linewidth=0,\n",
    "#                      hatch='////', )\n",
    "    return ax\n",
    "    if savepath:\n",
    "        savefig(savepath, dpi=300)"
   ]
  },
  {
   "cell_type": "markdown",
   "metadata": {},
   "source": [
    "# Extant vs non-extant mutations"
   ]
  },
  {
   "cell_type": "markdown",
   "metadata": {},
   "source": [
    "### Scatterplot: extant states becoming deleterious by background"
   ]
  },
  {
   "cell_type": "code",
   "execution_count": 16,
   "metadata": {},
   "outputs": [],
   "source": [
    "def compare_against_extant(gene, dataset, nok=-0.2, overlap_n=10, **kwargs):\n",
    "#     muts_all = set(dataset[singles_mask & eval(gene+'_mask')]['quasipos_genotype'])\n",
    "#     muts_nok = set(dataset[singles_mask & eval(gene+'_mask') \n",
    "#                        & (dataset.measured_effect < nok)]['quasipos_genotype'])\n",
    "#     namekey = {'amac':'GFPxm'}\n",
    "    gene_name = namekey[gene]\n",
    "    gene_wt = get_wt_states(gene_name)\n",
    "\n",
    "    muts_all = {x for x in eval('siffects_'+gene+'_log')}\n",
    "    muts_all = {x[0] + str(pseudopos_to_nativepos[int(x[1:-1])][genekey[gene]]) + x[-1] for x in muts_all}\n",
    "    muts_all = muts_all | {x[0:-1] + x[0] for x in muts_all}\n",
    "    muts_all = {str(nativepos_to_quasipos[int(x[1:-1])][gene_name]) + x[-1] for x in muts_all}\n",
    "    \n",
    "    muts_nok = {x for x in eval('siffects_'+gene+'_log') if eval('siffects_'+gene+'_log')[x] < nok}\n",
    "    muts_nok = {str(pseudopos_to_nativepos[int(x[1:-1])][genekey[gene]]) + x[-1] for x in muts_nok}\n",
    "    muts_nok = {str(nativepos_to_quasipos[int(x[:-1])][gene_name]) + x[-1] for x in muts_nok}\n",
    "\n",
    "    for extant in wts:\n",
    "        if extant=='RrGFP' or extant==namekey[gene]:\n",
    "#             print(extant)\n",
    "            pass\n",
    "        \n",
    "        else:\n",
    "            extant_ok = get_wt_states(extant)\n",
    "            extant_ok = {x for x in extant_ok if x not in gene_wt}\n",
    "                \n",
    "#             print(extant, m)\n",
    "            overlap = {x for x in extant_ok if x in muts_all}\n",
    "            if len(overlap) > overlap_n:\n",
    "                nok_in_gene = {x for x in overlap if x in muts_nok}\n",
    "                aa_id = 100 - pairwise[frozenset([extant, namekey[gene]])]\n",
    "\n",
    "                plt.scatter(aa_id, len(nok_in_gene) / len(overlap), color=colors[gene],**kwargs)\n",
    "#             print(gene,extant, len(overlap))        \n",
    "#     return x, y"
   ]
  },
  {
   "cell_type": "markdown",
   "metadata": {},
   "source": [
    "### Violins of extant vs non-extant mutation effects"
   ]
  },
  {
   "cell_type": "code",
   "execution_count": 18,
   "metadata": {},
   "outputs": [],
   "source": [
    "def plot_extant_vs_nonextant_muts(gene, dataset=data_aa, y_axis='brightness', palette='mako', n=5):\n",
    "    c = ListedColormap(sns.color_palette(palette, 256))\n",
    "    df = dataset[dataset.gene==gene+'GFP']\n",
    "    df['f_extant'] = df[['n_mut', 'n_mut_extant']].apply(lambda x:\n",
    "                                            'all' if x[0]==x[1] else 'none' if x[1]==0 else 'some', axis=1)\n",
    "    \n",
    "    plot_half_violin([df[(df['n_mut']==i) & (df['f_extant']=='none')][y_axis] for i in range(1,n)], \n",
    "                     side='left', \n",
    "                     color=[colors[gene],colors[gene]], alpha=1, widths=0.8, chonkylines=True)\n",
    "\n",
    "    plot_half_violin([df[(df['n_mut']==i) & (df['f_extant']=='all')][y_axis] for i in range(1,n)], \n",
    "                     side='right', alpha=1, linestyle='--', linewidth=1,\n",
    "                     color=['w',colors[gene]], widths=0.9, chonkylines=True)\n",
    "#     plt.ylim(df[y_axis].min() - 0.25, df[y_axis].max() + 0.1)\n",
    "\n",
    "    label_plot_axis(x = 'Number of mutations', t= gene+'GFP')\n",
    "    plt.xticks(range(n-1), range(1,1+n))"
   ]
  },
  {
   "cell_type": "markdown",
   "metadata": {},
   "source": [
    "# Mutation effects by position"
   ]
  },
  {
   "cell_type": "markdown",
   "metadata": {},
   "source": [
    "### Heatmap of median effects by position"
   ]
  },
  {
   "cell_type": "code",
   "execution_count": 20,
   "metadata": {},
   "outputs": [],
   "source": [
    "def plot_positional_effects_heatmap(df, func=np.nanmedian, cm='Blues_r'):\n",
    "    effects_amac = get_effects_by_position('amac', df, positions='pseudo', func=func)\n",
    "    effects_cgre = get_effects_by_position('cgre', df, positions='pseudo', func=func)\n",
    "    effects_pplu = get_effects_by_position('pplu', df, positions='pseudo', func=func)\n",
    "    effects_av = get_effects_by_position('av', df, positions='pseudo', func=func)\n",
    "\n",
    "    font = 'Arial'\n",
    "    \n",
    "    to_plot = np.array([effects_av, effects_amac, effects_cgre, effects_pplu, ])\n",
    "        \n",
    "    hm = sns.heatmap(to_plot, \n",
    "               cmap=cm, yticklabels=['avGFP','amacGFP', 'cgreGFP', 'ppluGFP2', ], xticklabels=10,\n",
    "               cbar_kws={'label': 'Median mutation effect', 'pad':0.01, 'fraction':0.05})\n",
    "\n",
    "    y = 0.5\n",
    "    for gene in ['av','amac','cgre','pplu']:\n",
    "        ss = pseudify(eval(gene+'_ss_pymol'), gene)\n",
    "        plot_secondary_structure(ss, y=y, hel=0.05, arrow_width=0.1, linewidth=1, c='k')\n",
    "        y += 1\n",
    "    plt.scatter([x+0.5 for x in buried_pos], [0 for x in buried_pos], color='k', s=50, marker=2)\n",
    "\n",
    "    plt.pcolor(np.arange(len(effects_amac)+1), np.arange(len(to_plot)+1), \n",
    "               np.ma.masked_less(np.array([[np.nan]*67+[10,10,10]+[np.nan]*178 for i in range(4)]), 5), \n",
    "               hatch='///', alpha=0)\n",
    "\n",
    "    label_plot_axis(x='Aligned amino acid position', t='Median effects of single mutations, by position')\n",
    "    plt.xticks(fontname=font)\n",
    "    plt.yticks(rotation=0, fontname=font)\n",
    "    plt.ylim(len(to_plot)+0.1, -0.1)\n",
    "    return to_plot, hm"
   ]
  },
  {
   "cell_type": "markdown",
   "metadata": {},
   "source": [
    "# Epistasis overview"
   ]
  },
  {
   "cell_type": "markdown",
   "metadata": {},
   "source": [
    "### Scatterplot of double mutant epistasis"
   ]
  },
  {
   "cell_type": "code",
   "execution_count": 22,
   "metadata": {},
   "outputs": [
    {
     "data": {
      "text/plain": [
       "<Figure size 432x288 with 0 Axes>"
      ]
     },
     "metadata": {},
     "output_type": "display_data"
    }
   ],
   "source": [
    "def doublemut_scatterplot(gene, cm=matplotlib.cm.Spectral):\n",
    "    df = doublemuts[doublemuts['gene']==gene+'GFP'].copy()\n",
    "    df['abs_epistasis'] = abs(df['epistasis'])\n",
    "    df.sort_values('abs_epistasis', inplace=True)\n",
    "    x,y,z = 'mut1_effect','mut2_effect','epistasis'\n",
    "    plt.scatter(df[x], df[y], alpha=0.8,\n",
    "               c=df[z], cmap=cm, s=5,vmin=-2, vmax=2)\n",
    "    label_plot_axis(x='Effect of first mutation', y='Effect of second mutation', t=gene+'GFP')\n",
    "#     cbar = plt.colorbar()\n",
    "#     cbar.ax.set_ylabel('Epistasis')\n",
    "plt.tight_layout()"
   ]
  },
  {
   "cell_type": "markdown",
   "metadata": {},
   "source": [
    "### Barplot: fraction of epistatic N-mutant genotypes"
   ]
  },
  {
   "cell_type": "code",
   "execution_count": null,
   "metadata": {},
   "outputs": [],
   "source": [
    "def barplot_epistasis(gene, e):\n",
    "    neg = [len(data_aa[(data_aa['gene']==gene+'GFP') & (data_aa['epistasis'] < -e) & (data_aa['n_mut']==i)]) / \n",
    "         len(data_aa[(data_aa['gene']==gene+'GFP') & (data_aa['n_mut']==i) & (data_aa['epistasis'].notnull())])\n",
    "        for i in range(2,9)]\n",
    "    pos = [len(data_aa[(data_aa['gene']==gene+'GFP') & (data_aa['epistasis'] > e) & (data_aa['n_mut']==i)]) / \n",
    "         len(data_aa[(data_aa['gene']==gene+'GFP') & (data_aa['n_mut']==i) & (data_aa['epistasis'].notnull())])\n",
    "        for i in range(2,9)]\n",
    "\n",
    "    plt.bar(range(len(neg)), neg, color=colors[gene])\n",
    "    plt.bar(range(len(neg)), pos, bottom=neg, color=colors[gene], alpha=1, hatch='///', \n",
    "            edgecolor='w', linewidth=0)\n",
    "    plt.xticks(range(len(neg)), range(2,11))\n",
    "    plt.ylim(0,0.25)\n",
    "    label_plot_axis(t=gene+'GFP', x='Number of mutations', y='Fraction of genotypes\\nwith epistasis over %s' % e);"
   ]
  },
  {
   "cell_type": "markdown",
   "metadata": {},
   "source": [
    "# Physical distance between epistatic pairs"
   ]
  },
  {
   "cell_type": "markdown",
   "metadata": {},
   "source": [
    "### Pairwise distances map"
   ]
  },
  {
   "cell_type": "code",
   "execution_count": 23,
   "metadata": {},
   "outputs": [],
   "source": [
    "def distances_heatmap(gene, epistasis=0.3,c ='mako'):\n",
    "    length = len(eval(gene+'_wt'))\n",
    "    name = {'amac':'amacGFP', 'av':'avGFP', 'cgre':'cgreGFP', 'pplu':'ppluGFP2'}\n",
    "    df = pd.read_csv(os.path.join(structure_folder, 'residue_distance_matrices', \n",
    "                                  name[gene]+'__minimal_distances_between_aa.csv'), index_col=0)\n",
    "    positional_max_e = np.zeros([length, length])\n",
    "    sites_to_ignore = [x for x in range(length) if x not in df.index]\n",
    "    \n",
    "    for i in range(length):\n",
    "        for j in range(length):\n",
    "            if str(i)+':'+str(j) in epistatic_pairs_pos[gene]:\n",
    "                positional_max_e[i,j] = max(map(abs, epistatic_pairs_pos[gene][str(i)+':'+str(j)]))\n",
    "\n",
    "    positional_max_e = np.delete(positional_max_e, sites_to_ignore, axis=1)\n",
    "    positional_max_e = np.delete(positional_max_e, sites_to_ignore, axis=0)\n",
    "\n",
    "    d = np.array(df)\n",
    "    sns.heatmap(data=d, square=True, cmap=c, mask=np.tril(d), cbar=False,\n",
    "                cbar_kws={'label': 'Minimum distance between residues (A)', 'shrink':1, 'pad':0.15})\n",
    "    ax = sns.heatmap(data=positional_max_e, mask=positional_max_e<0.3,square=True, alpha=1, \n",
    "                cmap='hot', cbar=False, vmin=0, vmax=0.3)\n",
    "    plt.ylim(0,len(d))\n",
    "    plt.xlim(0,len(d))\n",
    "    plt.xticks(range(0, len(d), 20), df.index[0::20], fontsize=8)\n",
    "    plt.yticks(range(0, len(d), 20), df.index[0::20], rotation=0, fontsize=8)\n",
    "    ax.yaxis.set_label_position('right')\n",
    "    ax.yaxis.tick_right()\n",
    "        \n",
    "    label_plot_axis(x='Amino acid position',y='Amino acid position', fontsize_x=10, fontsize_y=10)"
   ]
  },
  {
   "cell_type": "code",
   "execution_count": 24,
   "metadata": {},
   "outputs": [],
   "source": [
    "def setup_inset(ax, c):\n",
    "#     c = ListedColormap(sns.color_palette('mako', 256))\n",
    "    ax.spines['right'].set_visible(False)\n",
    "    ax.spines['top'].set_visible(False)\n",
    "    ax.spines['bottom'].set_visible(False)\n",
    "    ax.spines['left'].set_position('center')\n",
    "    plt.xticks(fontsize=12)\n",
    "    label_plot_axis(y='Distance between residues (A)', fontsize_y=8)\n",
    "    ax.text(0.1, 50, '|Epistasis| < 0.3', color=c(175))\n",
    "    ax.text(0.1, 45, '|Epistasis| > 0.3', color=c(75))\n",
    "    plt.ylim(0,50)"
   ]
  },
  {
   "cell_type": "code",
   "execution_count": 27,
   "metadata": {},
   "outputs": [],
   "source": [
    "def distances_violins(df, epistasis, palette='mako'):\n",
    "    c = ListedColormap(sns.color_palette(palette, 256))\n",
    "    df['e_above_threshold'] = df['epistasis'].apply(lambda x: True if abs(x)>epistasis else False)\n",
    "\n",
    "    sns.violinplot(data=df[(df.gene!='amacV14LGFP') & \n",
    "                                   (abs(df['epistasis'])>0)], \n",
    "                   x='gene', y='distance', hue='e_above_threshold', split=True, linewidth=0,\n",
    "                  palette=[c(75), c(175)], saturation=100, cut=0)\n",
    "    legendary([c(75), c(175)], ['No epistasis', 'Epistasis > %s' % epistasis], ncol=2, \n",
    "              loc='upper center')\n",
    "    label_plot_axis(y='Distance (A) between\\namino acid pairs', )"
   ]
  },
  {
   "cell_type": "code",
   "execution_count": 26,
   "metadata": {},
   "outputs": [],
   "source": [
    "def plot_all_distance_maps(df, e = 0.3, c = ListedColormap(sns.color_palette('mako', 256))):\n",
    "    df['e_above_threshold'] = df['epistasis'].apply(lambda x: True if abs(x)>e else False)\n",
    "    fig = plt.figure(figsize=[10,10], dpi=200)\n",
    "\n",
    "    \n",
    "\n",
    "    plt.subplot(2,2,1)\n",
    "    distances_heatmap('amac', c=c)\n",
    "    left, bottom, width, height = [0.02, 0.75, 0.14, 0.18]\n",
    "    ax1 = fig.add_axes([left, bottom, width, height])\n",
    "    ax = sns.violinplot(data=df[(df.gene=='amacGFP')], x='gene', y='distance', linewidth=0, cut=0,\n",
    "                  hue='e_above_threshold', split=True, palette=[c(175), c(75)], )\n",
    "    ax.get_legend().remove()\n",
    "    setup_inset(ax1, c)\n",
    "\n",
    "    plt.subplot(2,2,2)\n",
    "    distances_heatmap('cgre', c=c)\n",
    "    left, bottom, width, height = [0.52, 0.75, 0.14, 0.18]\n",
    "    ax2 = fig.add_axes([left, bottom, width, height])\n",
    "    ax = sns.violinplot(data=df[(df.gene=='cgreGFP')], x='gene', y='distance', linewidth=0, cut=0,\n",
    "                  hue='e_above_threshold', split=True, palette=[c(175), c(75)], )\n",
    "    ax.get_legend().remove()\n",
    "    setup_inset(ax2, c)\n",
    "\n",
    "    plt.subplot(2,2,3)\n",
    "    distances_heatmap('pplu', c=c)\n",
    "    left, bottom, width, height = [0.02, 0.25, 0.14, 0.18]\n",
    "    ax3 = fig.add_axes([left, bottom, width, height])\n",
    "    ax = sns.violinplot(data=df[(df.gene=='ppluGFP')], x='gene', y='distance', linewidth=0, cut=0,\n",
    "                  hue='e_above_threshold', split=True, palette=[c(175), c(75)], )\n",
    "    ax.get_legend().remove()\n",
    "    setup_inset(ax3, c)\n",
    "\n",
    "    plt.subplot(2,2,4)\n",
    "    distances_heatmap('av', c=c)\n",
    "    left, bottom, width, height = [0.52, 0.25, 0.14, 0.18]\n",
    "    ax4 = fig.add_axes([left, bottom, width, height])\n",
    "    ax = sns.violinplot(data=df[(df.gene=='avGFP')], x='gene', y='distance', linewidth=0, cut=0,\n",
    "                  hue='e_above_threshold', split=True, palette=[c(175), c(75)], )\n",
    "    ax.get_legend().remove()\n",
    "    setup_inset(ax4, c)\n",
    "\n",
    "    plt.tight_layout(pad=2)"
   ]
  },
  {
   "cell_type": "markdown",
   "metadata": {},
   "source": [
    "# Urea sensitivity"
   ]
  },
  {
   "cell_type": "markdown",
   "metadata": {},
   "source": [
    "### Urea denaturation spectra"
   ]
  },
  {
   "cell_type": "code",
   "execution_count": 29,
   "metadata": {},
   "outputs": [],
   "source": [
    "def import_plate_reader_data():\n",
    "#     spectra_fluo = pd.read_csv('urea_spectra_fluo_7_longform.txt', sep='\\t', index_col=0)\n",
    "    spectra_fluo = pd.read_csv(os.path.join(structure_folder, 'stability_measurements',\n",
    "                                           'urea__fluorescence_spectra.csv'), index_col=0)\n",
    "#     spectra_abs = pd.read_csv('urea_spectra_abs_longform.txt', sep='\\t', index_col=0)\n",
    "    spectra_abs = pd.read_csv(os.path.join(structure_folder, 'stability_measurements',\n",
    "                                           'urea__absorbance_spectra.csv'), index_col=0)\n",
    "\n",
    "    \n",
    "    spectra_fluo['\\nTreatment'] = spectra_fluo['treatment'].apply(lambda x: '9M urea' if x=='urea' else 'control')\n",
    "    spectra_fluo['hours'] = spectra_fluo['t'] * 25 / 60 #each fluorescence spectrum measurement takes ~25min\n",
    "    spectra_fluo['Gene'] = spectra_fluo['gene'].apply(lambda x: 'amacGFP' if x=='amac' else 'cgreGFP' if x=='cgre'\n",
    "                                                 else 'ppluGFP' if x=='pplu' else 'avGFP' if x=='av'\n",
    "                                                 else 'amacGFP_V14L' if x=='amacV14L' else 'blank')\n",
    "    \n",
    "    spectra_abs['\\nTreatment'] = spectra_abs['treatment'].apply(lambda x: '9M urea' if x=='urea' else 'control')\n",
    "    spectra_abs['hours'] = spectra_abs['t'] * 40 / 60 #each absorbance spectrum measurement takes ~40min\n",
    "    spectra_abs['Gene'] = spectra_abs['gene'].apply(lambda x: 'amacGFP' if x=='amac' else 'cgreGFP' if x=='cgre'\n",
    "                                                 else 'ppluGFP' if x=='pplu' else 'avGFP' if x=='av'\n",
    "                                                 else 'amacGFP_V14L' if x=='amacV14L' else 'blank')\n",
    "    return spectra_abs, spectra_fluo"
   ]
  },
  {
   "cell_type": "code",
   "execution_count": 30,
   "metadata": {},
   "outputs": [],
   "source": [
    "spectra_abs, spectra_fluo = import_plate_reader_data()"
   ]
  },
  {
   "cell_type": "code",
   "execution_count": 31,
   "metadata": {},
   "outputs": [],
   "source": [
    "def plot_spectra(gene, treatment, normed=True):\n",
    "    if normed==True:\n",
    "        y = 'signal_normalized'\n",
    "    elif normed==False:\n",
    "        y = 'signal'\n",
    "    for df,color in zip([spectra_abs, spectra_fluo], ['bone_r', 'mako_r']):\n",
    "            df = df.reset_index()\n",
    "            sns.lineplot(data=df[(df['treatment']==treatment) & (df['gene']==gene)\n",
    "                                 & (df['hours']<=57) & (df['Wavelength']<=650)],\n",
    "                        x='Wavelength', y=y, hue='t', ci=None, palette=color, legend=False)\n",
    "    plt.ylim(-0.1,1.1)\n",
    "    label_plot_axis()"
   ]
  },
  {
   "cell_type": "markdown",
   "metadata": {},
   "source": [
    "### Urea denaturation timelapse with curve"
   ]
  },
  {
   "cell_type": "code",
   "execution_count": 32,
   "metadata": {},
   "outputs": [],
   "source": [
    "from scipy.optimize import curve_fit\n",
    "\n",
    "def plot_urea_fluo_loss():\n",
    "\n",
    "    spectra_fluo['time_h'] = spectra_fluo['t'].apply(lambda x : x*(25/60)) # timepoints every 25min\n",
    "\n",
    "    for gene in ['pplu','av','amacV14L','amac','cgre',]:\n",
    "\n",
    "        xdata = spectra_fluo[(spectra_fluo.gene==gene) & (spectra_fluo.treatment=='urea') &\n",
    "                             (spectra_fluo.peak==True) ]['time_h']\n",
    "        ydata = spectra_fluo[(spectra_fluo.gene==gene) & (spectra_fluo.treatment=='urea') &\n",
    "                             (spectra_fluo.peak==True) ]['signal_normalized']\n",
    "\n",
    "        plt.scatter(xdata,ydata,\n",
    "                   color=colors[gene], label=gene, s=1, alpha=0.5)\n",
    "        ax = sns.lineplot(data = spectra_fluo[(spectra_fluo.treatment=='urea') & (spectra_fluo.peak==True)\n",
    "                                             & (spectra_fluo.gene==gene)], \n",
    "                     x = 'time_h', y = 'signal_normalized', ci=None, color=colors[gene])\n",
    "        ax.get_legend().remove()\n",
    "\n",
    "        if gene=='av':\n",
    "            def curvy(x,a1,k1):\n",
    "                return a1 * np.exp(-k1 * x)\n",
    "        elif gene=='pplu' or gene=='cgre':\n",
    "            def curvy(x,a0,a1,k1):\n",
    "                return a0 + a1 * np.exp(-k1 * x)\n",
    "        elif gene=='amac' or gene=='amacV14L':\n",
    "            def curvy(x,a0,a1,k1,a2,k2):\n",
    "                return a0 + a1 * np.exp(-k1 * x) + a2 * np.exp(-k2 * x) \n",
    "        elif gene=='cgre':\n",
    "            def curvy(x,a0,a1,k1,a2,k2, c2):\n",
    "                return a0 + a1 * np.exp(-k1 * x) + a2 * np.exp(-k2 * (x-c2)**2) \n",
    "\n",
    "        if gene !='cgre':\n",
    "            popt, pcov = curve_fit(curvy,  xdata,  ydata, maxfev=100000)\n",
    "\n",
    "            x = np.linspace(0, 57, 1000)\n",
    "            y = curvy(x, *popt)\n",
    "            plt.plot(x,y, color='k', linewidth =1 )"
   ]
  },
  {
   "cell_type": "markdown",
   "metadata": {},
   "source": [
    "### Post-urea refolding curves"
   ]
  },
  {
   "cell_type": "code",
   "execution_count": null,
   "metadata": {},
   "outputs": [],
   "source": [
    "def plot_refolding(time='short'):\n",
    "    assert time in ['short','long']\n",
    "    \n",
    "    def curvy(x, y0 ,a, b, c, d,e,f):\n",
    "        y = y0 + a * np.exp(-b*x) + c * np.exp(-d * x) + e * np.exp(-f * x)\n",
    "        return (y) \n",
    "    \n",
    "    if time=='short':\n",
    "        rf = pd.read_csv(os.path.join(structure_folder, 'stability_measurements', \n",
    "                                   'refolding_post_urea__20min.csv'), index_col=0)\n",
    "        for gene in ['amac','amacV14L','cgre','pplu','av']:\n",
    "            xdata = rf[rf.gene==gene]['time']\n",
    "            ydata = rf[rf.gene==gene]['fluorescence_normed']\n",
    "            plt.xticks(range(0, 1201, 120), range(0,21,2))\n",
    "            label_plot_axis(y = 'Fluorescence', x = 'Time (min)')\n",
    "            plt.scatter(xdata,ydata, color=colors[gene], label=gene, s=1, alpha=0.5)\n",
    "\n",
    "            popt, pcov = curve_fit(curvy,  xdata,  ydata, maxfev=100000)\n",
    "            x = np.linspace(0, 1250, 1250)\n",
    "            y = curvy(x, *popt)\n",
    "            plt.plot(x,y, color='k', linewidth =1 )\n",
    "        \n",
    "    elif time=='long':\n",
    "        rf = pd.read_csv(os.path.join(structure_folder, 'stability_measurements', \n",
    "                                   'refolding_post_urea__overnight.csv'), index_col=0)\n",
    "        ax = sns.lineplot(data = rf, x = 'time', y = 'fluorescence_normed', hue='gene', ci = 'sd',\n",
    "            palette = [colors[gene] for gene in ['cgre','av','amacV14L','amac','pplu']])\n",
    "        label_plot_axis(y = 'Fluorescence', x = 'Time (hours)')\n",
    "        ax.get_legend().remove()\n",
    "        plt.xticks(range(0,51000,3600), range(0,15))"
   ]
  },
  {
   "cell_type": "markdown",
   "metadata": {},
   "source": [
    "# amacGFP vs amacGFP:V12L"
   ]
  },
  {
   "cell_type": "markdown",
   "metadata": {},
   "source": [
    "### Amac vs V14L: mut effects, medians, epistasis"
   ]
  },
  {
   "cell_type": "code",
   "execution_count": 33,
   "metadata": {},
   "outputs": [],
   "source": [
    "def scatter_amac_v14l_mut_effects():\n",
    "    density_plot(np.array(df_effects_singles['effect_in_amacV14L']), np.array(df_effects_singles['effect_in_amac']),\n",
    "            s=10, cmap='bone')\n",
    "    plt.yticks([-1,-0.5,0])\n",
    "    label_plot_axis(x='Mutation effect in amacGFP:V12L', y='Mutation effect in amacGFP')"
   ]
  },
  {
   "cell_type": "code",
   "execution_count": 34,
   "metadata": {},
   "outputs": [],
   "source": [
    "def amac_v14l_nmut_medians(n = 8):\n",
    "    plt.plot(range(n), [data_aa[amacV14V_mask & (data_aa.n_mut==i)]['brightness'].median() for i in range(n)],\n",
    "        color=cm(75), linewidth=3, label = 'amacGFP')\n",
    "    plt.plot(range(n), [data_aa[amacV14L_mask & (data_aa.n_mut==i)]['brightness'].median() for i in range(n)],\n",
    "            color=cm(0), linewidth=3, label = 'amacGFP:V12L', )\n",
    "    plt.plot(range(n), [data_aa[amacV14V_mask & (data_aa.n_mut==i)]['brightness'].mean() for i in range(n)],\n",
    "            color=cm(75), linewidth=3, linestyle='--')\n",
    "    plt.plot(range(n), [data_aa[amacV14L_mask & (data_aa.n_mut==i)]['brightness'].mean() for i in range(n)],\n",
    "            color=cm(0), linewidth=3, linestyle='--',)\n",
    "    label_plot_axis(y='Fluorescence (log)',x='Number of mutations')\n",
    "    plt.legend(frameon=False, fontsize=12)\n",
    "    plt.xticks(range(n))"
   ]
  },
  {
   "cell_type": "code",
   "execution_count": 36,
   "metadata": {},
   "outputs": [],
   "source": [
    "def amac_v14l_obs_exp_bright():\n",
    "    cutoff = gate_borders_log['amac'][1] - ref_wt_log['amacGFP']\n",
    "    plt.plot([get_ratio_predicted2observed_fluo(data_aa[amac_mask], n_mut=i, \n",
    "                                threshold=cutoff) for i in range(1,8)],\n",
    "                     color=cm(75),label='amacGFP', linewidth=3)\n",
    "    plt.plot([get_ratio_predicted2observed_fluo(data_aa[amacV14L_mask], n_mut=i, \n",
    "                                threshold=cutoff) for i in range(1,8)],\n",
    "                     color=cm(0),label='amacGFP:V12L', linewidth=3)\n",
    "    plt.legend(frameon=False, fontsize=12)\n",
    "    label_plot_axis(x='Number of mutations', \n",
    "                   y='Functional genotypes\\nexplained without epistasis')\n",
    "    plt.ylim(0.,1.05)\n",
    "    plt.xticks(range(7),range(1,8))"
   ]
  },
  {
   "cell_type": "markdown",
   "metadata": {},
   "source": [
    "### Amac vs V14L: examples of differences in mutation effect"
   ]
  },
  {
   "cell_type": "code",
   "execution_count": null,
   "metadata": {},
   "outputs": [],
   "source": [
    "def get_mutposeffect(data, y_column, x_val, x_column='position', s_column='mutation'):\n",
    "    df = data[data[x_column]==x_val]\n",
    "    return list(df[y_column]), list(df[s_column])\n",
    "\n",
    "def set_x_coordinates(list_of_yvals, list_of_labels, y_distance_threshold, center_x, x_distance):\n",
    "    '''Tries to find non-overlapping x coordinates for text-swarmplot'''\n",
    "    yvals_to_labels = dict(zip(list_of_yvals, list_of_labels))\n",
    "    list_of_yvals = sorted([x for x in list_of_yvals if str(x)!='nan'])\n",
    "    list_of_xvals = [center_x for x in list_of_yvals]\n",
    "    \n",
    "    ref_y = 0\n",
    "    multiplier = 1\n",
    "#     original_x_distance = x_distance\n",
    "    current_x_spacer = x_distance\n",
    "    \n",
    "#     print(list_of_yvals)\n",
    "    \n",
    "    for i in range(1, len(list_of_yvals)):\n",
    "\n",
    "        if abs(list_of_yvals[i] - list_of_yvals[ref_y]) < y_distance_threshold:\n",
    "#             print(i, 'too close')\n",
    "            list_of_xvals[i] += multiplier*current_x_spacer\n",
    "            multiplier *= (-1)\n",
    "            if multiplier== 1:\n",
    "#                 print(i, 'multiply -1')\n",
    "                current_x_spacer+=x_distance\n",
    "        else:\n",
    "            ref_y = i\n",
    "            current_x_spacer = x_distance\n",
    "#             print(i, 'new ref')\n",
    "\n",
    "    return list_of_xvals, list_of_yvals, [yvals_to_labels[y] for y in list_of_yvals]"
   ]
  },
  {
   "cell_type": "code",
   "execution_count": 37,
   "metadata": {},
   "outputs": [],
   "source": [
    "def amac_v14l_mutposeffect(positions = [1, 69, 73, 77, 81, 83, 87, 88, 153, 160, 184, 195, 198]):\n",
    "\n",
    "    plt.fill_between([-1,17], [-0.07,-0.07], [0.07,0.07], color='lightgrey')\n",
    "    df_effects_singles['native_position_amac'] = df_effects_singles['position'].apply(lambda x:\n",
    "                                                        pseudopos_to_nativepos[x][1])\n",
    "    df_effects_singles['effect_amacV14L_minus_amac'] = df_effects_singles['effect_in_amacV14L'] - df_effects_singles['effect_in_amac']\n",
    "    for j in range(len(positions)):\n",
    "        yvals, labels = get_mutposeffect(df_effects_singles, y_column='effect_amacV14L_minus_amac', \n",
    "                                     x_column = 'native_position_amac', x_val=positions[j])\n",
    "        xvals, yvals, labels = set_x_coordinates(yvals, labels, y_distance_threshold=0.15, \n",
    "                                             center_x=j, x_distance=0.15)\n",
    "        for i in range(len(yvals)):\n",
    "            plt.text(x = xvals[i] , y = yvals[i], s=labels[i], size='medium', color=cm(75) if j==0 else 'k',\n",
    "                   verticalalignment='center', horizontalalignment='center', weight='semibold')\n",
    "    plt.xlim(-1,len(positions))\n",
    "    plt.ylim(-1,1)\n",
    "    plt.xticks(range(len(positions)), [str(pos)+'\\n'+amac_wt[pos] for pos in positions], fontsize=12)\n",
    "    label_plot_axis(x='Position and wildtype state in sequence', y='Difference in effect')"
   ]
  },
  {
   "cell_type": "markdown",
   "metadata": {},
   "source": [
    "# Synonymous mutations"
   ]
  },
  {
   "cell_type": "code",
   "execution_count": 38,
   "metadata": {},
   "outputs": [],
   "source": [
    "bcs = pd.read_csv(os.path.join(data_folder, 'final_datasets',\n",
    "                              'avGFP_amacGFP_cgreGFP_ppluGFP2__wt_and_synonymous_barcodes.csv'))"
   ]
  },
  {
   "cell_type": "code",
   "execution_count": 39,
   "metadata": {},
   "outputs": [],
   "source": [
    "def plot_wts_and_synmuts(gene, bc_data, xticks=[3,3.5,4,4.5], yticks=[100,500,1000], cellcount=50):\n",
    "    ntwt = bc_data[(bc_data.nt_genotype.isnull()) & (bc_data.gene==gene)]\n",
    "    aawt = bc_data[(bc_data.aa_genotype_native.isnull()) & (bc_data.nt_genotype.notnull()) & (bc_data.gene==gene)]\n",
    "    \n",
    "    if gene!= 'avGFP':\n",
    "        ntwt = ntwt[ntwt.clone_cell_count > cellcount]\n",
    "        aawt = aawt[aawt.clone_cell_count > cellcount]\n",
    "        \n",
    "    aabins = {'avGFP':10, 'amacGFP':10, 'cgreGFP':60, 'ppluGFP':20}\n",
    "    \n",
    "    sns.histplot(data = ntwt['log_brightness'],\n",
    "                        bins=70, element='poly', color=colors[gene], fill=True, linewidth=0, \n",
    "                         label = f'Nucleotide WTs \\n(n = {len(ntwt)})')\n",
    "    \n",
    "    sns.histplot(data = aawt['log_brightness'],\n",
    "                    bins=aabins[gene], element='poly', color='k', fill=False, linewidth=2, linestyle='--', \n",
    "                     label=f'Synonymous mutants \\n(n = {len(aawt)})', )\n",
    "     \n",
    "    plt.title(gene)\n",
    "    plt.xlabel('Fluorescence (log)', fontsize=12)\n",
    "    plt.ylabel('Number of barcodes', fontsize=12)\n",
    "    plt.xticks(xticks,xticks)\n",
    "    plt.yticks(yticks,yticks)\n",
    "    \n",
    "    p = scipy.stats.mannwhitneyu(ntwt['log_brightness'], aawt['log_brightness'], alternative='two-sided')\n",
    "    plt.legend(loc='upper left', frameon=False, title=f'MWU, p = {round(p[1],2)}')"
   ]
  },
  {
   "cell_type": "markdown",
   "metadata": {},
   "source": [
    "# Protein thermostability"
   ]
  },
  {
   "cell_type": "markdown",
   "metadata": {},
   "source": [
    "### Differential scanning fluorimetry"
   ]
  },
  {
   "cell_type": "code",
   "execution_count": null,
   "metadata": {},
   "outputs": [],
   "source": [
    "dsf = pd.read_csv(os.path.join(structure_folder, 'stability_measurements',\n",
    "                              'dsf_data__av_amac_amacV14L_cgre_pplu.csv'))"
   ]
  },
  {
   "cell_type": "code",
   "execution_count": null,
   "metadata": {},
   "outputs": [],
   "source": [
    "dsf_tm_ratio = {}\n",
    "for gene in set(dsf['gene']):\n",
    "    t = list(dsf[(dsf.gene==gene)]['temperature'])\n",
    "    r = list(dsf[(dsf.gene==gene)]['unfolding_ratio_deriv'])\n",
    "    if gene == 'cgre' or gene == 'av':\n",
    "        i = r.index(max(r))\n",
    "        dsf_tm_ratio[gene] = t[i]\n",
    "    else:\n",
    "        i = r.index(min(r))\n",
    "        dsf_tm_ratio[gene] = t[i]\n",
    "        \n",
    "dsf_tm_scatter = {}\n",
    "for gene in set(dsf['gene']):\n",
    "    t = list(dsf[(dsf.gene==gene)]['temperature'])\n",
    "    r = list(dsf[(dsf.gene==gene)]['unfolding_scatter_deriv'])\n",
    "    i = r.index(max(r))\n",
    "    dsf_tm_scatter[gene] = t[i]"
   ]
  },
  {
   "cell_type": "code",
   "execution_count": null,
   "metadata": {},
   "outputs": [],
   "source": [
    "def plot_dsf(what='ratio', fontsize=12):\n",
    "    assert what in ['ratio','scatter']\n",
    "    ax = sns.lineplot(data = dsf, \n",
    "             x='temperature', y=f'unfolding_{what}_deriv', hue='gene', linewidth=2,\n",
    "            ci='sd', palette = [colors[gene] for gene in ['pplu', 'amac', 'amacV14L', 'cgre', 'av']])\n",
    "    \n",
    "    for gene in ['av','pplu','amac','amacV14L','cgre']:\n",
    "        plt.axvline(eval(f'dsf_tm_{what}')[gene], color=colors[gene], linestyle='--', linewidth=2)\n",
    "        \n",
    "    plt.xlabel('Temperature (C)', fontsize=fontsize)\n",
    "    plt.xticks(range(20,111,10),range(20,111,10))\n",
    "    ax.get_legend().remove()"
   ]
  },
  {
   "cell_type": "markdown",
   "metadata": {},
   "source": [
    "### Differential scanning calorimetry"
   ]
  },
  {
   "cell_type": "code",
   "execution_count": 40,
   "metadata": {},
   "outputs": [],
   "source": [
    "dsc = pd.read_csv(os.path.join(structure_folder, 'stability_measurements',\n",
    "                              'dsc_data__av_amac_amacV14L_cgre_pplu.csv'))"
   ]
  },
  {
   "cell_type": "code",
   "execution_count": null,
   "metadata": {},
   "outputs": [],
   "source": [
    "dsc_tm = {}\n",
    "for gene in set(dsc['gene']):\n",
    "    t1 = list(dsc[(dsc.gene==gene) & (dsc.replicate==0)]['temperature'])\n",
    "    t2 = list(dsc[(dsc.gene==gene) & (dsc.replicate==1)]['temperature'])\n",
    "    m1 =  list(dsc[(dsc.gene==gene) & (dsc.replicate==0)]['Cp_kJ/mol/K'])\n",
    "    m2 = list(dsc[(dsc.gene==gene) & (dsc.replicate==1)]['Cp_kJ/mol/K'])\n",
    "    if gene=='cgre132':\n",
    "        tm = t1[m1.index(max(m1))]\n",
    "    else:\n",
    "        tm = (t1[m1.index(max(m1))] + t2[m2.index(max(m2))]) / 2\n",
    "    dsc_tm[gene] = tm"
   ]
  },
  {
   "cell_type": "code",
   "execution_count": null,
   "metadata": {},
   "outputs": [],
   "source": [
    "def plot_dsc(fontsize=12):\n",
    "    ax = sns.lineplot(data = dsc, \n",
    "             x='temperature', y='Cp_kJ/mol/K', ci=None, hue='gene', style='replicate', dashes=False,\n",
    "            palette = [colors[gene] for gene in ['pplu','amac','V14L','cgre','av']], linewidth=2)\n",
    "    \n",
    "    for gene in ['av','amac','V14L','cgre','pplu']:\n",
    "        plt.axvline(dsc_tm[gene], color=colors[gene], linestyle='--', linewidth=2)\n",
    "    plt.xlabel('Temperature (C)', fontsize=fontsize)\n",
    "    ax.get_legend().remove()"
   ]
  },
  {
   "cell_type": "markdown",
   "metadata": {},
   "source": [
    "### qPCR melting curves"
   ]
  },
  {
   "cell_type": "code",
   "execution_count": 41,
   "metadata": {},
   "outputs": [],
   "source": [
    "qpcr = pd.read_csv(os.path.join(structure_folder, 'stability_measurements',\n",
    "                              'qpcr_melting_curves.csv'))\n",
    "qpcr = qpcr[qpcr.gene!='blank'].copy()"
   ]
  },
  {
   "cell_type": "code",
   "execution_count": 42,
   "metadata": {},
   "outputs": [],
   "source": [
    "qpcr_tm = {}\n",
    "for gene in set(qpcr['gene']):\n",
    "    t = list(qpcr[(qpcr.gene==gene)]['temperature'])\n",
    "    m = list(qpcr[(qpcr.gene==gene)]['value'])\n",
    "    tm = t[m.index(max(m))]\n",
    "    qpcr_tm[gene] = tm"
   ]
  },
  {
   "cell_type": "code",
   "execution_count": 43,
   "metadata": {},
   "outputs": [],
   "source": [
    "def plot_qpcr(what='melt', fontsize=12):\n",
    "    ax = sns.lineplot(data = qpcr,\n",
    "                      x='temperature', y='value', hue='gene', ci='sd',\n",
    "                      palette=[colors[gene] for gene in ['amac','amacV14L','av','pplu','cgre']], linewidth=2)\n",
    "    ax.get_legend().remove()\n",
    "    plt.xlabel('Temperature (C)', fontsize=fontsize)\n",
    "    for gene in ['av','amac','amacV14L','cgre',]:\n",
    "        plt.axvline(qpcr_tm[gene], color=colors[gene], linewidth=2, linestyle='--')"
   ]
  },
  {
   "cell_type": "markdown",
   "metadata": {},
   "source": [
    "### Circular dichroism "
   ]
  },
  {
   "cell_type": "code",
   "execution_count": 45,
   "metadata": {},
   "outputs": [],
   "source": [
    "cd_spectra = pd.read_csv(os.path.join(structure_folder, 'stability_measurements',\n",
    "                              'cd_spectra_200to260.csv'))\n",
    "cd_melt = pd.read_csv(os.path.join(structure_folder, 'stability_measurements',\n",
    "                              'cd_melting_curves.csv'))"
   ]
  },
  {
   "cell_type": "code",
   "execution_count": 46,
   "metadata": {},
   "outputs": [],
   "source": [
    "cd_spectra['buffer'] = list(cd_spectra[cd_spectra.gene=='buffer']['value']) * 6\n",
    "cd_spectra['value_normed'] = cd_spectra[['value','buffer']].apply(lambda x: x[0]-x[1], axis=1)"
   ]
  },
  {
   "cell_type": "code",
   "execution_count": 47,
   "metadata": {},
   "outputs": [],
   "source": [
    "def plot_cd_spectra(gene, fontsize=12):\n",
    "    sns.lineplot(data = cd_spectra[(cd_spectra.gene==gene) & ~((cd_spectra.nm<=205)&(cd_spectra.temp==98))], \n",
    "                 x='nm', y='value_normed', style='temp', color=colors[gene], linewidth=2)\n",
    "    if gene=='av':\n",
    "        plt.axvline(208, color='k', linestyle = ':', linewidth=2)\n",
    "        plt.axvline(218, color='grey', linestyle=':', linewidth=2)\n",
    "    else:\n",
    "        plt.axvline(218, color='k', linestyle=':', linewidth=2)\n",
    "    \n",
    "    plt.xlabel('Wavelength (nm)', fontsize=fontsize)\n",
    "    plt.ylabel('CD (mdeg)', fontsize=fontsize)\n",
    "    legendary(['k','k'], ['30C', '98C'], edges=['-','--'], style='lines', title='Temperature', loc='upper right')"
   ]
  },
  {
   "cell_type": "code",
   "execution_count": null,
   "metadata": {},
   "outputs": [],
   "source": [
    "def sigmoid(x, L ,x0, k, b):\n",
    "    y = L / (1 + np.exp(-k*(x-x0)))+b\n",
    "    return (y)\n",
    "\n",
    "def cd_melt_fit(gene):\n",
    "    nm = 208 if gene=='av' else 218\n",
    "    xdata = cd_melt[(cd_melt.gene==gene) & (cd_melt.nm == nm)]['temperature']\n",
    "    ydata = cd_melt[(cd_melt.gene==gene) & (cd_melt.nm == nm)]['value'] \n",
    "    guess = 80 if gene=='amac' else 75\n",
    "    p0 = [max(ydata), guess, 1, min(ydata)]\n",
    "    popt, pcov = curve_fit(sigmoid, xdata, ydata, p0)\n",
    "    print(f'{gene}: L = {popt[0]}, x0 = {popt[1]}, k = {popt[2]}, b = {popt[3]}')\n",
    "    return popt"
   ]
  },
  {
   "cell_type": "code",
   "execution_count": null,
   "metadata": {},
   "outputs": [],
   "source": [
    "def plot_cd_melting(gene, fontsize=12):\n",
    "    nm = 208 if gene=='av' else 218\n",
    "    xdata = cd_melt[(cd_melt.gene == gene) & (cd_melt.nm == nm)]['temperature']\n",
    "    ydata = cd_melt[(cd_melt.gene == gene) & (cd_melt.nm == nm)]['value']\n",
    "    \n",
    "    if gene == 'av':\n",
    "        plt.scatter(cd_melt[(cd_melt.gene == gene) & (cd_melt.nm == 218)]['temperature'],\n",
    "                   cd_melt[(cd_melt.gene == gene) & (cd_melt.nm == 218)]['value'], \n",
    "                    color='lightgrey', s=3)\n",
    "    \n",
    "    plt.scatter(xdata, ydata, color=colors[gene], s=3, alpha=0.7)\n",
    "    plt.xlabel('Temperature (C)', fontsize=fontsize)\n",
    "    plt.ylabel('CD (mdeg)', fontsize=fontsize)\n",
    "    \n",
    "    x = np.linspace(30, 100, 100)\n",
    "    popt = cd_melt_fit(gene)\n",
    "    y = sigmoid(x, *popt)\n",
    "    plt.plot(x,y, color='w', linewidth =6 )\n",
    "    plt.plot(x,y, color='k', linewidth =2 )\n",
    "    plt.axvline(popt[1], linewidth = 2, linestyle='--', color=colors[gene])"
   ]
  },
  {
   "cell_type": "markdown",
   "metadata": {},
   "source": [
    "# SEC-MALS"
   ]
  },
  {
   "cell_type": "code",
   "execution_count": 48,
   "metadata": {},
   "outputs": [],
   "source": [
    "sec = pd.read_csv(os.path.join(structure_folder, 'secmals',\n",
    "                              'secmals_raw.csv'))\n",
    "sec_peaks = pd.read_csv(os.path.join(structure_folder, 'secmals',\n",
    "                              'secmals_peak_weights.csv'))"
   ]
  },
  {
   "cell_type": "code",
   "execution_count": 49,
   "metadata": {},
   "outputs": [],
   "source": [
    "sec_bestrep = {'amac':1, 'av':2, 'pplu':1, 'V14L':2, 'cgre':2}"
   ]
  },
  {
   "cell_type": "code",
   "execution_count": 50,
   "metadata": {},
   "outputs": [],
   "source": [
    "# label data\n",
    "peak_num = {'V14L':{4:(9.53, 89193, 0.45), 3:(9.9, 76369,1.06), 2:(10.5, 55843,31.27), 1:(11.5,28909,67.22)},\n",
    "           'amac': {4:(9.57,110977,0.68), 3:(9.9,87143,1.92), 2:(10.5, 56064,46.09), 1:(11.5,30114,51.31)},\n",
    "           'cgre': {2:(9.5,106915,0.7), 1:(11,55082,99.3)},\n",
    "           'pplu': {1:(11.5, 104228, 97.51), 2:(8.2, 1341321, 2.49)},\n",
    "           'av':{1:(11.5, 30166, 99.08), 2:(10.26, 51169, 0.92)}}"
   ]
  },
  {
   "cell_type": "code",
   "execution_count": 52,
   "metadata": {},
   "outputs": [],
   "source": [
    "def plot_secmals_curves(sec = sec, legend=False, cm=sns.cm.mako, gene='amac', loc=(1,1,1)):\n",
    "    ax1 = plt.subplot(*loc)\n",
    "    df = sec[(sec.gene==gene) & (sec.replicate==sec_bestrep[gene]) & (sec.retention_volume_mL<13)]\n",
    "    plt.plot(df['retention_volume_mL'], df['refractive_index_mV'], color=cm(125), label='Refractive index')\n",
    "    plt.plot(df['retention_volume_mL'], df['ultraviolet_mV'], color=cm(200), label='Ultraviolet')\n",
    "#     plt.plot(df['retention_volume_mL'], df['right_angle_light_scatter_mV']-82)\n",
    "    plt.xlim(6,13)\n",
    "    plt.title(names[gene], fontsize=16)\n",
    "    plt.xlabel('Retention volume (mL)', fontsize=14)\n",
    "    \n",
    "    if legend==True:\n",
    "        plt.ylabel('Refractive index (mV), Ultraviolet (mV)', fontsize=14)\n",
    "        legendary([cm(50), cm(125), cm(200)], ['Molecular weight', 'Refractive index', 'Ultraviolet'],\n",
    "                 loc='upper left', fontsize=12)\n",
    "        \n",
    "    y = ax1.get_ylim()\n",
    "    j = 0\n",
    "    for peak in sorted(peak_num[gene]):\n",
    "        plt.text(6.5, y[1]/2 - j, \n",
    "                 f'Peak {peak} ({peak_num[gene][peak][2]}%):\\nMw = {peak_num[gene][peak][1]}', color=cm(50),\n",
    "                size=12)\n",
    "        j += y[1]/8\n",
    "        \n",
    "    \n",
    "    ax2 = ax1.twinx()\n",
    "    df = sec_peaks[(sec_peaks.gene==gene) & (sec_peaks.replicate==sec_bestrep[gene])]\n",
    "    plt.plot(df['retention_volume_mL'], df['molecular_weight_g/mol'], color=cm(50), linewidth=2,\n",
    "            label = 'Molecular weight')\n",
    "\n",
    "    plt.yscale('log')\n",
    "    plt.ylim(1, 10000000)\n",
    "    \n",
    "    if i==10:\n",
    "        plt.ylabel('Molecular weight (g/mol)', fontsize=14)    \n",
    "\n",
    "    for peak in peak_num[gene]:\n",
    "        plt.text(peak_num[gene][peak][0], peak_num[gene][peak][1], peak, color=cm(50), weight='semibold',\n",
    "                horizontalalignment='center', verticalalignment='bottom', fontsize=16)"
   ]
  },
  {
   "cell_type": "markdown",
   "metadata": {},
   "source": [
    "# ddG predicitons vs data"
   ]
  },
  {
   "cell_type": "code",
   "execution_count": 53,
   "metadata": {},
   "outputs": [],
   "source": [
    "def ddg_scatter(gene):\n",
    "    df = data_aa[singles_mask & eval(gene+'_mask') & ~chromomut_mask]\n",
    "    df = df[~(df.aa_genotype_pseudo.str.contains('G|P'))]\n",
    "    df = df[['brightness', 'ddG_prediction']].dropna()\n",
    "    \n",
    "    a = np.array(df['brightness'])\n",
    "    b = np.array(df['ddG_prediction'])\n",
    "    \n",
    "    corr = scipy.stats.spearmanr(b,a,nan_policy='omit')\n",
    "    \n",
    "    label_plot_axis(x='Fluorescence (log)', y='ddG prediction', t=names[gene])\n",
    "    plt.scatter(a,b, color='k', s=4,)\n",
    "\n",
    "    plt.scatter(a,b, color=colors[gene], s=3, alpha=0.5)\n",
    "    plt.text(df['brightness'].min(), 45, f'rs = {round(corr[0],2)}', fontsize=12,)\n",
    "    plt.ylim(-15,50)"
   ]
  },
  {
   "cell_type": "code",
   "execution_count": null,
   "metadata": {},
   "outputs": [],
   "source": [
    "def ddg_violins(gene):\n",
    "    df = data_aa[singles_mask & eval(gene+'_mask') & ~chromomut_mask]\n",
    "    df = df[~(df.aa_genotype_pseudo.str.contains('G|P'))]\n",
    "    df = df[['brightness', 'ddG_prediction']].dropna()\n",
    "    \n",
    "    g = 'amac' if gene=='amacV14L' else gene\n",
    "    threshold = 3 if gene=='av' else gate_borders_log[g][0]\n",
    "    df['fitness_level'] = df['brightness'].apply(lambda x: 'bright' if x > ref_wt_log[gene+'GFP'] - 0.06\n",
    "                                                else 'dark' if x < threshold else np.nan)\n",
    "    \n",
    "    df['gene'] = names[gene]\n",
    "    ax = sns.violinplot(data = df[df.fitness_level.notnull()], x='gene', y='ddG_prediction', hue='fitness_level',\n",
    "                  split=True, cut=0, linewidth = 2, inner=None, hue_order=['bright','dark'])\n",
    "    \n",
    "    patch_violinplot(['w', colors[gene], ], [colors[gene], colors[gene]])\n",
    "    legendary([ 'w',colors[gene]], ['Bright', 'Dark'], edges=[colors[gene], colors[gene]],\n",
    "             loc='upper left', title='Genotypes')\n",
    "    label_plot_axis(y='ddG')\n",
    "    plt.xticks([])\n",
    "    ax.spines['top'].set_visible(False)\n",
    "    ax.spines['right'].set_visible(False)\n",
    "    ax.spines['bottom'].set_visible(False)\n",
    "    ax.spines['left'].set_position('center')"
   ]
  },
  {
   "cell_type": "markdown",
   "metadata": {},
   "source": [
    "# Mutagenesis nucleotide bias"
   ]
  },
  {
   "cell_type": "code",
   "execution_count": 1,
   "metadata": {},
   "outputs": [],
   "source": [
    "aatype_to_aa = {'aliphatic':'AILMV', 'aromatic':'FWY', 'positive_charge':'RHK', 'negative_charge':'DE',\n",
    "                   'polar_uncharged':'STNQ', 'other':'CGP'}\n",
    "aa_to_aatype = {aa : [aatype] for aatype in aatype_to_aa for aa in aatype_to_aa[aatype]}\n",
    "aa_to_aatype['H'] = ['aromatic','positive_charge']"
   ]
  },
  {
   "cell_type": "code",
   "execution_count": 2,
   "metadata": {},
   "outputs": [],
   "source": [
    "def count_mut_by_type(nt_genotype, aa_genotype, mode):\n",
    "    assert mode in ['indel', 'syn', 'type_change', 'type_keep']\n",
    "    \n",
    "    if mode=='indel':\n",
    "        return nt_genotype.count('.')\n",
    "    \n",
    "    elif mode=='syn':\n",
    "        if aa_genotype=='wt':\n",
    "            return len(nt_genotype.split(':'))\n",
    "        else:\n",
    "            aamuts = aa_genotype.split(':')\n",
    "            return len(nt_genotype.split(':')) - len(aamuts)\n",
    "        \n",
    "    elif mode=='type_keep':\n",
    "        if aa_genotype=='wt':\n",
    "            return 0\n",
    "        else:\n",
    "            aamuts = aa_genotype.split(':')\n",
    "            aamuts = [x for x in aamuts if '*' not in x and '.' not in x]\n",
    "            return len([m for m in aamuts if len(set(aa_to_aatype[m[0]])&set(aa_to_aatype[m[-1]]))>0])\n",
    "        \n",
    "    elif mode=='type_change':\n",
    "        if aa_genotype=='wt':\n",
    "            return 0\n",
    "        else:\n",
    "            aamuts = aa_genotype.split(':')\n",
    "            aamuts = [x for x in aamuts if '*' not in x and '.' not in x]\n",
    "            return len([m for m in aamuts if len(set(aa_to_aatype[m[0]])&set(aa_to_aatype[m[-1]]))==0])"
   ]
  },
  {
   "cell_type": "code",
   "execution_count": 3,
   "metadata": {},
   "outputs": [],
   "source": [
    "def get_ntmut_stats(dataset, gene):\n",
    "    muts = list(dataset[(dataset.gene == gene)]['nt_genotype'])\n",
    "    muts = [x for x in muts if x!='wt']\n",
    "    muts = ':'.join(muts).split(':')\n",
    "    \n",
    "    if gene == 'amacGFP':\n",
    "        muts = [x for x in muts if x!='G33T']\n",
    "        \n",
    "#     print(len(muts))    \n",
    "        \n",
    "    stats = {}\n",
    "    for wt in 'ATCG':\n",
    "        for m in 'ATCG':\n",
    "            if wt!=m:\n",
    "                stats[wt+'>'+m] = len([x for x in muts if x[0]==wt and x[-1]==m]) / len(muts)\n",
    "                \n",
    "    return stats"
   ]
  },
  {
   "cell_type": "code",
   "execution_count": 5,
   "metadata": {},
   "outputs": [],
   "source": [
    "def weight(genotype):\n",
    "    muts = genotype.split(':')\n",
    "    muts = [f'{x[0]}>{x[-1]}' for x in muts]\n",
    "    w = 1\n",
    "    for x in muts:\n",
    "        w *= comps[x]\n",
    "    return w"
   ]
  },
  {
   "cell_type": "code",
   "execution_count": 6,
   "metadata": {},
   "outputs": [],
   "source": [
    "def classify_nonsyn_broad(dataset, gene):\n",
    "    muts = dataset[(dataset.gene==gene) & (dataset.n_indel==0)]['aa_genotype_pseudo']\n",
    "#     muts = dataset[(dataset.gene==gene) & (dataset.n_mut<9)]['aa_genotype_native']\n",
    "    muts = ':'.join(muts).split(':')\n",
    "    muts = [x for x in muts if x!='wt' and '*' not in x and '.' not in x]\n",
    "#     print(gene, len(muts))\n",
    "    \n",
    "    changers = [x for x in muts if len(set(aa_to_aatype[x[0]]) & set(aa_to_aatype[x[-1]]))==0]\n",
    "    keepers = [x for x in muts if len(set(aa_to_aatype[x[0]]) & set(aa_to_aatype[x[-1]]))>0]\n",
    "    \n",
    "    return {'AA type change' : len(changers) / len(muts), 'No AA type change' : len(keepers) / len(muts)}"
   ]
  },
  {
   "cell_type": "code",
   "execution_count": 7,
   "metadata": {},
   "outputs": [],
   "source": [
    "def do_sims(data_nt, n_sims, sample_size=15000):\n",
    "    medians = {i:[] for i in range(1,9)}\n",
    "    sample_stats = {mut : [] for mut in comps}\n",
    "    sample_stats_aa = {aachange :[] for aachange in ['AA type change', 'No AA type change']}\n",
    "    \n",
    "    for sim in range(n_sims):\n",
    "        sample = data_nt[data_nt.gene=='avGFP'].sample(n=sample_size, \n",
    "                                                       weights = data_nt[data_nt.gene=='avGFP']['mut_weight'])\n",
    "        for i in range(1,9):\n",
    "            medians[i].append(sample[sample.n_nt_mut==i]['log_brightness'].median())\n",
    "        \n",
    "        stats = get_ntmut_stats(sample, 'avGFP')\n",
    "        for mut in sample_stats:\n",
    "            sample_stats[mut].append(stats[mut])\n",
    "            \n",
    "        stats_aa = classify_nonsyn_broad(sample,'avGFP')\n",
    "        for mut in sample_stats_aa:\n",
    "            sample_stats_aa[mut].append(stats_aa[mut])\n",
    "            \n",
    "    return medians, sample_stats, sample_stats_aa"
   ]
  },
  {
   "cell_type": "code",
   "execution_count": 8,
   "metadata": {},
   "outputs": [],
   "source": [
    "def plot_ntmut_types(data):\n",
    "    data['mut_weight'] = data['nt_genotype'].apply(lambda x: 0 if x=='wt' or '.' in x or '*' in x\n",
    "                                               else weight(x)**2)\n",
    "    for mo in ['indel', 'syn', 'type_change', 'type_keep']:\n",
    "        data['n_'+mo] = data[['nt_genotype','aa_genotype_pseudo']].apply(lambda x:\n",
    "                                                    count_mut_by_type(x[0], x[1], mo), axis=1)\n",
    "    \n",
    "    sims_medians, sims_stats, sims_aa_stats = do_sims(data, 10, 15000)\n",
    "    \n",
    "    x = np.arange(12)\n",
    "    plt.bar(x - 0.3, height = stats['amacGFP'].values(), width = 0.1, label = 'amacGFP', color=colors['amac'])\n",
    "    plt.bar(x - 0.15, height = stats['cgreGFP'].values(), width = 0.1, label = 'cgreGFP', color=colors['cgre'])\n",
    "    plt.bar(x, height = stats['ppluGFP'].values(), width = 0.1, label = 'ppluGFP2',color=colors['pplu'])\n",
    "    plt.bar(x + 0.15, height = stats['avGFP'].values(), width = 0.1, label = 'avGFP',color=colors['av'])\n",
    "    plt.bar(x + 0.3, height = [np.mean(sims_stats[x]) for x in sims_stats], width = 0.1, label = 'Subsampled avGFP',\n",
    "                       yerr = [np.std(sims_stats[x]) for x in sims_stats], color=colors['av'], hatch='///')\n",
    "    \n",
    "    plt.legend(frameon=False, loc='upper right', fontsize=13)\n",
    "    plt.xticks(x, comps.keys(), fontsize=13)\n",
    "    plt.ylabel('Fraction of total \\nnucleotide mutations', fontsize=13)"
   ]
  },
  {
   "cell_type": "code",
   "execution_count": null,
   "metadata": {},
   "outputs": [],
   "source": [
    "def plot_avGFP_mutbias(data):\n",
    "    data['mut_weight'] = data['nt_genotype'].apply(lambda x: 0 if x=='wt' or '.' in x or '*' in x\n",
    "                                               else weight(x)**2)\n",
    "    for mo in ['indel', 'syn', 'type_change', 'type_keep']:\n",
    "        data['n_'+mo] = data[['nt_genotype','aa_genotype_pseudo']].apply(lambda x:\n",
    "                                                    count_mut_by_type(x[0], x[1], mo), axis=1)\n",
    "    \n",
    "    sims_medians, sims_stats, sims_aa_stats = do_sims(data, 10, 15000)\n",
    "    plt.axhline(3, linestyle='--', color='crimson')\n",
    "    plt.errorbar(range(1,9), [np.mean(sims_medians[x]) for x in sims_medians], color=colors['av'], linewidth=4,\n",
    "                 yerr=[np.std(sims_medians[x]) for x in sims_medians], label='Subsampled\\navGFP', zorder=0)\n",
    "    plt.plot(range(1,9), [data_nt[(data_nt.gene=='avGFP') & (data_nt.n_nt_mut==i)]['log_brightness'].median() \n",
    "                            for i in range(1,9)], marker='x', linewidth=0, label='avGFP', color='k', zorder=1)\n",
    "    plt.ylabel('Median brightness', fontsize=13)\n",
    "    plt.xlabel('Number of mutations', fontsize=13)\n",
    "    plt.xticks(range(1,9),range(1,9))\n",
    "    plt.legend(frameon=False, loc='lower left')"
   ]
  },
  {
   "cell_type": "code",
   "execution_count": null,
   "metadata": {},
   "outputs": [],
   "source": [
    "def plot_aatypechange(data):\n",
    "    data['mut_weight'] = data['nt_genotype'].apply(lambda x: 0 if x=='wt' or '.' in x or '*' in x\n",
    "                                               else weight(x)**2)\n",
    "    for mo in ['indel', 'syn', 'type_change', 'type_keep']:\n",
    "        data['n_'+mo] = data[['nt_genotype','aa_genotype_pseudo']].apply(lambda x:\n",
    "                                                    count_mut_by_type(x[0], x[1], mo), axis=1)\n",
    "    sims_medians, sims_stats, sims_aa_stats = do_sims(data, 10, 15000)\n",
    "    \n",
    "    x = np.arange(2)\n",
    "    for xi,gene in zip([-0.3,-0.15,0,0.15],['amacGFP', 'cgreGFP', 'ppluGFP','avGFP']):\n",
    "        nchange = data[(data.gene==gene) & (data.n_indel==0)]['n_type_change'].sum()\n",
    "        nkeep = data[(data.gene==gene) & (data.n_indel==0)]['n_type_keep'].sum()\n",
    "        ntot = nchange + nkeep\n",
    "#         print(gene, [100*nchange/ntot, 100*nkeep/ntot])\n",
    "        plt.bar([0+xi, 1+xi], height = [100*nchange/ntot, 100*nkeep/ntot], color=colors[gene], width=0.12)\n",
    "    plt.bar([0.3, 1.3], height=[100*np.mean(sims_aa_stats[t]) for t in sims_aa_stats.keys()],\n",
    "           color=colors['av'], hatch='//',width=0.12)\n",
    "    plt.xticks([0,1], ['AA type\\nchange', 'AA type\\nmaintenance'], fontsize=13)\n",
    "    plt.ylabel('Non-synonymous\\nmutations (%)', fontsize=13)"
   ]
  }
 ],
 "metadata": {
  "kernelspec": {
   "display_name": "Python 3",
   "language": "python",
   "name": "python3"
  },
  "language_info": {
   "codemirror_mode": {
    "name": "ipython",
    "version": 3
   },
   "file_extension": ".py",
   "mimetype": "text/x-python",
   "name": "python",
   "nbconvert_exporter": "python",
   "pygments_lexer": "ipython3",
   "version": "3.7.6"
  }
 },
 "nbformat": 4,
 "nbformat_minor": 2
}
