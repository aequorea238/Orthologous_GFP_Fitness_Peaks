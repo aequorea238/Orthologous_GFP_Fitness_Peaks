{
 "cells": [
  {
   "cell_type": "code",
   "execution_count": 1,
   "metadata": {},
   "outputs": [],
   "source": [
    "%run lgs00_general_functions.ipynb\n",
    "%run lgs01_functions_for_getting_aa_pseudopositions.ipynb"
   ]
  },
  {
   "cell_type": "code",
   "execution_count": 2,
   "metadata": {},
   "outputs": [],
   "source": [
    "%run lgs02_natural_FP_alignment.ipynb"
   ]
  },
  {
   "cell_type": "markdown",
   "metadata": {},
   "source": [
    "## Data import"
   ]
  },
  {
   "cell_type": "markdown",
   "metadata": {},
   "source": [
    "### Amino acid genotypes"
   ]
  },
  {
   "cell_type": "code",
   "execution_count": 3,
   "metadata": {},
   "outputs": [],
   "source": [
    "data_aa = pd.read_csv(os.path.join(data_folder, 'final_datasets', \n",
    "                                'amacGFP_cgreGFP_ppluGFP2__final_aminoacid_genotypes_to_brightness.csv'),)\n",
    "data_aa['log_brightness'] = data_aa['replicates_mean_brightness'].apply(lambda x: np.log10(x))\n",
    "\n",
    "av_aa = pd.read_csv(os.path.join(data_folder, 'final_datasets', \n",
    "                                 'avGFP__rf_aminoacid_genotypes_to_brightness.csv'))\n",
    "av_aa['gene'] = 'avGFP'\n",
    "\n",
    "cols = ['aa_genotype_native', 'aa_genotype_pseudo', 'gene', 'log_brightness']\n",
    "data_aa = pd.concat([data_aa[cols], av_aa[cols]])\n"
   ]
  },
  {
   "cell_type": "code",
   "execution_count": 4,
   "metadata": {},
   "outputs": [],
   "source": [
    "data_aa = data_aa.set_index(['aa_genotype_pseudo','gene'])\n",
    "\n",
    "ref_wt_log = {gene : data_aa.loc[('wt',gene), 'log_brightness']\n",
    "                            for gene in ['amacGFP', 'avGFP', 'cgreGFP', 'ppluGFP']}\n",
    "ref_wt_log['amacV14LGFP'] = data_aa.loc[('V14L', 'amacGFP'), 'log_brightness']\n",
    "\n",
    "data_aa = data_aa.reset_index().set_index('gene')\n",
    "\n",
    "ref_min_log = {gene : data_aa.loc[gene]['log_brightness'].min()\n",
    "                          for gene in ['amacGFP', 'avGFP', 'cgreGFP', 'ppluGFP']}\n",
    "ref_min_log['amacV14LGFP'] = data_aa.loc['amacGFP']['log_brightness'].min()\n",
    "\n",
    "data_aa = data_aa.reset_index()"
   ]
  },
  {
   "cell_type": "markdown",
   "metadata": {},
   "source": [
    "#### Get scaled values (0 = minimum value, 1 = wt)"
   ]
  },
  {
   "cell_type": "code",
   "execution_count": 5,
   "metadata": {},
   "outputs": [],
   "source": [
    "def get_scaled_effects(gene, data):\n",
    "    if gene=='amacV14LGFP':\n",
    "        df = data[(data.gene == 'amacGFP') & (data.aa_genotype_pseudo.str.contains('V14L'))].copy()\n",
    "        df['gene'] = 'amacV14LGFP'\n",
    "        df['aa_genotype_pseudo'] = df['aa_genotype_pseudo'].apply(lambda x: x.replace('V14L:', ''))\n",
    "        df['aa_genotype_pseudo'] = df['aa_genotype_pseudo'].apply(lambda x: x.replace(':V14L', ''))\n",
    "        df['aa_genotype_native'] = df['aa_genotype_native'].apply(lambda x: x.replace('V11L:', ''))\n",
    "        df['aa_genotype_native'] = df['aa_genotype_native'].apply(lambda x: x.replace(':V11L', ''))\n",
    "        df['aa_genotype_pseudo'] = df['aa_genotype_pseudo'].apply(lambda x: x.replace('V14L', 'wt'))\n",
    "        df['aa_genotype_native'] = df['aa_genotype_native'].apply(lambda x: x.replace('V11L', 'wt'))\n",
    "    \n",
    "    else:\n",
    "        df = data[data.gene == gene].copy()\n",
    "        \n",
    "    df['measured_effect_log'] = df['log_brightness'] - ref_wt_log[gene]\n",
    "    df['scaled_brightness'] = (df['log_brightness'] - ref_min_log[gene]) / (ref_wt_log[gene] - ref_min_log[gene])\n",
    "    df['measured_effect_scaled'] = df['scaled_brightness'] - 1\n",
    "    df['n_mut'] = df['aa_genotype_pseudo'].apply(lambda x: x.count(':')+1 if x!='wt' else 0)\n",
    "    \n",
    "    return df"
   ]
  },
  {
   "cell_type": "code",
   "execution_count": 6,
   "metadata": {},
   "outputs": [],
   "source": [
    "amac = get_scaled_effects('amacGFP', data_aa)\n",
    "cgre = get_scaled_effects('cgreGFP', data_aa)\n",
    "pplu = get_scaled_effects('ppluGFP', data_aa)\n",
    "av = get_scaled_effects('avGFP', data_aa)\n",
    "amacV14L = get_scaled_effects('amacV14LGFP', data_aa)"
   ]
  },
  {
   "cell_type": "markdown",
   "metadata": {},
   "source": [
    "#### Get effects of single mutations"
   ]
  },
  {
   "cell_type": "code",
   "execution_count": 8,
   "metadata": {},
   "outputs": [],
   "source": [
    "def get_singlemut_effects(data):\n",
    "    df = data[data.n_mut==1]\n",
    "    singles_effects_log = dict(zip(df['aa_genotype_pseudo'], df['measured_effect_log']))\n",
    "    singles_effects_scaled = dict(zip(df['aa_genotype_pseudo'], df['measured_effect_scaled']))\n",
    "    return singles_effects_log, singles_effects_scaled"
   ]
  },
  {
   "cell_type": "code",
   "execution_count": 9,
   "metadata": {},
   "outputs": [],
   "source": [
    "siffects_amacV14L_log, siffects_amacV14L_scaled = get_singlemut_effects(amacV14L)\n",
    "siffects_amac_log, siffects_amac_scaled = get_singlemut_effects(amac)\n",
    "siffects_pplu_log, siffects_pplu_scaled = get_singlemut_effects(pplu)\n",
    "siffects_av_log, siffects_av_scaled = get_singlemut_effects(av)\n",
    "siffects_cgre_log, siffects_cgre_scaled = get_singlemut_effects(cgre)"
   ]
  },
  {
   "cell_type": "markdown",
   "metadata": {},
   "source": [
    "Get dataframe with only single mutations"
   ]
  },
  {
   "cell_type": "code",
   "execution_count": 10,
   "metadata": {},
   "outputs": [],
   "source": [
    "def combine_singlemut_effects(scaled=False):\n",
    "    if scaled == False:\n",
    "        sif_amac = omit_wt_state(siffects_amac_log)\n",
    "        sif_amacV14L = omit_wt_state(siffects_amacV14L_log)\n",
    "        sif_av = omit_wt_state(siffects_av_log)\n",
    "        sif_cgre = omit_wt_state(siffects_cgre_log)\n",
    "        sif_pplu = omit_wt_state(siffects_pplu_log)\n",
    "    elif scaled == True:\n",
    "        sif_amac = omit_wt_state(siffects_amac_scaled)\n",
    "        sif_amacV14L = omit_wt_state(siffects_amacV14L_scaled)\n",
    "        sif_av = omit_wt_state(siffects_av_scaled)\n",
    "        sif_cgre = omit_wt_state(siffects_cgre_scaled)\n",
    "        sif_pplu = omit_wt_state(siffects_pplu_scaled)\n",
    "    \n",
    "    all_aasubs = set(list(sif_amac.keys()) + list(sif_amacV14L.keys()) + list(sif_av.keys())\n",
    "                    + list(sif_cgre.keys()) + list(sif_pplu.keys()))\n",
    "    all_aasubs = {x:[] for x in all_aasubs}\n",
    "    for x in all_aasubs:\n",
    "        for gene in ['av', 'amac', 'cgre', 'pplu', 'amacV14L']:\n",
    "            all_aasubs[x].extend([eval('sif_'+gene)[x] if x in eval('sif_'+gene) else np.nan])\n",
    "\n",
    "    \n",
    "    df = pd.DataFrame({'effect_in_av' : np.array(list(all_aasubs.values()))[:,0],\n",
    "                            'effect_in_amac' : np.array(list(all_aasubs.values()))[:,1],\n",
    "                          'effect_in_amacV14L' : np.array(list(all_aasubs.values()))[:,4],\n",
    "                          'effect_in_cgre' : np.array(list(all_aasubs.values()))[:,2],\n",
    "                          'effect_in_pplu' : np.array(list(all_aasubs.values()))[:,3],\n",
    "                           'aa_genotype_pseudo' : list(all_aasubs.keys())}    )\n",
    "    \n",
    "    df['wt_state_av'] = df['aa_genotype_pseudo'].apply(lambda x: pseudopos_to_nativeaa[int(x[:-1])][0])\n",
    "    df['wt_state_amac'] = df['aa_genotype_pseudo'].apply(lambda x: pseudopos_to_nativeaa[int(x[:-1])][1])\n",
    "    df['wt_state_cgre'] = df['aa_genotype_pseudo'].apply(lambda x: pseudopos_to_nativeaa[int(x[:-1])][2])\n",
    "    df['wt_state_pplu'] = df['aa_genotype_pseudo'].apply(lambda x: pseudopos_to_nativeaa[int(x[:-1])][3])\n",
    "    \n",
    "    df = df.set_index('aa_genotype_pseudo')\n",
    "    df['position'] = list(df.reset_index()['aa_genotype_pseudo'].apply(lambda x: int(x[:-1])))\n",
    "    df['mutation'] = list(df.reset_index()['aa_genotype_pseudo'].apply(lambda x: x[-1]))\n",
    "    \n",
    "    return df"
   ]
  },
  {
   "cell_type": "code",
   "execution_count": 11,
   "metadata": {},
   "outputs": [],
   "source": [
    "df_effects_singles = combine_singlemut_effects()"
   ]
  },
  {
   "cell_type": "code",
   "execution_count": 12,
   "metadata": {},
   "outputs": [],
   "source": [
    "df_effects_singles_scaled = combine_singlemut_effects(True)"
   ]
  },
  {
   "cell_type": "markdown",
   "metadata": {},
   "source": [
    "#### Get expected fitnesses (additive, no epistasis assumption)"
   ]
  },
  {
   "cell_type": "code",
   "execution_count": 13,
   "metadata": {},
   "outputs": [],
   "source": [
    "def get_expected_effect(muts_str, siffects_dict, min_brightness, max_brightness):\n",
    "    muts = muts_str.split(':')\n",
    "    expectation = 0 \n",
    "    try:\n",
    "        for m in muts:\n",
    "            expectation += siffects_dict[m]\n",
    "        if expectation > max_brightness:\n",
    "            return max_brightness\n",
    "        elif expectation < min_brightness:\n",
    "            return min_brightness\n",
    "        else:\n",
    "            return expectation\n",
    "    except:\n",
    "        return np.nan\n",
    "    \n",
    "    \n",
    "    \n",
    "def get_expected_effect_df(data, gene, column):\n",
    "\n",
    "    if 'log' in column:    \n",
    "        min_fluo = data[column].min() - ref_wt_log[gene+'GFP']\n",
    "        max_fluo = data[column].max() - ref_wt_log[gene+'GFP']\n",
    "        sifs = eval('siffects_'+gene+'_log')\n",
    "        data['expected_effect_log'] = data['aa_genotype_pseudo'].apply(lambda x: \n",
    "                                            get_expected_effect(x, sifs, min_fluo, max_fluo) )\n",
    "    elif 'scaled' in column:\n",
    "        min_fluo = data[column].min() - 1\n",
    "        max_fluo = data[column].max() - 1\n",
    "        sifs = eval('siffects_'+gene+'_scaled')\n",
    "        data['expected_effect_scaled'] = data['aa_genotype_pseudo'].apply(lambda x: \n",
    "                                            get_expected_effect(x, sifs, min_fluo, max_fluo) )\n",
    "    return data"
   ]
  },
  {
   "cell_type": "code",
   "execution_count": 14,
   "metadata": {},
   "outputs": [],
   "source": [
    "amac = get_expected_effect_df(amac, 'amac', 'log_brightness')\n",
    "pplu = get_expected_effect_df(pplu, 'pplu', 'log_brightness')\n",
    "cgre = get_expected_effect_df(cgre, 'cgre', 'log_brightness')\n",
    "av = get_expected_effect_df(av, 'av', 'log_brightness')\n",
    "amacV14L = get_expected_effect_df(amacV14L, 'amacV14L', 'log_brightness')"
   ]
  },
  {
   "cell_type": "code",
   "execution_count": 15,
   "metadata": {},
   "outputs": [],
   "source": [
    "amac = get_expected_effect_df(amac, 'amac', 'scaled_brightness')\n",
    "pplu = get_expected_effect_df(pplu, 'pplu', 'scaled_brightness')\n",
    "cgre = get_expected_effect_df(cgre, 'cgre', 'scaled_brightness')\n",
    "av = get_expected_effect_df(av, 'av', 'scaled_brightness')\n",
    "amacV14L = get_expected_effect_df(amacV14L, 'amacV14L', 'scaled_brightness')"
   ]
  },
  {
   "cell_type": "markdown",
   "metadata": {},
   "source": [
    "#### Get info about extant alignments"
   ]
  },
  {
   "cell_type": "code",
   "execution_count": 16,
   "metadata": {},
   "outputs": [],
   "source": [
    "def get_quasipos_genotype(gene, length, data):\n",
    "    data['quasipos_genotype'] = data['aa_genotype_native'].apply(lambda x:\n",
    "                                            ':'.join([str(nativepos_to_quasipos[length-1][gene]+1)\n",
    "                                            + y[-1] if int(y[1:-1])>=length #avoid bugs on frameshift genotypes\n",
    "                                                else str(nativepos_to_quasipos[int(y[1:-1])][gene]) + y[-1]\n",
    "                                                    for y in x.split(':')\n",
    "                                            ])   if x!='wt' else np.nan\n",
    "                                                                )\n",
    "    return data"
   ]
  },
  {
   "cell_type": "code",
   "execution_count": 17,
   "metadata": {},
   "outputs": [],
   "source": [
    "amac = get_quasipos_genotype('GFPxm', 238, amac)\n",
    "cgre = get_quasipos_genotype('cgreGFP', 235, cgre)\n",
    "pplu = get_quasipos_genotype('ppluGFP2', 222, pplu)\n",
    "av = get_quasipos_genotype('avGFP', 238, av)\n",
    "amacV14L = get_quasipos_genotype('GFPxm', 238, amacV14L)"
   ]
  },
  {
   "cell_type": "markdown",
   "metadata": {},
   "source": [
    "#### Add ddG predictions (old protocol)"
   ]
  },
  {
   "cell_type": "code",
   "execution_count": 18,
   "metadata": {},
   "outputs": [],
   "source": [
    "def get_ddGs(data, gene):\n",
    "    ddGs = pd.read_csv(os.path.join(data_folder, 'protein_structure', \n",
    "                                    'avGFP_amacGFP_cgreGFP_ppluGFP2__ddG_predictions.csv'), index_col=0)\n",
    "    ddGs = ddGs[ddGs.gene==gene].copy()\n",
    "    muts = set(ddGs.index)\n",
    "    data['ddG_prediction'] = data['aa_genotype_pseudo'].apply(lambda x:\n",
    "                                        ddGs.loc[x, 'ddG_prediction'] if x in muts else np.nan)\n",
    "    return data"
   ]
  },
  {
   "cell_type": "code",
   "execution_count": 19,
   "metadata": {},
   "outputs": [],
   "source": [
    "amac = get_ddGs(amac, 'amacGFP')\n",
    "cgre = get_ddGs(cgre, 'cgreGFP')\n",
    "pplu = get_ddGs(pplu, 'ppluGFP')\n",
    "av = get_ddGs(av, 'avGFP')\n",
    "amacV14L = get_ddGs(amacV14L, 'amacV14LGFP')"
   ]
  },
  {
   "cell_type": "markdown",
   "metadata": {},
   "source": [
    "#### For clarity, put log values and scaled values into separate datasets, and group data from all genes"
   ]
  },
  {
   "cell_type": "code",
   "execution_count": 19,
   "metadata": {},
   "outputs": [],
   "source": [
    "cols = ['aa_genotype_pseudo','aa_genotype_native', 'gene', 'n_mut', 'quasipos_genotype','ddG_prediction',\n",
    "         'brightness', 'measured_effect', 'expected_effect']\n",
    "\n",
    "cols_scaled = ['aa_genotype_pseudo','aa_genotype_native', 'gene', 'n_mut','quasipos_genotype','ddG_prediction',\n",
    "                         'scaled_brightness', 'measured_effect_scaled', 'expected_effect_scaled']\n",
    "\n",
    "cols_log = ['aa_genotype_pseudo','aa_genotype_native', 'gene', 'n_mut','quasipos_genotype','ddG_prediction',\n",
    "                         'log_brightness', 'measured_effect_log', 'expected_effect_log']"
   ]
  },
  {
   "cell_type": "code",
   "execution_count": 20,
   "metadata": {},
   "outputs": [],
   "source": [
    "amacV14L_scaled = amacV14L[cols_scaled].copy()\n",
    "amac_scaled = amac[cols_scaled].copy()\n",
    "av_scaled = av[cols_scaled].copy()\n",
    "pplu_scaled = pplu[cols_scaled].copy()\n",
    "cgre_scaled = cgre[cols_scaled].copy()\n",
    "\n",
    "data_aa_scaled = pd.concat([amac_scaled, amacV14L_scaled, cgre_scaled, pplu_scaled, av_scaled])\n",
    "data_aa_scaled.columns = cols"
   ]
  },
  {
   "cell_type": "code",
   "execution_count": 21,
   "metadata": {},
   "outputs": [],
   "source": [
    "amacV14L = amacV14L[cols_log].copy()\n",
    "amac = amac[cols_log].copy()\n",
    "av = av[cols_log].copy()\n",
    "pplu = pplu[cols_log].copy()\n",
    "cgre = cgre[cols_log].copy()\n",
    "\n",
    "data_aa = pd.concat([amac, amacV14L, cgre, pplu, av])\n",
    "data_aa.columns = cols"
   ]
  },
  {
   "cell_type": "markdown",
   "metadata": {},
   "source": [
    "#### Get epistasis, n_extant, etc."
   ]
  },
  {
   "cell_type": "code",
   "execution_count": 22,
   "metadata": {},
   "outputs": [],
   "source": [
    "data_aa['epistasis'] = data_aa['measured_effect'] - data_aa['expected_effect']\n",
    "data_aa_scaled['epistasis'] = data_aa_scaled['measured_effect'] - data_aa_scaled['expected_effect']"
   ]
  },
  {
   "cell_type": "code",
   "execution_count": 23,
   "metadata": {},
   "outputs": [],
   "source": [
    "data_aa['n_mut_extant'] = data_aa['quasipos_genotype'].apply(check_n_mut_extant)\n",
    "data_aa_scaled['n_mut_extant'] = data_aa_scaled['quasipos_genotype'].apply(check_n_mut_extant)"
   ]
  },
  {
   "cell_type": "code",
   "execution_count": 24,
   "metadata": {},
   "outputs": [],
   "source": [
    "data_aa['has_buried_mutation'] = data_aa['aa_genotype_pseudo'].apply(lambda x:\n",
    "                                    bool(buried_pos & {int(y[1:-1]) for y in x.split(':') if y[1:-1].isdigit()}) \n",
    "                                                                     if x!='wt' else np.nan)\n",
    "data_aa_scaled['has_buried_mutation'] = data_aa_scaled['aa_genotype_pseudo'].apply(lambda x:\n",
    "                                    bool(buried_pos & {int(y[1:-1]) for y in x.split(':') if y[1:-1].isdigit()}) \n",
    "                                                                     if x!='wt' else np.nan)"
   ]
  },
  {
   "cell_type": "markdown",
   "metadata": {},
   "source": [
    "#### Get dataset with only doublemuts"
   ]
  },
  {
   "cell_type": "code",
   "execution_count": 25,
   "metadata": {},
   "outputs": [],
   "source": [
    "def get_epistasis_type_for_doublemuts(a, b, ab, threshold=0):\n",
    "    if str(a)=='nan' or str(b)=='nan':\n",
    "        return np.nan\n",
    "    \n",
    "    else:\n",
    "        a_new = ab - b\n",
    "        b_new = ab - a\n",
    "        \n",
    "        a_sign = a_new<0<a or a<0<a_new\n",
    "        b_sign = b_new<0<b or b<0<b_new\n",
    "        a_neutral = (abs(a) < threshold) or (abs(a_new) < threshold)\n",
    "        b_neutral = (abs(b) < threshold) or (abs(b_new) < threshold)\n",
    "\n",
    "        if ab - (a+b) > 0:\n",
    "            e = 'positive'\n",
    "        else:\n",
    "            e = 'negative'\n",
    "            \n",
    "        if a_sign and not a_neutral and b_sign and not b_neutral:\n",
    "            return 'reciprocal_sign'\n",
    "        elif a_sign and not a_neutral or b_sign and not b_neutral:\n",
    "            return 'sign'\n",
    "        else:\n",
    "            return e\n",
    "    "
   ]
  },
  {
   "cell_type": "code",
   "execution_count": 26,
   "metadata": {},
   "outputs": [],
   "source": [
    "def get_doublemuts(data, scaled=False):\n",
    "    if scaled==True:\n",
    "        addon = '_scaled'\n",
    "    else:\n",
    "        addon = '_log'\n",
    "        \n",
    "    df = data[data.n_mut == 2].copy()\n",
    "    df['mut1_effect'] = df[['gene', 'aa_genotype_pseudo']].apply(lambda x:\n",
    "                                        eval('siffects_'+x[0][:-3]+addon)[x[1].split(':')[0]]\n",
    "                                        if x[1].split(':')[0] in eval('siffects_'+x[0][:-3]+addon) else np.nan, \n",
    "                                                                 axis=1)\n",
    "    df['mut2_effect'] = df[['gene', 'aa_genotype_pseudo']].apply(lambda x:\n",
    "                                        eval('siffects_'+x[0][:-3]+addon)[x[1].split(':')[1]]\n",
    "                                        if x[1].split(':')[1] in eval('siffects_'+x[0][:-3]+addon) else np.nan, \n",
    "                                                                 axis=1)\n",
    "    df['mut1_effect_mut2bg'] = df.measured_effect - df.mut2_effect\n",
    "    df['mut2_effect_mut1bg'] = df.measured_effect - df.mut1_effect\n",
    "    \n",
    "    df['position_pseudo'] = df['aa_genotype_pseudo'].apply(lambda x:\n",
    "                                       ':'.join([y[1:-1] for y in x.split(':')]))\n",
    "    df['position_native'] = df['aa_genotype_native'].apply(lambda x:\n",
    "                                       ':'.join([y[1:-1] for y in x.split(':')]))\n",
    "    \n",
    "    return df"
   ]
  },
  {
   "cell_type": "code",
   "execution_count": 27,
   "metadata": {},
   "outputs": [],
   "source": [
    "doublemuts = get_doublemuts(data_aa)\n",
    "doublemuts_scaled = get_doublemuts(data_aa_scaled, True)"
   ]
  },
  {
   "cell_type": "markdown",
   "metadata": {},
   "source": [
    "Add minimal physical distance between pairs of amino acids"
   ]
  },
  {
   "cell_type": "code",
   "execution_count": 28,
   "metadata": {},
   "outputs": [],
   "source": [
    "def get_distances(gene):\n",
    "    df_distance = pd.read_csv(os.path.join(structure_folder, 'residue_distance_matrices',\n",
    "                                          gene+'__minimal_distances_between_aa.csv'), index_col=0)\n",
    "    distances = {}\n",
    "    for i in df_distance.index:\n",
    "        for j in df_distance.columns:\n",
    "            distances[str(i) + ':' + str(j)] = df_distance.loc[i,str(j)]\n",
    "    return distances\n",
    "\n",
    "def add_distances(dm):\n",
    "    amac_distances = get_distances('amacGFP')\n",
    "    amacV14L_distances = amac_distances\n",
    "    cgre_distances = get_distances('cgreGFP')\n",
    "    pplu_distances = get_distances('ppluGFP2')\n",
    "    av_distances = get_distances('avGFP')\n",
    "    scope = locals()\n",
    "    \n",
    "    dm['distance'] = dm[['gene', 'position_native']].apply(lambda x: eval(x[0][:-3]+'_distances', scope)[x[1]] \n",
    "                                            if x[1] in eval(x[0][:-3]+'_distances', scope) else np.nan, axis=1)\n",
    "    return dm"
   ]
  },
  {
   "cell_type": "code",
   "execution_count": 29,
   "metadata": {},
   "outputs": [],
   "source": [
    "doublemuts = add_distances(doublemuts)"
   ]
  },
  {
   "cell_type": "markdown",
   "metadata": {},
   "source": [
    "#### Masks"
   ]
  },
  {
   "cell_type": "code",
   "execution_count": 30,
   "metadata": {},
   "outputs": [],
   "source": [
    "amacV14L_mask = data_aa['gene']=='amacV14LGFP'\n",
    "amac_mask = (data_aa['gene']=='amacGFP')\n",
    "amacV14V_mask = amac_mask & ~(data_aa['aa_genotype_pseudo'].str.contains('V14L'))\n",
    "cgre_mask = data_aa['gene']=='cgreGFP'\n",
    "pplu_mask = data_aa['gene']=='ppluGFP'\n",
    "av_mask = data_aa['gene']=='avGFP'\n",
    "wt_mask = data_aa['n_mut']==0\n",
    "singles_mask = data_aa['n_mut']==1\n",
    "buried_mask = data_aa['has_buried_mutation']==True\n",
    "nonsense_mask = data_aa['aa_genotype_pseudo'].str.contains('\\*')\n",
    "chromomut_mask = data_aa['aa_genotype_pseudo'].str.contains('|'.join(chromomuts['pseudopos']))"
   ]
  },
  {
   "cell_type": "markdown",
   "metadata": {},
   "source": [
    "### Nucleotide genotypes"
   ]
  },
  {
   "cell_type": "code",
   "execution_count": 31,
   "metadata": {},
   "outputs": [],
   "source": [
    "data_nt = pd.read_csv(os.path.join(data_folder, 'final_datasets',\n",
    "                                'amacGFP_cgreGFP_ppluGFP2__final_nucleotide_genotypes_to_brightness.csv'),)\n",
    "data_nt['log_brightness'] = data_nt['replicates_mean_brightness'].apply(lambda x: np.log10(x))\n",
    "\n",
    "data_nt_av = pd.read_csv(os.path.join(data_folder, 'final_datasets', \n",
    "                                'avGFP__rf_nucleotide_genotypes_to_brightness.csv'))\n",
    "data_nt_av['gene'] = 'avGFP'\n",
    "data_nt_av['nt_genotype'] = data_nt_av['nt_genotype'].apply(lambda x: x.replace('s', ''))\n",
    "\n",
    "cols = ['nt_genotype', 'aa_genotype_native', 'aa_genotype_pseudo', 'gene', 'log_brightness']\n",
    "data_nt = pd.concat([data_nt[cols], data_nt_av[cols]])"
   ]
  },
  {
   "cell_type": "code",
   "execution_count": 32,
   "metadata": {},
   "outputs": [],
   "source": [
    "amac_nt = get_scaled_effects('amacGFP', data_nt)\n",
    "cgre_nt = get_scaled_effects('cgreGFP', data_nt)\n",
    "pplu_nt = get_scaled_effects('ppluGFP', data_nt)\n",
    "av_nt = get_scaled_effects('avGFP', data_nt)\n",
    "amacV14L_nt = get_scaled_effects('amacV14LGFP', data_nt)"
   ]
  },
  {
   "cell_type": "code",
   "execution_count": 33,
   "metadata": {},
   "outputs": [],
   "source": [
    "data_nt = pd.concat([amac_nt, amacV14L_nt, cgre_nt, pplu_nt, av_nt])"
   ]
  },
  {
   "cell_type": "code",
   "execution_count": 34,
   "metadata": {},
   "outputs": [],
   "source": [
    "amac_mask_nt = data_nt['gene']=='amacGFP'\n",
    "amacV14L_mask_nt = data_nt['gene']=='amacV14LGFP'\n",
    "amacV14V_mask_nt = amac_mask_nt & ~amacV14L_mask_nt\n",
    "cgre_mask_nt = data_nt['gene']=='cgreGFP'\n",
    "pplu_mask_nt = data_nt['gene']=='ppluGFP'\n",
    "av_mask_nt = data_nt['gene']=='avGFP'\n",
    "wt_mask_nt = data_nt['aa_genotype_pseudo'] == 'wt'"
   ]
  },
  {
   "cell_type": "code",
   "execution_count": null,
   "metadata": {},
   "outputs": [],
   "source": [
    "data_nt['n_nt_mut'] = data_nt['nt_genotype'].apply(lambda x : 0 if x=='wt' else x.count(':')+1)"
   ]
  }
 ],
 "metadata": {
  "kernelspec": {
   "display_name": "Python 3",
   "language": "python",
   "name": "python3"
  },
  "language_info": {
   "codemirror_mode": {
    "name": "ipython",
    "version": 3
   },
   "file_extension": ".py",
   "mimetype": "text/x-python",
   "name": "python",
   "nbconvert_exporter": "python",
   "pygments_lexer": "ipython3",
   "version": "3.7.6"
  }
 },
 "nbformat": 4,
 "nbformat_minor": 4
}
