{
 "cells": [
  {
   "cell_type": "code",
   "execution_count": 1,
   "metadata": {},
   "outputs": [],
   "source": [
    "%run lgs03a_data_unification.ipynb"
   ]
  },
  {
   "cell_type": "code",
   "execution_count": 176,
   "metadata": {},
   "outputs": [],
   "source": [
    "def remove_mutation_from_combination(mut_combination, mutation):\n",
    "    return ':'.join([m for m in mut_combination.split(':') if m != mutation])\n",
    "\n",
    "\n",
    "def contains_mutation(mutations, mutation):\n",
    "    return mutation in mutations.split(':')\n",
    "\n",
    "\n",
    "def find_genotypes_containing_mutations(df, mutations):\n",
    "    # returns a df with all genotypes containing the specified mutations\n",
    "    if type(mutations) == str:\n",
    "        mutations = mutations.split(':')\n",
    "    for m in mutations:\n",
    "        df = df[df['aa_genotype_pseudo'].apply(lambda comb: contains_mutation(comb, m))]\n",
    "    return df\n",
    "\n",
    "\n",
    "def get_mutation_in_all_backgrounds(df, mutation, lowest_acceptable_fitness=None):\n",
    "    containing_mutation = find_genotypes_containing_mutations(df, mutation).copy()\n",
    "    containing_mutation['background'] = containing_mutation['aa_genotype_pseudo'].apply(lambda \n",
    "                                mut_combination: remove_mutation_from_combination(mut_combination, mutation))\n",
    "    containing_mutation.set_index('background', inplace=True)\n",
    "    \n",
    "    if lowest_acceptable_fitness:\n",
    "        df = df[df['brightness'] >= lowest_acceptable_fitness].copy()\n",
    "        \n",
    "    df['aa_genotype_pseudo'] = df['aa_genotype_pseudo'].apply(lambda x: '' if x=='wt' else x)\n",
    "    df = df[df['aa_genotype_pseudo'].isin(containing_mutation.index)].copy()\n",
    "    df['with_mut'] = df['aa_genotype_pseudo'].map(containing_mutation['brightness'])\n",
    "    \n",
    "    panel = pd.DataFrame({'bg_genotype_pseudo' : df['aa_genotype_pseudo'],\n",
    "                        'bg_brightness' : df['brightness'],\n",
    "                        'mut_brightness' : df['with_mut']})\n",
    "    panel.set_index('bg_genotype_pseudo', inplace=True)\n",
    "    panel['mut_effect'] = panel['mut_brightness'] - panel['bg_brightness']\n",
    "    \n",
    "    try:\n",
    "        effect_in_wt = panel.loc['', 'mut_brightness']\n",
    "    except:\n",
    "        effect_in_wt = panel['mut_brightness'].median()\n",
    "    \n",
    "    panel['bg_effect']  = panel['mut_brightness'] - effect_in_wt\n",
    "    \n",
    "    return panel"
   ]
  },
  {
   "cell_type": "code",
   "execution_count": 177,
   "metadata": {},
   "outputs": [],
   "source": [
    "unique_single_mutations = set(flatten([x.split(':') for x in data_aa.aa_genotype_pseudo]))\n",
    "unique_single_mutations = {x for x in unique_single_mutations if '.' not in x and '*' not in x}"
   ]
  },
  {
   "cell_type": "code",
   "execution_count": 178,
   "metadata": {},
   "outputs": [],
   "source": [
    "from tqdm import tqdm"
   ]
  },
  {
   "cell_type": "code",
   "execution_count": 179,
   "metadata": {},
   "outputs": [
    {
     "name": "stderr",
     "output_type": "stream",
     "text": [
      "\n",
      "Genes:   0%|          | 0/5 [00:00<?, ?it/s]\u001b[A\n",
      "Genes:  20%|██        | 1/5 [03:29<13:56, 209.01s/it]\u001b[A\n",
      "Genes:  40%|████      | 2/5 [05:57<09:32, 190.75s/it]\u001b[A\n",
      "Genes:  60%|██████    | 3/5 [08:44<06:07, 183.76s/it]\u001b[A\n",
      "Genes:  80%|████████  | 4/5 [10:08<02:33, 153.81s/it]\u001b[A\n",
      "Genes: 100%|██████████| 5/5 [14:46<00:00, 177.30s/it]\u001b[A\n"
     ]
    }
   ],
   "source": [
    "mutations_in_all_backgrounds = {}\n",
    "\n",
    "for gene in tqdm(['amacGFP', 'cgreGFP', 'ppluGFP', 'amacV14LGFP', 'avGFP'], desc='Genes'):\n",
    "    \n",
    "    mutations_in_all_backgrounds[gene] = {}\n",
    "    \n",
    "    data_subset = data_aa[data_aa['gene'] == gene]\n",
    "    data_subset = data_subset[data_subset['n_mut'] <= 10]\n",
    "    if gene == 'avGFP':\n",
    "        lowest_acceptable_fitness = 2.5\n",
    "    else:\n",
    "        lowest_acceptable_fitness = gate_borders_log[gene[0:4]][1] # arbitrary threshold: P4-P5 border\n",
    "        \n",
    "    for mutation in unique_single_mutations:\n",
    "        in_all_backgrounds = get_mutation_in_all_backgrounds(data_subset, mutation)\n",
    "        if len(in_all_backgrounds) > 0:\n",
    "            mutations_in_all_backgrounds[gene][mutation] = in_all_backgrounds"
   ]
  },
  {
   "cell_type": "code",
   "execution_count": 160,
   "metadata": {},
   "outputs": [],
   "source": [
    "import pickle"
   ]
  },
  {
   "cell_type": "code",
   "execution_count": 180,
   "metadata": {},
   "outputs": [],
   "source": [
    "# pickle.dump(mutations_in_all_backgrounds, open( 'mutation_effects_by_background_log10.pkl', 'wb' ) )"
   ]
  },
  {
   "cell_type": "markdown",
   "metadata": {},
   "source": [
    "#### same but scaled data"
   ]
  },
  {
   "cell_type": "code",
   "execution_count": 181,
   "metadata": {},
   "outputs": [
    {
     "name": "stderr",
     "output_type": "stream",
     "text": [
      "\n",
      "Genes:   0%|          | 0/5 [00:00<?, ?it/s]\u001b[A\n",
      "Genes:  20%|██        | 1/5 [03:24<13:37, 204.36s/it]\u001b[A\n",
      "Genes:  40%|████      | 2/5 [06:18<09:46, 195.41s/it]\u001b[A\n",
      "Genes:  60%|██████    | 3/5 [09:24<06:24, 192.44s/it]\u001b[A\n",
      "Genes:  80%|████████  | 4/5 [10:54<02:41, 161.87s/it]\u001b[A\n",
      "Genes: 100%|██████████| 5/5 [15:42<00:00, 188.49s/it]\u001b[A\n"
     ]
    }
   ],
   "source": [
    "mutations_in_all_backgrounds_scaled = {}\n",
    "\n",
    "for gene in tqdm(['amacGFP', 'cgreGFP', 'ppluGFP', 'amacV14LGFP', 'avGFP'], desc='Genes'):\n",
    "    \n",
    "    mutations_in_all_backgrounds_scaled[gene] = {}\n",
    "    \n",
    "    data_subset = data_aa_scaled[data_aa_scaled['gene'] == gene]\n",
    "    data_subset = data_subset[data_subset['n_mut'] <= 10]\n",
    "    if gene == 'avGFP':\n",
    "        lowest_acceptable_fitness = 2.5\n",
    "    else:\n",
    "        lowest_acceptable_fitness = gate_borders_log[gene[0:4]][1] # arbitrary threshold: P4-P5 border\n",
    "        \n",
    "    for mutation in unique_single_mutations:\n",
    "        in_all_backgrounds = get_mutation_in_all_backgrounds(data_subset, mutation)\n",
    "        if len(in_all_backgrounds) > 0:\n",
    "            mutations_in_all_backgrounds_scaled[gene][mutation] = in_all_backgrounds"
   ]
  },
  {
   "cell_type": "code",
   "execution_count": 182,
   "metadata": {},
   "outputs": [],
   "source": [
    "# pickle.dump(mutations_in_all_backgrounds, open( 'mutation_effects_by_background_scaled.pkl', 'wb' ) )"
   ]
  },
  {
   "cell_type": "code",
   "execution_count": null,
   "metadata": {},
   "outputs": [],
   "source": []
  },
  {
   "cell_type": "code",
   "execution_count": null,
   "metadata": {},
   "outputs": [],
   "source": []
  },
  {
   "cell_type": "code",
   "execution_count": null,
   "metadata": {},
   "outputs": [],
   "source": []
  }
 ],
 "metadata": {
  "kernelspec": {
   "display_name": "Python 3",
   "language": "python",
   "name": "python3"
  },
  "language_info": {
   "codemirror_mode": {
    "name": "ipython",
    "version": 3
   },
   "file_extension": ".py",
   "mimetype": "text/x-python",
   "name": "python",
   "nbconvert_exporter": "python",
   "pygments_lexer": "ipython3",
   "version": "3.7.6"
  }
 },
 "nbformat": 4,
 "nbformat_minor": 4
}
