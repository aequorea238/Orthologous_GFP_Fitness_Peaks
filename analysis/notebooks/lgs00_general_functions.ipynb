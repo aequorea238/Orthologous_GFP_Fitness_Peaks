{
 "cells": [
  {
   "cell_type": "code",
   "execution_count": 2,
   "metadata": {},
   "outputs": [],
   "source": [
    "import pandas as pd\n",
    "import numpy as np\n",
    "import matplotlib.pyplot as plt\n",
    "%matplotlib inline\n",
    "import seaborn as sns\n",
    "import matplotlib\n",
    "import random\n",
    "import scipy.stats"
   ]
  },
  {
   "cell_type": "code",
   "execution_count": 3,
   "metadata": {},
   "outputs": [],
   "source": [
    "from matplotlib_venn import venn2, venn2_circles, venn2_unweighted\n",
    "from matplotlib_venn import venn3, venn3_circles"
   ]
  },
  {
   "cell_type": "code",
   "execution_count": 9,
   "metadata": {},
   "outputs": [],
   "source": [
    "from matplotlib.colors import ListedColormap\n",
    "c = matplotlib.cm.viridis\n",
    "# c = ListedColormap(sns.color_palette('mako', 256))\n",
    "\n",
    "colors = {'amacV14L':c(0), 'amac':c(60), 'av':c(240), 'pplu':c(200), 'cgre':c(110),\n",
    "         'amacV14LGFP':c(0), 'amacGFP':c(50), 'avGFP':c(240), 'ppluGFP':c(200), 'cgreGFP':c(110),\n",
    "         'amacGFP:V14L':c(0), 'ppluGFP2':c(200)}"
   ]
  },
  {
   "cell_type": "markdown",
   "metadata": {},
   "source": [
    "### Get folder IDs, etc."
   ]
  },
  {
   "cell_type": "code",
   "execution_count": 9,
   "metadata": {},
   "outputs": [],
   "source": [
    "import os"
   ]
  },
  {
   "cell_type": "code",
   "execution_count": 10,
   "metadata": {},
   "outputs": [],
   "source": [
    "def find_folder_upstream(folder_name, max_iterations=50):\n",
    "    current_folder = os.getcwd()\n",
    "    counter = 0\n",
    "    while os.path.basename(current_folder) != folder_name and counter < max_iterations:\n",
    "        current_folder = os.path.dirname(current_folder)\n",
    "        counter += 1\n",
    "    if not counter < max_iterations:\n",
    "        return None\n",
    "    return current_folder"
   ]
  },
  {
   "cell_type": "code",
   "execution_count": 11,
   "metadata": {},
   "outputs": [],
   "source": [
    "root_folder_name = 'Orthologous_GFP_Fitness_Peaks'\n",
    "root_folder = find_folder_upstream(root_folder_name)\n",
    "if not root_folder:\n",
    "    print('Did not find the root folder for our github repository')\n",
    "\n",
    "data_folder = os.path.join(root_folder, 'data', '')\n",
    "structure_folder = os.path.join(data_folder, 'protein_structure', '')\n",
    "\n",
    "analysis_folder = os.path.join(root_folder, 'analysis', '')\n",
    "\n",
    "figures_folder = os.path.join(analysis_folder, 'figures', '')\n",
    "pymol_folder = os.path.join(analysis_folder, 'pymol', '')\n",
    "notebooks_folder = os.path.join(analysis_folder, 'notebooks', '')\n",
    "ngs_folder = os.path.join(analysis_folder, 'ngs_processing', '')"
   ]
  },
  {
   "cell_type": "markdown",
   "metadata": {},
   "source": [
    "## Variables"
   ]
  },
  {
   "cell_type": "code",
   "execution_count": 12,
   "metadata": {},
   "outputs": [],
   "source": [
    "bc_controls = {\n",
    "    'av' : ['ACCCCAAGCAAAAACAGCCG', 'AAACCAGTAAATGAAAAACA', 'ACCCCCCAATCCCCCACCTC', 'CTCCACTATAACACAATCAC'] , \n",
    "        'amac' : ['CTTTCCGACGCTATATCCCC', 'CTTTTACTGTGTGTAATTTT'] , \n",
    "    'cgre' :['AACCCACGCCCCCATTTTTT', 'TTCCCCCCCGCCCCATTCCT', 'AATTTCCTCTTTACTTCATA', 'ACCTCACATCTTCTGACTTT'], \n",
    "        'pplu' : ['CCCCGCCCTCTTACATGCCT', 'CCACCATATCCACACCCCCA'], \n",
    "    'count' : ['CCAGCACCACCAAAGCATGA', 'ACTCGCACTTTCGAAACCCA', 'CTCCCCCCTAGCAATCCACC', \n",
    "               'AACCCCCAAAAGAAAAACCC', 'TCTAATTACAAAACAATTCC']}"
   ]
  },
  {
   "cell_type": "code",
   "execution_count": 13,
   "metadata": {},
   "outputs": [],
   "source": [
    "chromomuts = {'amac' : ['R95', 'Y65', 'G66', 'E221'],\n",
    "             'cgre' : ['R96', 'Y68', 'G69', 'E223'],\n",
    "             'pplu' : ['R86', 'Y57', 'G58', 'E209'],\n",
    "             'pseudopos':['R99', 'Y68', 'G69', 'E229']}"
   ]
  },
  {
   "cell_type": "code",
   "execution_count": 14,
   "metadata": {},
   "outputs": [],
   "source": [
    "genekey = {'av':0, 'amac':1, 'cgre':2, 'pplu':3, 'amacV14L':1}"
   ]
  },
  {
   "cell_type": "code",
   "execution_count": 15,
   "metadata": {},
   "outputs": [],
   "source": [
    "gate_borders = {'amac':np.array([  897.5,  1571. ,  2865.5,  4447.5,  7381.5, 10533. , 15205. ]),\n",
    "               'cgre':np.array([ 1179. ,  2594. ,  5606. , 11382.5, 18682.5, 26388.5, 37143.5]),\n",
    "               'pplu':np.array([ 1179. ,  2388.5,  4721.5,  9176. , 13279. , 18263.5, 24702.5])}\n",
    "\n",
    "gate_borders_log = {gene: np.log10(gate_borders[gene]) for gene in gate_borders}"
   ]
  },
  {
   "cell_type": "code",
   "execution_count": 16,
   "metadata": {},
   "outputs": [],
   "source": [
    "# scaling to 0 = dark (middle of the darkest gate), 1 = WT\n",
    "# values taken from final log10 aminoacid datasets\n",
    "\n",
    "scaling_refs = {'amac': (2.652246341003323, 3.9707333545555503),\n",
    " 'cgre': (2.7708520116421442, 4.49691401841976),\n",
    " 'pplu': (2.7708520116421442, 4.225823746695675),\n",
    " 'av': (1.28341923933, 3.7192121319)}"
   ]
  },
  {
   "cell_type": "code",
   "execution_count": 17,
   "metadata": {},
   "outputs": [],
   "source": [
    "gate_borders_scaled = {gene: (gate_borders_log[gene] - scaling_refs[gene][0]) / \n",
    "                       (scaling_refs[gene][1] - scaling_refs[gene][0]) for gene in ['amac','cgre','pplu']}"
   ]
  },
  {
   "cell_type": "code",
   "execution_count": 1,
   "metadata": {},
   "outputs": [],
   "source": [
    "names = {'amac':'amacGFP', 'amacV14L':'amacGFP:V14L', 'V14L':'amacGFP:V14L',\n",
    "         'av':'avGFP', 'cgre':'cgreGFP', 'pplu':'ppluGFP2',\n",
    "        'cgre132':'cgreGFP:132', 'cgre1338':'cgreGFP:1338', 'cgre4111':'cgreGFP:4111', 'cgre9708':'cgreGFP:9708'}"
   ]
  },
  {
   "cell_type": "markdown",
   "metadata": {},
   "source": [
    "### Structure info"
   ]
  },
  {
   "cell_type": "code",
   "execution_count": 20,
   "metadata": {},
   "outputs": [],
   "source": [
    "%run lgs01_functions_for_getting_aa_pseudopositions.ipynb"
   ]
  },
  {
   "cell_type": "markdown",
   "metadata": {},
   "source": [
    "General: buried positions, conserved positions, etc."
   ]
  },
  {
   "cell_type": "code",
   "execution_count": 21,
   "metadata": {},
   "outputs": [],
   "source": [
    "# this is from the avGFP data; native positions, count starting at 1 (Met)\n",
    "buried_pos = [8,12,14,16,18,20,27,29,31,33,35,40,42,44,46,48,54,55,56,57,58,59,60,61,62,63,64,65,66,67,\n",
    "        68,69,70,71,72,74,82,83,84,85,86,87,88,92,94,96,98,100,106,108,110,112,114,119,121,123,125,127,130,\n",
    "        141,143,145,148,150,152,161,163,165,167,169,179,181,183,185,199,201,203,205,207,218,220,222,224,226]\n",
    "\n",
    "# make count start at 0 and convert to pseudo positions\n",
    "buried_pos = [x-1 for x in buried_pos]\n",
    "buried_pos = {nativepos_to_pseudopos[x][0] for x in buried_pos}"
   ]
  },
  {
   "cell_type": "markdown",
   "metadata": {},
   "source": [
    "Secondary structures (extracted from Pymol)\n",
    "\n",
    "    PYMOL> iterate n. CA, print resi + ':' + ss + ','"
   ]
  },
  {
   "cell_type": "code",
   "execution_count": null,
   "metadata": {},
   "outputs": [],
   "source": [
    "L = 'L'\n",
    "S = 'S'\n",
    "H = 'H'"
   ]
  },
  {
   "cell_type": "code",
   "execution_count": null,
   "metadata": {},
   "outputs": [],
   "source": [
    "amac_ss_pymol = {2:L,3:H,4:H,5:H,6:H,7:H,8:H,9:L,10:L,11:L,12:S,13:S,14:S,15:S,16:S,17:S,18:S,19:S,20:S,21:S,22:S,\n",
    "23:L,24:L,25:S,26:S,27:S,28:S,29:S,30:S,31:S,32:S,33:S,34:S,35:S,36:S,37:H,38:H,39:H,40:S,41:S,42:S,43:S,44:S,45:S,46:S,\n",
    "47:L,47:L,48:L,49:L,50:L,51:L,52:L,53:L,54:L,55:L,56:L,57:H,58:H,59:H,60:H,61:H,62:H,63:H,64:H,68:L,69:H,70:H,\n",
    "71:H,72:L,73:L,74:L,75:L,76:H,77:H,78:H,79:H,80:H,81:H,82:L,83:H,84:H,85:H,86:H,87:H,88:L,89:L,90:L,91:L,92:S,\n",
    "93:S,94:S,95:S,96:S,97:S,98:S,99:S,100:S,101:L,102:L,103:S,104:S,105:S,106:S,107:S,108:S,109:L,109:L,110:S,\n",
    "111:S,112:S,113:S,114:S,115:S,116:L,117:L,118:S,119:S,120:S,121:S,122:S,123:S,124:S,125:S,126:L,126:L,\n",
    "127:L,128:L,129:L,130:L,131:L,132:L,133:L,134:L,135:H,136:H,137:H,138:H,139:L,140:L,141:L,142:L,143:L,144:L,145:L,\n",
    "146:L,147:L,147:L,148:L,149:L,150:S,151:S,152:S,153:S,154:S,155:S,156:L,157:L,158:L,159:S,160:S,161:S,162:S,163:S,\n",
    "164:S,165:S,166:L,167:S,168:S,169:S,170:S,171:S,172:L,173:L,174:S,175:S,176:S,177:S,178:S,179:S,\n",
    "180:L,180:L,181:S,182:S,183:S,184:S,185:S,186:S,187:S,188:L,189:L,190:L,191:L,192:L,193:L,194:L,\n",
    "195:L,196:L,197:L,197:L,198:L,199:S,200:S,201:S,202:S,203:L,203:L,204:S,205:S,206:S,207:S,208:S,\n",
    "209:L,210:L,211:L,212:L,213:L,214:L,215:L,216:L,\n",
    "217:L,218:S,219:S,220:S,221:S,222:L,222:L,223:S,224:S,225:S,226:S,227:S,228:L,}\n",
    "\n",
    "amac_ss_pymol = [amac_ss_pymol[i] if i in amac_ss_pymol else '-' for i in range(1,len(amac_wt))]\n",
    "amac_ss_pymol = ''.join(amac_ss_pymol)"
   ]
  },
  {
   "cell_type": "code",
   "execution_count": null,
   "metadata": {},
   "outputs": [],
   "source": [
    "cgre_ss_pymol = {5:H,6:H,7:H,8:H,9:H,10:H,11:L,12:L,13:L,14:L,15:S,16:S,17:S,18:S,19:S,20:S,\n",
    "21:S,22:S,23:S,24:S,25:S,26:L,27:L,28:S,29:S,30:S,31:S,32:S,33:S,34:S,35:S,36:S,37:S,38:S,39:S,\n",
    "40:L,41:L,42:L,43:L,44:S,45:S,46:S,47:S,48:S,49:S,50:S,51:S,52:L,53:L,54:L,55:L,56:L,57:L,58:L,\n",
    "59:H,60:H,61:H,62:H,63:H,64:H,65:L,66:L,67:L,71:H,72:H,73:H,74:H,75:H,76:L,77:L,78:L,79:L,80:L,81:L,82:L,83:H,\n",
    "84:H,85:H,86:H,87:H,88:H,89:L,90:L,91:L,92:L,93:S,94:S,95:S,96:S,97:S,98:S,99:S,100:S,101:S,102:L,103:L,\n",
    "104:L,105:L,106:S,107:S,108:S,109:S,110:S,111:S,112:S,113:S,114:S,115:S,116:S,117:L,118:L,119:S,\n",
    "120:S,121:S,122:S,123:S,124:S,125:S,126:S,127:S,128:S,129:S,130:L,131:L,132:L,133:L,134:L,135:L,136:L,\n",
    "137:L,138:L,139:L,140:L,141:L,142:L,143:L,144:L,145:L,146:L,147:L,148:L,149:S,150:S,151:S,152:S,153:S,154:S,\n",
    "155:S,156:S,157:H,158:H,159:H,160:H,161:S,162:S,163:S,164:S,165:S,166:S,167:S,168:S,169:S,170:S,\n",
    "171:S,172:L,173:L,174:L,175:L,176:L,177:S,178:S,179:S,180:S,181:S,182:S,183:S,184:S,185:S,186:S,\n",
    "187:S,188:S,189:L,190:L,191:L,192:L,193:L,194:L,195:L,196:L,197:L,198:L,199:L,200:S,201:S,202:S,203:S,\n",
    "204:S,205:S,206:S,207:S,208:S,209:S,210:L,211:L,212:L,213:L,214:L,215:L,216:L,217:L,218:L,219:S,\n",
    "220:S,221:S,222:S,223:S,224:S,225:S,226:S,227:S,228:S,229:S,230:H,231:H,232:H,233:H,234:H,235:H}\n",
    "\n",
    "cgre_ss_pymol = [cgre_ss_pymol[i] if i in cgre_ss_pymol else '-' for i in range(1,len(cgre_wt))]\n",
    "cgre_ss_pymol = ''.join(cgre_ss_pymol)"
   ]
  },
  {
   "cell_type": "code",
   "execution_count": null,
   "metadata": {},
   "outputs": [],
   "source": [
    "pplu_ss_pymol = {3:L,4:S,5:S,6:S,7:S,8:S,9:S,10:S,11:S,12:S,13:S,14:S,15:L,\n",
    "16:L,17:S,18:S,19:S,20:S,21:S,22:S,23:S,24:S,25:L,26:S,27:S,28:S,29:H,30:H,31:H,32:S,33:S,\n",
    "34:S,35:S,36:S,37:S,38:S,39:S,40:S,41:L,42:L,43:L,44:L,45:L,46:L,47:L,48:L,49:H,50:H,51:H,52:H,53:H,54:H,\n",
    "55:H,56:L,60:L,61:L,62:L,63:L,64:L,65:L,66:L,67:L,68:L,69:L,70:L,71:L,72:L,73:H,74:H,75:H,76:H,77:H,\n",
    "78:H,79:H,80:L,81:L,82:L,83:S,84:S,85:S,86:S,87:S,88:S,89:S,90:S,91:S,92:L,93:L,94:S,95:S,96:S,97:S,\n",
    "98:S,99:S,100:S,101:S,102:S,103:S,104:S,105:S,106:L,107:L,108:L,109:S,110:S,111:S,112:S,113:S,114:S,\n",
    "115:S,116:S,117:S,118:S,119:S,120:L,121:L,122:L,123:L,124:L,125:L,126:L,127:L,128:L,129:L,130:L,131:L,\n",
    "132:L,133:S,134:S,135:S,136:L,137:L,138:S,139:S,140:S,141:S,142:S,143:S,144:S,145:S,146:S,147:L,148:L,\n",
    "149:S,150:S,151:S,152:S,153:S,154:S,155:S,156:S,157:S,158:S,159:S,160:S,161:L,162:L,163:S,164:S,165:S,\n",
    "166:S,167:S,168:S,169:S,170:S,171:S,172:S,173:S,174:S,175:S,176:S,177:L,178:L,179:L,180:L,181:L,182:L,\n",
    "183:L,184:L,185:L,188:L,189:L,190:L,191:S,192:S,193:S,194:S,195:S,196:S,197:S,198:S,199:S,200:S,201:S,\n",
    "202:L,203:L,204:L,205:S,206:S,207:S,208:S,209:S,210:S,211:S,212:S,213:S,214:S,215:S,216:L,217:L,218:L}\n",
    "\n",
    "pplu_ss_pymol = [pplu_ss_pymol[i] if i in pplu_ss_pymol else '-' for i in range(1,len(pplu_wt))]\n",
    "pplu_ss_pymol = ''.join(pplu_ss_pymol)"
   ]
  },
  {
   "cell_type": "code",
   "execution_count": null,
   "metadata": {},
   "outputs": [],
   "source": [
    "av_ss_pymol = {3:L,4:L,5:H,6:H,7:H,8:H,9:H,10:L,\n",
    "               11:L,12:L,13:L,14:S,15:S,15:S,16:S,17:S,18:S,19:S,20:L,21:L,22:L,23:L,24:L,\n",
    "25:L,26:L,27:L,28:L,29:S,30:S,31:L,32:L,33:L,34:L,35:L,36:L,37:L,38:L,39:L,40:L,41:L,42:S,42:S,43:S,\n",
    "43:S,44:S,45:S,46:S,47:S,48:S,49:L,50:L,51:L,52:L,53:L,54:L,55:L,56:H,57:H,58:H,59:H,60:H,61:H,62:L,\n",
    "63:L,64:L,68:H,69:H,70:H,71:H,72:H,73:L,73:L,74:L,75:H,76:H,77:H,78:H,79:H,80:H,81:H,82:H,83:H,84:H,\n",
    "85:H,86:H,86:H,87:H,88:L,89:L,90:L,90:L,91:L,92:L,93:S,94:S,95:S,96:S,97:S,98:S,99:S,100:S,101:L,102:L,\n",
    "103:L,104:L,105:L,106:S,107:S,108:S,109:S,110:S,111:S,112:S,113:S,114:S,115:L,116:L,117:L,118:L,119:S,\n",
    "120:S,121:S,122:S,123:S,124:S,124:S,125:S,126:S,127:L,128:L,129:L,130:L,131:L,131:L,132:L,133:L,134:L,\n",
    "135:L,136:L,137:L,138:L,139:L,140:L,141:L,142:L,142:L,143:L,144:L,145:L,146:L,147:L,148:L,149:S,150:S,\n",
    "151:S,152:S,153:S,154:L,155:H,156:H,157:H,158:H,159:H,160:L,161:L,162:S,163:S,164:S,164:S,165:S,166:S,\n",
    "166:S,167:S,168:S,169:S,170:S,171:L,172:L,173:L,174:L,175:L,176:S,177:S,178:S,179:S,180:S,181:S,182:S,\n",
    "183:S,184:S,184:S,185:S,186:S,187:L,188:L,189:L,190:L,190:L,191:L,192:L,193:L,194:L,195:L,196:L,197:L,\n",
    "198:L,199:S,200:S,201:S,202:S,203:S,204:S,205:S,206:S,207:S,208:S,209:L,210:L,211:L,212:L,213:L,214:L,\n",
    "215:L,216:L,217:S,218:S,219:S,220:S,221:S,222:S,223:S,224:S,225:S,226:S,227:S,228:L,229:L,230:L,231:L}\n",
    "\n",
    "av_ss_pymol = [av_ss_pymol[i] if i in av_ss_pymol else '-' for i in range(1,len(av_wt))]\n",
    "av_ss_pymol = ''.join(av_ss_pymol)"
   ]
  },
  {
   "cell_type": "code",
   "execution_count": null,
   "metadata": {},
   "outputs": [],
   "source": [
    "def plot_secondary_structure(residue_ss, y, arrow_width=0.1, head_length=1, \n",
    "                             linewidth=3, hel=0.25, c='k', shift=0):\n",
    "    helices = []\n",
    "    betas = []\n",
    "    loops = []\n",
    "    \n",
    "    ss = residue_ss[0]\n",
    "    indices = [0]\n",
    "    for i in range(1, len(residue_ss)):\n",
    "        if residue_ss[i] != residue_ss[i-1]:\n",
    "            indices.append(i)\n",
    "            if ss=='H':\n",
    "                helices.append(indices)\n",
    "            elif ss=='S':\n",
    "                betas.append(indices)\n",
    "            elif ss=='L':\n",
    "                loops.append(indices)\n",
    "            ss = residue_ss[i]\n",
    "            indices = [i]\n",
    "        if i==len(residue_ss)-1:\n",
    "            indices.append(i+1)\n",
    "            if ss=='H':\n",
    "                helices.append(indices)\n",
    "            elif ss=='S':\n",
    "                betas.append(indices)\n",
    "            elif ss=='L':\n",
    "                loops.append(indices)\n",
    "            \n",
    "#     plt.xlim(0, len(residue_ss))\n",
    "#     plt.ylim(-1,1)\n",
    "\n",
    "    for loop in loops:\n",
    "        plt.plot([loop[0]-shift, loop[1]-shift], [y,y], linestyle='-', linewidth=linewidth, color=c)\n",
    "    for helix in helices:\n",
    "        plt.plot(np.linspace(helix[0]-shift,helix[1]-shift,helix[1]-helix[0]+1),\n",
    "                 [y+(hel)*(-1)**i for i in range(helix[1]-helix[0]+1)], \n",
    "                 linewidth=linewidth+2, color=c)\n",
    "    for beta in betas:\n",
    "        plt.arrow(x=beta[0]-shift,y=y,dx=beta[1]-beta[0],dy=0,color=c,width=arrow_width, length_includes_head=True, \n",
    "                  head_length=head_length, head_width=arrow_width*2)"
   ]
  },
  {
   "cell_type": "code",
   "execution_count": null,
   "metadata": {},
   "outputs": [],
   "source": []
  },
  {
   "cell_type": "markdown",
   "metadata": {},
   "source": [
    "## General functions"
   ]
  },
  {
   "cell_type": "code",
   "execution_count": 3,
   "metadata": {},
   "outputs": [],
   "source": [
    "def flatten(list_of_lists):\n",
    "    return [x[i] for x in list_of_lists for i in range(len(x))]"
   ]
  },
  {
   "cell_type": "code",
   "execution_count": 5,
   "metadata": {},
   "outputs": [],
   "source": [
    "def omit_wt_state(mutations):\n",
    "    if type(mutations) ==  list:\n",
    "        return [x[1:] for x in mutations]\n",
    "    elif type(mutations) == set:\n",
    "        return {x[1:] for x in mutations}\n",
    "    elif type(mutations) == dict:\n",
    "        return {x[1:] : mutations[x] for x in mutations}"
   ]
  },
  {
   "cell_type": "code",
   "execution_count": 4,
   "metadata": {},
   "outputs": [],
   "source": [
    "def pseudify(seq, gene, filler='-'):\n",
    "    return [seq[pseudopos_to_nativepos[i][genekey[gene]]] \n",
    "          if str(pseudopos_to_nativepos[i][genekey[gene]])!='nan' else filler for i in range(246)]"
   ]
  },
  {
   "cell_type": "markdown",
   "metadata": {},
   "source": [
    "## Plots"
   ]
  },
  {
   "cell_type": "markdown",
   "metadata": {},
   "source": [
    "#### General"
   ]
  },
  {
   "cell_type": "code",
   "execution_count": 9,
   "metadata": {},
   "outputs": [],
   "source": [
    "def label_plot_axis(x='', y='', t='', fontsize_x=13, fontsize_y=13, fontsize_t=16, **kwargs):\n",
    "    plt.title(t, fontsize=fontsize_t, **kwargs)\n",
    "    plt.xlabel(x, fontsize=fontsize_x, **kwargs)\n",
    "    plt.ylabel(y, fontsize=fontsize_y, **kwargs)\n",
    "#     plt.legend()"
   ]
  },
  {
   "cell_type": "code",
   "execution_count": 2,
   "metadata": {},
   "outputs": [],
   "source": [
    "def subplots(width=4, height=4, nplots_per_row=2, nplots=4, dpi=200):\n",
    "    axes = []\n",
    "    if nplots%nplots_per_row == 0: \n",
    "        nrows = nplots/nplots_per_row\n",
    "    else:\n",
    "        nrows = int(1 + nplots/nplots_per_row)\n",
    "    width *= nplots_per_row\n",
    "    height *= nrows\n",
    "    \n",
    "    plt.figure(figsize=[width,height], dpi=dpi)\n",
    "    for i in range(nplots):\n",
    "        ax = plt.subplot(nrows, nplots_per_row, i+1)\n",
    "        axes.append(ax)\n",
    "\n",
    "    return axes"
   ]
  },
  {
   "cell_type": "markdown",
   "metadata": {},
   "source": [
    "#### Histograms & Violins"
   ]
  },
  {
   "cell_type": "code",
   "execution_count": 1,
   "metadata": {},
   "outputs": [],
   "source": [
    "def plot_multi_hist(dataset, masks, column, labels, bins=50, r=(2.5,5),\n",
    "                    norm_to_1=True, colors='krbygcm', size=[20,4], **kwargs):\n",
    "    '''For plotting the same variable (column) from the same dataframe, applying different masks to the dataframe.\n",
    "    \"masks\" should be a list of masks to apply.'''\n",
    "#     plt.figure(figsize=size)\n",
    "#     bin_range = (dataset[column].min(), dataset[column].max())\n",
    "    if norm_to_1:\n",
    "        for i in range(0, len(masks)):\n",
    "            weights, bins = np.histogram(dataset[masks[i]][column], bins=bins, range=r)\n",
    "            plt.hist(bins[:-1],bins=bins,color=colors[i], label=labels[i], weights=weights/sum(weights), **kwargs)\n",
    "    else:\n",
    "        for i in range(0, len(masks)):\n",
    "            plt.hist(dataset[masks[i]][column], color=colors[i], label=labels[i], **kwargs)\n",
    "    plt.legend()"
   ]
  },
  {
   "cell_type": "code",
   "execution_count": null,
   "metadata": {},
   "outputs": [],
   "source": [
    "def plot_violins(list_of_datasets, labels, colors='rkbgycm', **kwargs):\n",
    "    violins = plt.violinplot([list(x) for x in list_of_datasets], showmedians=True, **kwargs)\n",
    "    \n",
    "    for patch,color in zip(violins['bodies'], colors):\n",
    "        patch.set_color(color)\n",
    "    for item in ['cbars', 'cmaxes', 'cmins', 'cmedians']:\n",
    "        violins[item].set_color('k')\n",
    "        violins[item].set_linewidth(1)\n",
    "    \n",
    "    plt.xticks(range(1,len(list_of_datasets)+1), labels)"
   ]
  },
  {
   "cell_type": "markdown",
   "metadata": {},
   "source": [
    "    https://matplotlib.org/3.1.1/api/collections_api.html"
   ]
  },
  {
   "cell_type": "code",
   "execution_count": null,
   "metadata": {},
   "outputs": [],
   "source": [
    "import matplotlib.patheffects as pe\n",
    "\n",
    "def plot_half_violin(list_of_datasets, side, color, widths=0.5, alpha=0.6, \n",
    "                     show_medians=True, positions=None, chonkylines=False):\n",
    "    if positions == None:\n",
    "        positions = range(len(list_of_datasets))\n",
    "    violins = plt.violinplot([list(x) for x in list_of_datasets], showmedians=False, showextrema=False,\n",
    "                            positions = positions, widths=widths)\n",
    "    \n",
    "    if side == 'left':\n",
    "        for body in violins['bodies']:\n",
    "            m = np.mean(body.get_paths()[0].vertices[:,0])\n",
    "            body.get_paths()[0].vertices[:,0] = np.clip(body.get_paths()[0].vertices[:,0], -np.inf, m)\n",
    "            body.set_color(color[0])\n",
    "            body.set_alpha(alpha)\n",
    "            body.set_linewidth(0)\n",
    "            \n",
    "    elif side == 'right':\n",
    "        for body in violins['bodies']:\n",
    "            m = np.mean(body.get_paths()[0].vertices[:,0])\n",
    "            body.get_paths()[0].vertices[:,0] = np.clip(body.get_paths()[0].vertices[:,0], m, np.inf)\n",
    "            body.set_color(color[0])\n",
    "            body.set_alpha(alpha)\n",
    "            body.set_linewidth(0)\n",
    "            \n",
    "    if show_medians == True:\n",
    "        medians = [np.nanmedian(x) for x in list_of_datasets]\n",
    "        marker = {'left':0, 'right':1}\n",
    "        if chonkylines == False:\n",
    "            plt.plot(positions, medians, color=color[1], linestyle='-', ms=10,)#marker=marker[side], \n",
    "        else:\n",
    "#             plt.plot(positions, medians, color=color[1], linestyle='-', ms=10)\n",
    "            plt.plot(positions, medians, color=color[1], alpha=0.75,\n",
    "                     lw=2, path_effects=[pe.Stroke(linewidth=5, foreground='w'), pe.Normal()])"
   ]
  },
  {
   "cell_type": "code",
   "execution_count": 20,
   "metadata": {},
   "outputs": [],
   "source": [
    "import matplotlib.patches as mpatches\n",
    "from matplotlib.lines import Line2D\n",
    "\n",
    "def legendary(colors, labels, edges=None, **kwargs):\n",
    "    if edges==None:\n",
    "        edges = colors\n",
    "    '''Possible kwargs: loc (location), ncol (for horizontal alignment fo labels)'''\n",
    "    plt.legend(handles=[mpatches.Patch(facecolor=colors[i], edgecolor=edges[i]) for i in range(len(colors))], \n",
    "               labels=labels, frameon=False, **kwargs)"
   ]
  },
  {
   "cell_type": "markdown",
   "metadata": {},
   "source": [
    "#### Scatterplots"
   ]
  },
  {
   "cell_type": "code",
   "execution_count": 3,
   "metadata": {},
   "outputs": [],
   "source": [
    "def density_plot(x, y, nbins=100, log=False, **kwargs):\n",
    "    mask = (~np.isnan(x)) & (~np.isnan(y))\n",
    "    x = x[mask]\n",
    "    y = y[mask]\n",
    "    H, xedges, yedges = np.histogram2d(x,y,bins=nbins)\n",
    "    ix = np.searchsorted(xedges, x)\n",
    "    ix[ix == nbins] = nbins - 1\n",
    "    iy = np.searchsorted(yedges, y)\n",
    "    iy[iy == nbins] = nbins - 1\n",
    "    v = H[ix, iy]\n",
    "    i = v.argsort()\n",
    "    cc = v[i]\n",
    "    if log:\n",
    "        cc = np.log(cc + 1)\n",
    "    plt.scatter(x[i], y[i], c=cc, edgecolor='', **kwargs)"
   ]
  },
  {
   "cell_type": "code",
   "execution_count": 11,
   "metadata": {},
   "outputs": [],
   "source": [
    "def plot_correlation(dataset, x_axis, y_axis, title='', **kwargs):\n",
    "    get_correlation(dataset=dataset, x_axis=x_axis, y_axis=y_axis)\n",
    "#     plt.figure()\n",
    "    dataset = dataset[[x_axis, y_axis]].dropna().copy(deep=True)\n",
    "    density_plot(np.array(dataset[x_axis]), np.array(dataset[y_axis]), **kwargs)\n",
    "    plt.xlabel(x_axis)\n",
    "    plt.ylabel(y_axis)\n",
    "    plt.title(title, fontsize=14)"
   ]
  },
  {
   "cell_type": "markdown",
   "metadata": {},
   "source": [
    "#### Other"
   ]
  },
  {
   "cell_type": "code",
   "execution_count": 44,
   "metadata": {},
   "outputs": [],
   "source": [
    "def get_effects_by_position(gene, dataset, positions='pseudo', aa=False, func=np.nanmedian, col='effect_in_'):\n",
    "    genekey = {'av':0, 'amac':1, 'cgre':2, 'pplu':3}\n",
    "    \n",
    "    if aa==False:\n",
    "        if positions=='native':\n",
    "            median_effects = [func(dataset[dataset['position']==i][col+gene]) for i in range(0,247)\n",
    "                         if str(pseudopos_to_nativepos[i][genekey[gene]])!='nan']\n",
    "        elif positions=='pseudo':\n",
    "#             print(type(dataset[dataset['position']==1]))\n",
    "            median_effects = [func(dataset[dataset['position']==i][col+gene]) for i in range(0,247)]\n",
    "            \n",
    "    else:\n",
    "        if positions == 'pseudo':\n",
    "            median_effects = [float(dataset[(dataset['position']==i) & (dataset['mutation']==aa)][col+gene]) \n",
    "                          if str(pseudopos_to_nativepos[i][genekey[gene]])!='nan'\n",
    "                    and len(dataset[(dataset['position']==i) & (dataset['mutation']==aa)])!=0\n",
    "                        else np.nan  for i in range(1,247) ]\n",
    "#         elif positions == 'native':\n",
    "            \n",
    "            \n",
    "    return median_effects"
   ]
  },
  {
   "cell_type": "markdown",
   "metadata": {},
   "source": [
    "## Statistics"
   ]
  },
  {
   "cell_type": "code",
   "execution_count": null,
   "metadata": {},
   "outputs": [],
   "source": [
    "def get_correlation(dataset, x_axis, y_axis):\n",
    "    for_correlation = dataset[[x_axis, y_axis]].dropna()\n",
    "    pearson = scipy.stats.pearsonr(for_correlation[x_axis],for_correlation[y_axis])\n",
    "    spearman = scipy.stats.spearmanr(for_correlation[x_axis],for_correlation[y_axis])\n",
    "    print('Pearson correlation coefficient: %.2f, p=%.5f' % (pearson[0], pearson[1]))\n",
    "    print('Spearman correlation coefficient: %.2f, p=%.5f' % (spearman[0], spearman[1]))"
   ]
  },
  {
   "cell_type": "markdown",
   "metadata": {},
   "source": [
    "## Pymol"
   ]
  },
  {
   "cell_type": "code",
   "execution_count": 45,
   "metadata": {},
   "outputs": [],
   "source": [
    "pdb = {'av':os.path.join(structure_folder, 'PDB_structures', 'avGFP__2wur.pdb'), \n",
    "       'cgre':os.path.join(structure_folder, 'PDB_structures', 'cgreGFP__2hpw.pdb'),\n",
    "          'pplu':os.path.join(structure_folder, 'PDB_structures', 'ppluGFP2__2g3o_monomer.pdb'),\n",
    "      'amac':os.path.join(structure_folder, 'PDB_structures', 'amacGFP__7lg4.pdb')}"
   ]
  },
  {
   "cell_type": "code",
   "execution_count": 2,
   "metadata": {},
   "outputs": [],
   "source": [
    "import pymol\n",
    "from pymol import cmd, stored\n",
    "import Bio.PDB"
   ]
  },
  {
   "cell_type": "code",
   "execution_count": 1,
   "metadata": {},
   "outputs": [],
   "source": [
    "def start_pymol():\n",
    "    import sys\n",
    "    import pymol\n",
    "    pymol.pymol_argv = ['pymol','-qc'] #+ sys.argv[1:]\n",
    "    stdout = sys.stdout\n",
    "    stderr = sys.stderr\n",
    "    pymol.finish_launching()\n",
    "#     cmd = pymol.cmd\n",
    "\n",
    "    sys.stdout = stdout\n",
    "    sys.stderr = stderr\n",
    "    \n",
    "def open_or_fetch(PDB_ID_or_filename, object_name=None):\n",
    "    if len(PDB_ID_or_filename) in [4,5] and '.' not in PDB_ID_or_filename:\n",
    "        cmd.fetch(PDB_ID_or_filename)#, async=0)\n",
    "    else:\n",
    "        if not object_name:\n",
    "            object_name = PDB_ID_or_filename\n",
    "        cmd.load(PDB_ID_or_filename, object_name)\n",
    "\n",
    "        \n",
    "def save_session(filename_pse='test.pse', pymol_viewer_version='1.72'):\n",
    "    cmd.set('pse_export_version', pymol_viewer_version)\n",
    "    cmd.save(filename_pse)\n",
    "\n",
    "\n",
    "def white_and_beautiful(representation='cartoon'):\n",
    "    cmd.hide('lines', 'all')\n",
    "    cmd.show(representation, 'all')\n",
    "    cmd.select('waters', 'name o')\n",
    "    cmd.hide('everything', 'waters')\n",
    "    cmd.color('white', 'all')\n",
    "    cmd.set('bg_rgb', '(1,1,1)')\n",
    "    cmd.set('surface_quality', '1')\n",
    "    cmd.set('transparency', '0.5')\n",
    "    cmd.set('ray_opaque_background', 'off')"
   ]
  },
  {
   "cell_type": "code",
   "execution_count": null,
   "metadata": {},
   "outputs": [],
   "source": [
    "def color_positions(positions, values=None, representation='spheres', colormap=matplotlib.cm.cool, \n",
    "    constant_color=120, print_colors=False):\n",
    "    colors_used = []\n",
    "    # only positive values\n",
    "    # if str(values) != 'None':\n",
    "    #     assert min(values) >= 0\n",
    "    if type(constant_color) == int or type(constant_color) == float:\n",
    "        color = colormap(constant_color)\n",
    "    elif type(constant_color) == str:\n",
    "        color = matplotlib.colors.hex2color(constant_color)\n",
    "    elif type(constant_color) == tuple:\n",
    "        color = constant_color\n",
    "    else:\n",
    "        print('Weird color!')\n",
    "\n",
    "    if str(values) != 'None':\n",
    "        values = np.array(values) - min(values)\n",
    "        values = 1. * values / max(values)\n",
    "    for index, position in enumerate(positions):\n",
    "        if str(values) != 'None':\n",
    "            if str(values[index])=='nan':\n",
    "                colors_used.append((values[index], 'white'))\n",
    "            else:\n",
    "                color=colormap(values[index])\n",
    "                colors_used.append((values[index], color))\n",
    "        elif type(constant_color) == list:\n",
    "            color = matplotlib.colors.hex2color(constant_color[index])\n",
    "        colorName = \"color_\" + str(position)\n",
    "        selName = \"temp_selection\"\n",
    "        cmd.set_color(colorName, color[0:3])\n",
    "        cmd.select(selName, 'resi %s' %position)\n",
    "        cmd.show(representation, selName)\n",
    "        cmd.color(colorName, selName)\n",
    "    if print_colors:\n",
    "        return set(colors_used)\n",
    "    else:\n",
    "        return None"
   ]
  }
 ],
 "metadata": {
  "kernelspec": {
   "display_name": "Python 3",
   "language": "python",
   "name": "python3"
  },
  "language_info": {
   "codemirror_mode": {
    "name": "ipython",
    "version": 3
   },
   "file_extension": ".py",
   "mimetype": "text/x-python",
   "name": "python",
   "nbconvert_exporter": "python",
   "pygments_lexer": "ipython3",
   "version": "3.7.6"
  }
 },
 "nbformat": 4,
 "nbformat_minor": 2
}
