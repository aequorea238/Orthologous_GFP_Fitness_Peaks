{
 "cells": [
  {
   "cell_type": "code",
   "execution_count": 1,
   "metadata": {},
   "outputs": [],
   "source": [
    "import pandas as pd\n",
    "import numpy as np"
   ]
  },
  {
   "cell_type": "code",
   "execution_count": 2,
   "metadata": {},
   "outputs": [],
   "source": [
    "#protein wild-types\n",
    "\n",
    "av_wt = 'MSKGEELFTGVVPILVELDGDVNGHKFSVSGEGEGDATYGKLTLKFICTTGKLPVPWPTLVTTLSYGVQCFSRYPDHMKQHDFFKSAMPEGYVQERTIFFKDDGNYKTRAEVKFEGDTLVNRIELKGIDFKEDGNILGHKLEYNYNSHNVYIMADKQKNGIKVNFKIRHNIEDGSVQLADHYQQNTPIGDGPVLLPDNHYLSTQSALSKDPNEKRDHMVLLEFVTAAGITHGMDELYK*'\n",
    "amac_wt = 'MSKGEELFTGIVPVLIELDGDVHGHKFSVRGEGEGDADYGKLEIKFICTTGKLPVPWPTLVTTLSYGILCFARYPEHMKMNDFFKSAMPEGYIQERTIFFQDDGKYKTRGEVKFEGDTLVNRIELKGMDFKEDGNILGHKLEYNFNSHNVYIMPDKANNGLKVNFKIRHNIEGGGVQLADHYQTNVPLGDGPVLIPINHYLSCQTAISKDRNETRDHMVFLEFFSACGHTHGMDELYK*'\n",
    "cgre_wt = 'MTALTEGAKLFEKEIPYITELEGDVEGMKFIIKGEGTGDATTGTIKAKYICTTGDLPVPWATILSSLSYGVFCFAKYPRHIADFFKSTQPDGYSQDRIISFDNDGQYDVKAKVTYENGTLYNRVTVKGTGFKSNGNILGMRVLYHSPPHAVYILPDRKNGGMKIEYNKAFDVMGGGHQMARHAQFNKPLGAWEEDYPLYHHLTVWTSFGKDPDDDETDHLTIVEVIKAVDLETYR*'\n",
    "pplu_wt = 'MPAMKIECRITGTLNGVEFELVGGGEGTPEQGRMTNKMKSTKGALTFSPYLLSHVMGYGFYHFGTYPSGYENPFLHAINNGGYTNTRIEKYEDGGVLHVSFSYRYEAGRVIGDFKVVGTGFPEDSVIFTDKIIRSNATVEHLHPMGDNVLVGSFARTFSLRDGGYYSFVVDSHMHFKSAIHPSILQNGGPMFAFRRVEELHSNTELGIVEYQHAFKTPIAFA*'\n",
    "\n",
    "\n",
    "#from the fasta_aln file\n",
    "av_aligned   = 'MSK---GEELFTGVVPILVELDGDVNGHKFSVSGEGEGDATYGKLTLKFICTTGKLPVPWPTLVTTLSYGVQCFSRYPDHMKQHDFFKSAM-PEGYVQERTIFFKDDGNYKTRAEVKFEGDTLVNRIELKGIDFKEDGNILGHKLEYNYNSHNVYIMADKQKNGIKVNFKIRHNIEDGSVQLADHYQQNTPIGDGPVLLP---DNHYLSTQSALSKDPNE-KRDHMVLLEFVTAAGITHGMDELYK*'\n",
    "amac_aligned = 'MSK---GEELFTGIVPVLIELDGDVHGHKFSVRGEGEGDADYGKLEIKFICTTGKLPVPWPTLVTTLSYGILCFARYPEHMKMNDFFKSAM-PEGYIQERTIFFQDDGKYKTRGEVKFEGDTLVNRIELKGMDFKEDGNILGHKLEYNFNSHNVYIMPDKANNGLKVNFKIRHNIEGGGVQLADHYQTNVPLGDGPVLIP---INHYLSCQTAISKDRNE-TRDHMVFLEFFSACGHTHGMDELYK*'\n",
    "cgre_aligned = 'MTALTEGAKLFEKEIPYITELEGDVEGMKFIIKGEGTGDATTGTIKAKYICTTGDLPVPWATILSSLSYGVFCFAKYPRHIA--DFFKSTQ-PDGYSQDRIISFDNDGQYDVKAKVTYENGTLYNRVTVKGTGFKSNGNILGMRVLYHSPPHAVYILPDRKNGGMKIEYNKAFDVMGGGHQMARHAQFNKPLGAWEEDYP---LYHHLTVWTSFGKDPDDDETDHLTIVEVIKAVDL--E---TYR*'\n",
    "pplu_aligned = 'MPA-----------MKIECRITGTLNGVEFELVGGGEGTPEQGRMTNKMKSTKGALTFSPYLLSHVMGYGFYHFGTYPSGYE--NPFLHAINNGGYTNTRIEKYEDGGVLHVSFSYRYEAGRVIGDFKVVGTGFPEDSVIFTDKII-RSNATVEHLHPM-GDNVLVGSFARTFSLRDGGYYSFVVDSHMHFKSAIHPSILQNGGPMFAFRRVEELH-----SNTELGIVEYQHAFKTPIAFA----*'\n",
    "\n",
    "prot_aligned = {av_wt:av_aligned, amac_wt:amac_aligned, cgre_wt:cgre_aligned, pplu_wt:pplu_aligned}"
   ]
  },
  {
   "cell_type": "code",
   "execution_count": 3,
   "metadata": {},
   "outputs": [],
   "source": [
    "def get_pseudo_aa_positions(wt, aligned):\n",
    "    d = {i:0 for i in range(len(wt))}\n",
    "    pos_wt=0\n",
    "    pos_al=0\n",
    "    for i in range(len(aligned)):\n",
    "        if aligned[i]!='-':\n",
    "            d[pos_wt] = pos_al\n",
    "            pos_al += 1\n",
    "            pos_wt += 1\n",
    "        else:\n",
    "            pos_al += 1\n",
    "            \n",
    "    return d"
   ]
  },
  {
   "cell_type": "markdown",
   "metadata": {},
   "source": [
    "The variable \"pseudopos_to_nativepos\" is a dictionary linking the aligned/\"pseudo\" amino acid position with their original positions in the native wild-type. \"pseudopos_to_nativeaa\" does the same, but indicating the original WT amino acid at each aligned position instead.\n",
    "\n",
    "**pseudopos_to_nativepos** = {aligned_position : [av_native_pos, amac_native_pos, cgre_native_pos, pplu_native_pos]}\n",
    "\n",
    "**pseudopos_to_nativeaa** = {aligned_position : [av_native_aa, amac_native_aa, chre_native_aa, pplu_native_aa]}"
   ]
  },
  {
   "cell_type": "code",
   "execution_count": 4,
   "metadata": {},
   "outputs": [],
   "source": [
    "pseudopos_to_nativepos = {x:[np.nan, np.nan, np.nan, np.nan] for x in range(len(av_aligned))} \n",
    "\n",
    "for i in range(4):\n",
    "    gene = [av_wt, amac_wt, cgre_wt, pplu_wt][i]\n",
    "    wt2pseudo = get_pseudo_aa_positions(gene, prot_aligned[gene])\n",
    "    for x in pseudopos_to_nativepos:\n",
    "        try:\n",
    "            pseudopos_to_nativepos[x][i] = list(wt2pseudo.keys())[list(wt2pseudo.values()).index(x)]\n",
    "        except:\n",
    "            pass"
   ]
  },
  {
   "cell_type": "code",
   "execution_count": 5,
   "metadata": {},
   "outputs": [],
   "source": [
    "pseudopos_to_nativeaa = {x:[av_aligned[x],amac_aligned[x],cgre_aligned[x],pplu_aligned[x]] for x in range(len(av_aligned))}"
   ]
  },
  {
   "cell_type": "markdown",
   "metadata": {},
   "source": [
    "The variable \"nativepos_to_pseudopos\" does the opposite, linking the wildtype position of amino acids with their aligned/\"pseudo\" positions.\n",
    "\n",
    "**nativepos_to_pseudopos** = {native_position = [av_aligned_pos, amac_aligned_pos, cgre_aligned_pos, pplu_aligned_pos]}"
   ]
  },
  {
   "cell_type": "code",
   "execution_count": 6,
   "metadata": {},
   "outputs": [],
   "source": [
    "nativepos_to_pseudopos = {x:[np.nan, np.nan, np.nan, np.nan] for x in range(239)} #238 is the longest protein, plus stop codon\n",
    "\n",
    "for i in range(4):\n",
    "    gene = [av_wt, amac_wt, cgre_wt, pplu_wt][i]\n",
    "    wt2pseudo = get_pseudo_aa_positions(gene, prot_aligned[gene])\n",
    "    for x in nativepos_to_pseudopos:\n",
    "        try:\n",
    "            nativepos_to_pseudopos[x][i] = list(wt2pseudo.values())[list(wt2pseudo.keys()).index(x)]\n",
    "        except:\n",
    "            pass"
   ]
  },
  {
   "cell_type": "code",
   "execution_count": null,
   "metadata": {},
   "outputs": [],
   "source": []
  }
 ],
 "metadata": {
  "kernelspec": {
   "display_name": "Python 3",
   "language": "python",
   "name": "python3"
  },
  "language_info": {
   "codemirror_mode": {
    "name": "ipython",
    "version": 3
   },
   "file_extension": ".py",
   "mimetype": "text/x-python",
   "name": "python",
   "nbconvert_exporter": "python",
   "pygments_lexer": "ipython3",
   "version": "3.7.6"
  }
 },
 "nbformat": 4,
 "nbformat_minor": 2
}
