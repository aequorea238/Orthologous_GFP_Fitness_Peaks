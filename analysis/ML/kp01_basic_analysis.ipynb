{
 "cells": [
  {
   "cell_type": "code",
   "execution_count": null,
   "metadata": {
    "ExecuteTime": {
     "end_time": "2021-06-15T21:19:53.737898Z",
     "start_time": "2021-06-15T21:19:52.097159Z"
    }
   },
   "outputs": [],
   "source": [
    "%run kp00_load_packages.ipynb"
   ]
  },
  {
   "cell_type": "markdown",
   "metadata": {},
   "source": [
    "# Synonyms"
   ]
  },
  {
   "cell_type": "code",
   "execution_count": null,
   "metadata": {
    "ExecuteTime": {
     "end_time": "2021-06-15T21:21:38.794832Z",
     "start_time": "2021-06-15T21:21:34.940692Z"
    }
   },
   "outputs": [],
   "source": [
    "synonyms_collapsed = {}\n",
    "for gfp in GFPs:\n",
    "    synonyms_collapsed[gfp] = collapse_synonyms(df[df.gene==gfp], 'aa_genotype_pseudo', 'replicates_mean_weighted')"
   ]
  },
  {
   "cell_type": "code",
   "execution_count": null,
   "metadata": {
    "ExecuteTime": {
     "end_time": "2021-06-15T21:21:39.349683Z",
     "start_time": "2021-06-15T21:21:39.334949Z"
    },
    "scrolled": true
   },
   "outputs": [],
   "source": [
    "gfp = 'amacGFP'\n",
    "for score_set in synonyms_collapsed[gfp][synonyms_collapsed[gfp].n_synonyms>30].all_scores:\n",
    "    plt.figure(figsize=[10,8])\n",
    "    plt.hist(synonyms_collapsed[gfp].score_mean, alpha=0.5, bins=100, density=True)\n",
    "    plt.hist(score_set, bins=100, density=True)"
   ]
  },
  {
   "cell_type": "code",
   "execution_count": null,
   "metadata": {
    "ExecuteTime": {
     "end_time": "2021-06-15T21:21:39.858673Z",
     "start_time": "2021-06-15T21:21:39.830029Z"
    }
   },
   "outputs": [],
   "source": [
    "plt.figure(figsize=[10,8])\n",
    "plt.hist([len(x) for x in amacGFP_synonyms.replicates_mean_weighted], log=True, range=[0,60], bins=100)\n",
    "plt.xlabel('Number of synonyms per protein sequence')\n",
    "plt.ylabel('Number of protein sequences')\n",
    "plt.savefig('2_figures/amacGFP_synonyms.png')"
   ]
  },
  {
   "cell_type": "markdown",
   "metadata": {},
   "source": [
    "# Mutations comparison"
   ]
  },
  {
   "cell_type": "code",
   "execution_count": null,
   "metadata": {
    "ExecuteTime": {
     "end_time": "2020-07-09T12:01:06.433087Z",
     "start_time": "2020-07-09T12:01:04.617Z"
    }
   },
   "outputs": [],
   "source": [
    "mutations = {}\n",
    "for gfp in GFPs:\n",
    "    mutations[gfp] = set(':'.join(synonyms_collapsed[gfp].index).split(':'))"
   ]
  },
  {
   "cell_type": "code",
   "execution_count": null,
   "metadata": {
    "ExecuteTime": {
     "end_time": "2020-07-09T12:01:06.433707Z",
     "start_time": "2020-07-09T12:01:04.619Z"
    }
   },
   "outputs": [],
   "source": [
    "mutations_overlap = pd.DataFrame(index=GFPs, columns=GFPs)\n",
    "for gfp1 in GFPs:\n",
    "    for gfp2 in GFPs:\n",
    "        mutations_overlap.loc[gfp1, gfp2] = len(mutations[gfp1]&mutations[gfp2])"
   ]
  },
  {
   "cell_type": "code",
   "execution_count": null,
   "metadata": {
    "ExecuteTime": {
     "end_time": "2020-07-09T12:01:06.434435Z",
     "start_time": "2020-07-09T12:01:04.620Z"
    }
   },
   "outputs": [],
   "source": [
    "mutations_overlap = mutations_overlap.fillna(0)\n",
    "plt.figure(figsize=[10,8])\n",
    "sns.heatmap(mutations_overlap, annot=True, cbar=False, fmt='d', cmap='Greys')\n",
    "plt.title('Number of common mutations')\n",
    "plt.savefig('2_figures/common_mutations_heatmap.png')"
   ]
  }
 ],
 "metadata": {
  "kernelspec": {
   "display_name": "Python 3",
   "language": "python",
   "name": "python3"
  },
  "language_info": {
   "codemirror_mode": {
    "name": "ipython",
    "version": 3
   },
   "file_extension": ".py",
   "mimetype": "text/x-python",
   "name": "python",
   "nbconvert_exporter": "python",
   "pygments_lexer": "ipython3",
   "version": "3.8.5"
  },
  "toc": {
   "base_numbering": 1,
   "nav_menu": {},
   "number_sections": true,
   "sideBar": true,
   "skip_h1_title": false,
   "title_cell": "Table of Contents",
   "title_sidebar": " ",
   "toc_cell": false,
   "toc_position": {},
   "toc_section_display": true,
   "toc_window_display": true
  }
 },
 "nbformat": 4,
 "nbformat_minor": 4
}
