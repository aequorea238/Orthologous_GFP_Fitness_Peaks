{
 "cells": [
  {
   "cell_type": "markdown",
   "metadata": {},
   "source": [
    "#### Import modules"
   ]
  },
  {
   "cell_type": "code",
   "execution_count": 1,
   "metadata": {
    "ExecuteTime": {
     "end_time": "2021-06-17T12:05:16.767113Z",
     "start_time": "2021-06-17T12:05:16.761455Z"
    }
   },
   "outputs": [
    {
     "name": "stdout",
     "output_type": "stream",
     "text": [
      "Import modules\n"
     ]
    }
   ],
   "source": [
    "print(\"Import modules\")"
   ]
  },
  {
   "cell_type": "code",
   "execution_count": 2,
   "metadata": {
    "ExecuteTime": {
     "end_time": "2021-06-17T12:05:16.777722Z",
     "start_time": "2021-06-17T12:05:16.768484Z"
    }
   },
   "outputs": [],
   "source": [
    "%config Completer.use_jedi = False"
   ]
  },
  {
   "cell_type": "code",
   "execution_count": 3,
   "metadata": {
    "ExecuteTime": {
     "end_time": "2021-06-17T12:05:18.378132Z",
     "start_time": "2021-06-17T12:05:16.779329Z"
    }
   },
   "outputs": [],
   "source": [
    "try:\n",
    "    import talos\n",
    "except:\n",
    "    # Install pip package in the current Jupyter kernel\n",
    "    import sys\n",
    "    #!{sys.executable} -m pip install talos"
   ]
  },
  {
   "cell_type": "code",
   "execution_count": 4,
   "metadata": {
    "ExecuteTime": {
     "end_time": "2021-06-17T12:05:18.383128Z",
     "start_time": "2021-06-17T12:05:18.379342Z"
    }
   },
   "outputs": [],
   "source": [
    "try:\n",
    "    import matplotlib_venn\n",
    "except:\n",
    "    # Install pip package in the current Jupyter kernel\n",
    "    import sys\n",
    "    #!{sys.executable} -m pip install matplotlib-venn"
   ]
  },
  {
   "cell_type": "code",
   "execution_count": 5,
   "metadata": {
    "ExecuteTime": {
     "end_time": "2021-06-17T12:05:18.396267Z",
     "start_time": "2021-06-17T12:05:18.384042Z"
    }
   },
   "outputs": [],
   "source": [
    "try:\n",
    "    import swifter\n",
    "except:\n",
    "    # Install pip package in the current Jupyter kernel\n",
    "    import sys\n",
    "    #!{sys.executable} -m pip install swifter\n",
    "    "
   ]
  },
  {
   "cell_type": "code",
   "execution_count": 6,
   "metadata": {
    "ExecuteTime": {
     "end_time": "2021-06-17T12:05:18.546931Z",
     "start_time": "2021-06-17T12:05:18.399298Z"
    }
   },
   "outputs": [],
   "source": [
    "# import tensorflow as tf\n",
    "# import tensorflow.keras as keras\n",
    "# from tensorflow.keras.wrappers.scikit_learn import KerasRegressor\n",
    "# from tensorflow.keras.callbacks import EarlyStopping, ModelCheckpoint\n",
    "# from tensorflow.keras.layers import Dense, Dropout, Input, Conv2D, MaxPooling2D, Flatten, Conv1D\n",
    "# from tensorflow.keras.models import Model\n",
    "# from tensorflow.keras import backend as K\n",
    "# from tensorflow.keras import Sequential\n",
    "\n",
    "\n",
    "from sklearn.model_selection import StratifiedShuffleSplit, train_test_split, ShuffleSplit\n",
    "from sklearn.linear_model import Ridge\n",
    "from sklearn.linear_model import RidgeCV\n",
    "from sklearn.linear_model import LinearRegression\n",
    "from sklearn.preprocessing import FunctionTransformer, MinMaxScaler\n",
    "from sklearn.pipeline import Pipeline, FeatureUnion\n",
    "from sklearn.metrics import explained_variance_score, mean_absolute_error, r2_score, mean_squared_error\n",
    "from sklearn.model_selection import cross_val_score\n",
    "from sklearn.utils import shuffle\n",
    "\n",
    "from scipy.stats import kendalltau, kendalltau\n",
    "from scipy.sparse import csr_matrix\n",
    "\n",
    "from multiprocessing import Pool, cpu_count\n",
    "\n",
    "import sys\n",
    "import math\n",
    "import time\n",
    "import pickle\n",
    "import random\n",
    "\n",
    "import seaborn as sns\n",
    "import matplotlib.pyplot as plt\n",
    "import matplotlib as mpl\n",
    "import pandas as pd\n",
    "import numpy as np\n",
    "\n",
    "from shutil import rmtree\n",
    "from datetime import datetime, timedelta\n",
    "from os import listdir, mkdir\n",
    "from os.path import isfile, join\n",
    "from itertools import compress\n",
    "\n",
    "import ipywidgets as widgets\n",
    "from IPython.display import HTML, display\n",
    "\n",
    "import numpy as np\n",
    "import matplotlib.pyplot as plt\n",
    "from matplotlib import cm\n",
    "from matplotlib.colors import Normalize, LogNorm\n",
    "from scipy.interpolate import interpn\n",
    "from scipy.stats import spearmanr\n",
    "\n",
    "from decimal import Decimal\n",
    "\n",
    "# import tensorflow as tf\n",
    "\n",
    "from IPython.display import clear_output, display\n",
    "\n",
    "from matplotlib_venn import venn2\n",
    "\n",
    "from collections import Counter\n"
   ]
  },
  {
   "cell_type": "code",
   "execution_count": 7,
   "metadata": {
    "ExecuteTime": {
     "end_time": "2021-06-17T12:05:18.550558Z",
     "start_time": "2021-06-17T12:05:18.548364Z"
    }
   },
   "outputs": [],
   "source": [
    "#print(tf.version)"
   ]
  },
  {
   "cell_type": "code",
   "execution_count": 8,
   "metadata": {
    "ExecuteTime": {
     "end_time": "2021-06-17T12:05:18.561321Z",
     "start_time": "2021-06-17T12:05:18.552770Z"
    }
   },
   "outputs": [],
   "source": [
    "random.seed(a=42)\n",
    "sns.set_context(\"notebook\", font_scale=1.4)\n",
    "%matplotlib inline\n",
    "\n",
    "refTablesPath   = \"_01_RefTables/\"\n",
    "rawDataPath     = \"_02_RawData/\"\n",
    "encodedDataPath = \"_03_EncodedDatasets/\"\n",
    "cachedDataPath  = \"_03_CachedData\"\n",
    "modelsPath      = \"_04_Models/\"\n",
    "figuresPath     = \"_08_Figures/\"\n",
    "geneticAlgo_output_folder=\"_07_GeneticAlgo_Results/\"\n",
    "\n",
    "for f in [refTablesPath,\n",
    "          rawDataPath,\n",
    "          encodedDataPath,\n",
    "          modelsPath,\n",
    "          figuresPath,\n",
    "          geneticAlgo_output_folder]:\n",
    "    \n",
    "\n",
    "    try:mkdir(f)\n",
    "    except:pass"
   ]
  },
  {
   "cell_type": "markdown",
   "metadata": {},
   "source": [
    "#### Define functions"
   ]
  },
  {
   "cell_type": "code",
   "execution_count": 9,
   "metadata": {
    "ExecuteTime": {
     "end_time": "2021-06-17T12:05:18.570774Z",
     "start_time": "2021-06-17T12:05:18.562412Z"
    }
   },
   "outputs": [
    {
     "name": "stdout",
     "output_type": "stream",
     "text": [
      "Define functions\n"
     ]
    }
   ],
   "source": [
    "print(\"Define functions\")"
   ]
  },
  {
   "cell_type": "code",
   "execution_count": 10,
   "metadata": {
    "ExecuteTime": {
     "end_time": "2021-06-17T12:05:18.578110Z",
     "start_time": "2021-06-17T12:05:18.571945Z"
    }
   },
   "outputs": [],
   "source": [
    "# function to view encoded proteins\n",
    "def show_matrix(m):\n",
    "    #display a matrix\n",
    "    cm = sns.light_palette(\"seagreen\", as_cmap=True)\n",
    "    display(m.style.background_gradient(cmap=cm))\n",
    "    \n",
    "def flatten(list_of_lists):\n",
    "    return([item for sublist in list_of_lists for item in sublist])\n",
    "\n",
    "def print_list(l):\n",
    "    print(\", \".join([str(elt) for elt in l]))"
   ]
  },
  {
   "cell_type": "code",
   "execution_count": 11,
   "metadata": {
    "ExecuteTime": {
     "end_time": "2021-06-17T12:05:18.585057Z",
     "start_time": "2021-06-17T12:05:18.579126Z"
    }
   },
   "outputs": [],
   "source": [
    "\n",
    "def density_scatter( x , y, ax = None, sort = True, bins = 20,norm_min=None,norm_max=None, **kwargs )   :\n",
    "    \"\"\"\n",
    "    Scatter plot colored by 2d histogram\n",
    "    \"\"\"\n",
    "    if ax is None :\n",
    "        fig , ax = plt.subplots(figsize=(11, 10))\n",
    "        fig.patch.set_facecolor('w')\n",
    "    data , x_e, y_e = np.histogram2d( x, y, bins = bins, density = True )\n",
    "    z = interpn( ( 0.5*(x_e[1:] + x_e[:-1]) , 0.5*(y_e[1:]+y_e[:-1]) ) , data , np.vstack([x,y]).T , method = \"splinef2d\", bounds_error = False)\n",
    "\n",
    "    #To be sure to plot all data\n",
    "    z[np.where(np.isnan(z))] = 0.0\n",
    "\n",
    "    # Sort the points by density, so that the densest points are plotted last\n",
    "    if sort :\n",
    "        idx = z.argsort()\n",
    "        x, y, z = x[idx], y[idx], z[idx]\n",
    "\n",
    "    ax.scatter( x, y, c=z, **kwargs )\n",
    "    \n",
    "    if norm_min!=None and norm_max!=None:\n",
    "        print(\"norm!\")\n",
    "        norm = Normalize(vmin = norm_min, vmax = norm_max)\n",
    "    else:\n",
    "        norm = Normalize(vmin = np.min(z), vmax = np.max(z))\n",
    "        \n",
    "    cbar = fig.colorbar(cm.ScalarMappable(norm = norm), ax=ax)\n",
    "    cbar.ax.set_ylabel('Density')\n",
    "\n",
    "    return ax"
   ]
  },
  {
   "cell_type": "code",
   "execution_count": 12,
   "metadata": {
    "ExecuteTime": {
     "end_time": "2021-06-17T12:05:18.591622Z",
     "start_time": "2021-06-17T12:05:18.586611Z"
    }
   },
   "outputs": [],
   "source": [
    "# format genotypes\n",
    "\n",
    "def format_genotypes(df):\n",
    "    # remove S(ubstitution) at the beginning of each mutation\n",
    "    result = pd.DataFrame([str(row[genotype_col]).replace(\":S\",\":\")[1:] if row[genotype_col]!=\"wt\" else \"wt\" for index,row in df.iterrows()],\n",
    "                          columns=[genotype_col],\n",
    "                          index = df.index)\n",
    "    # re-number positions so that initial M=0 (Louisa's numbering)\n",
    "    def re_number(genotype):\n",
    "        if genotype==\"wt\":\n",
    "            pass\n",
    "        else:\n",
    "            shift=1\n",
    "            genotype = \":\".join([\"\".join((elt[0],str(int(elt[1:-1])+shift),elt[-1])) for elt in genotype.split(\":\")])\n",
    "        return(genotype)\n",
    "    \n",
    "    \n",
    "    result[genotype_col] = result[genotype_col].apply(lambda x:re_number(x))\n",
    "    \n",
    "    return(result)\n",
    "\n",
    "get_formatted_genotypes = FunctionTransformer(format_genotypes)\n"
   ]
  },
  {
   "cell_type": "code",
   "execution_count": 13,
   "metadata": {
    "ExecuteTime": {
     "end_time": "2021-06-17T12:05:18.600596Z",
     "start_time": "2021-06-17T12:05:18.592686Z"
    }
   },
   "outputs": [],
   "source": [
    "# Recreate mutated seq from wt_seq + aaMutations\n",
    "\n",
    "def genotype_to_seq(df):\n",
    "    \n",
    "    verbose=False\n",
    "    \n",
    "    new_seqs = []\n",
    "    # genotype to seq\n",
    "    for index, row in df.iterrows():\n",
    "        \n",
    "        new_seq = str(wt_seq)\n",
    "        \n",
    "        if row[genotype_col]==\"wt\":\n",
    "            aaMutations=[]\n",
    "        else:\n",
    "            aaMutations = [(elt[0], int(elt[1:-1]), elt[-1]) for elt in str(row[genotype_col]).split(\":\")]\n",
    "                \n",
    "        if verbose:\n",
    "            print(new_seq)\n",
    "            print(len(new_seq))\n",
    "            print(aaMutations)\n",
    "\n",
    "        for elt in aaMutations:\n",
    "            new_seq = new_seq[0:elt[1]]+elt[2]+new_seq[elt[1]+1:] \n",
    "            if verbose: print(\"*\"*elt[1])\n",
    "        \n",
    "        if verbose:\n",
    "            print(new_seq)\n",
    "            print(len(new_seq))\n",
    "            print(\"\\n\\n\\n\")\n",
    "\n",
    "        new_seqs.append(new_seq)        \n",
    "\n",
    "    new_seqs = pd.DataFrame(new_seqs,\n",
    "                            columns=[\"full_seq\"],\n",
    "                            index=df.index)\n",
    "\n",
    "    return(new_seqs)\n",
    "\n",
    "# wrap for pipeline\n",
    "get_seq_from_genotype = FunctionTransformer(genotype_to_seq)\n"
   ]
  },
  {
   "cell_type": "code",
   "execution_count": 14,
   "metadata": {
    "ExecuteTime": {
     "end_time": "2021-06-17T12:05:18.608304Z",
     "start_time": "2021-06-17T12:05:18.602219Z"
    }
   },
   "outputs": [],
   "source": [
    "# one hot encoding\n",
    "# or use sklearn OH instead\n",
    "codes = ['A', 'C', 'D', 'E', 'F', 'G', 'H', 'I', 'K', 'L',\n",
    "         'M', 'N', 'P', 'Q', 'R', 'S', 'T', 'V', 'W', 'Y', \"*\"]\n",
    "\n",
    "codes_as_dict = {codes[k]: [0]*len(codes) for k in range(len(codes))}\n",
    "\n",
    "for k in range(len(codes)):\n",
    "    codes_as_dict[codes[k]][k] = 1\n",
    "\n",
    "def one_hot_encoder(df):\n",
    "    # can encode the whole df\n",
    "    # but a parallel version is defined below\n",
    "    encoded_list = [flatten([codes_as_dict[k] for k in str(\n",
    "        row[\"full_seq\"])]) for index, row in df.iterrows()]\n",
    "\n",
    "    cols = []\n",
    "    for i in range(len(df.iloc[0][\"full_seq\"])):\n",
    "        for c in codes:\n",
    "            cols.append(\"Pos\"+str(i)+c)\n",
    "\n",
    "    encoded_one_hot = pd.DataFrame(encoded_list,\n",
    "                                   index=df.index,\n",
    "                                   columns=cols)\n",
    "\n",
    "    return(encoded_one_hot)\n"
   ]
  },
  {
   "cell_type": "code",
   "execution_count": 15,
   "metadata": {
    "ExecuteTime": {
     "end_time": "2021-06-17T12:05:18.617370Z",
     "start_time": "2021-06-17T12:05:18.609479Z"
    }
   },
   "outputs": [],
   "source": [
    "def one_hot_encoder_pl(df):\n",
    "    \n",
    "    # count available cpus\n",
    "    partitions = cpu_count()\n",
    "    # split df in as many parts\n",
    "    data_split = np.array_split(df, partitions)\n",
    "    # define computing pool and get results\n",
    "    pool = Pool(partitions)\n",
    "    encoded_one_hot = pd.concat(pool.map(one_hot_encoder, data_split))\n",
    "    pool.close()\n",
    "    pool.join()\n",
    "    \n",
    "    return(encoded_one_hot)\n",
    "\n",
    "# wrap for pipeline\n",
    "get_one_hot_encoding_pl = FunctionTransformer(one_hot_encoder_pl)\n"
   ]
  },
  {
   "cell_type": "code",
   "execution_count": 16,
   "metadata": {
    "ExecuteTime": {
     "end_time": "2021-06-17T12:05:18.623727Z",
     "start_time": "2021-06-17T12:05:18.618730Z"
    }
   },
   "outputs": [],
   "source": [
    "import seaborn as sns\n",
    "\n",
    "def makenicegraph(data=None, x=None, y=None, cmap='mako', bins=100, figsize=(5,5), snsbins=60,plot_clim=None):\n",
    "    \n",
    "    sns.set_style(\"white\")\n",
    "    \n",
    "    ax1 = sns.jointplot(x=data[x],\n",
    "                        y=data[y],\n",
    "                        marginal_kws={\"bins\":snsbins,\n",
    "                                      \"color\":\"#1B80A2\"},\n",
    "                        ratio=5,\n",
    "                        height=5,\n",
    "                        xlim=(0,10),\n",
    "                       ylim=(0,10))\n",
    "    \n",
    "    \n",
    "    ax1.fig.set_size_inches(figsize[0], figsize[1])\n",
    "    ax1.ax_joint.cla()\n",
    "    plt.sca(ax1.ax_joint)\n",
    "    plt.hist2d(data[x],data[y],bins,norm=LogNorm(),cmap=cmap)\n",
    "    plt.xlim(plot_range)\n",
    "    plt.ylim(plot_range)\n",
    "    plt.plot(plot_range,plot_range, 'k-')\n",
    "    \n",
    "    plt.xlabel(x,fontsize=12)\n",
    "    plt.ylabel(y,fontsize=12)\n",
    "\n",
    "    cbar_ax = ax1.fig.add_axes([1, 0.25, .01, .5])\n",
    "    cb = plt.colorbar(cax=cbar_ax)\n",
    "    cb.set_label(r'$\\log_{10}$ density of points',fontsize=13)\n",
    "    \n",
    "    if plot_clim!=None:\n",
    "        plt.clim(plot_clim[0],plot_clim[1])\n",
    "\n",
    "\n"
   ]
  },
  {
   "cell_type": "code",
   "execution_count": null,
   "metadata": {},
   "outputs": [],
   "source": []
  }
 ],
 "metadata": {
  "kernelspec": {
   "display_name": "Python 3",
   "language": "python",
   "name": "python3"
  },
  "language_info": {
   "codemirror_mode": {
    "name": "ipython",
    "version": 3
   },
   "file_extension": ".py",
   "mimetype": "text/x-python",
   "name": "python",
   "nbconvert_exporter": "python",
   "pygments_lexer": "ipython3",
   "version": "3.7.6"
  },
  "toc": {
   "base_numbering": 1,
   "nav_menu": {},
   "number_sections": true,
   "sideBar": true,
   "skip_h1_title": false,
   "title_cell": "Table of Contents",
   "title_sidebar": " ",
   "toc_cell": false,
   "toc_position": {
    "height": "calc(100% - 180px)",
    "left": "10px",
    "top": "150px",
    "width": "341.804px"
   },
   "toc_section_display": true,
   "toc_window_display": true
  }
 },
 "nbformat": 4,
 "nbformat_minor": 4
}
