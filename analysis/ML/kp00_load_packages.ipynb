{
 "cells": [
  {
   "cell_type": "code",
   "execution_count": 6,
   "metadata": {
    "ExecuteTime": {
     "end_time": "2021-06-15T21:21:26.348338Z",
     "start_time": "2021-06-15T21:21:26.341709Z"
    }
   },
   "outputs": [],
   "source": [
    "import os\n",
    "import numpy as np\n",
    "import pandas as pd\n",
    "pd.set_option('display.max_rows', 500)\n",
    "\n",
    "from scipy.stats import spearmanr, pearsonr\n",
    "from collections import Counter\n",
    "import logomaker\n",
    "\n",
    "#from fisher_tools.utils import highlight_differences\n",
    "#from fisher_tools.sequence_utils import translate_dna#s, calculate_hamming_distance\n",
    "#from fisher_tools.constants import AMINO_ACID_CHARS\n",
    "\n",
    "import matplotlib.pyplot as plt\n",
    "import seaborn as sns\n",
    "import matplotlib.patches as mpatches\n",
    "plt.rcParams['axes.prop_cycle'] = plt.cycler('color', ['#512b58', '#5b8c85','#f18867', '#50bda1', '#21243d', '#3282b8', '#ff3f98', '#c6f1d6'])\n",
    "\n",
    "%matplotlib inline"
   ]
  },
  {
   "cell_type": "code",
   "execution_count": 7,
   "metadata": {
    "ExecuteTime": {
     "end_time": "2021-06-15T21:21:26.838922Z",
     "start_time": "2021-06-15T21:21:26.349263Z"
    }
   },
   "outputs": [],
   "source": [
    "DATA_LOCATION = '_02_RawData/'\n",
    "df = pd.read_csv(f'{DATA_LOCATION}/amac_cgre_pplu_aa_genotype_indexed_clean_CDF_april2020.txt', sep='\\t')\n",
    "df = df.fillna('')\n",
    "\n",
    "GFPs = sorted(list(set(df.gene)))"
   ]
  },
  {
   "cell_type": "code",
   "execution_count": 8,
   "metadata": {
    "ExecuteTime": {
     "end_time": "2021-06-15T21:21:26.842894Z",
     "start_time": "2021-06-15T21:21:26.840217Z"
    }
   },
   "outputs": [],
   "source": [
    "WT_SEQs = {}\n",
    "WT_SEQs['avGFP'] = 'MSKGEELFTGVVPILVELDGDVNGHKFSVSGEGEGDATYGKLTLKFICTTGKLPVPWPTLVTTLSYGVQCFSRYPDHMKQHDFFKSAMPEGYVQERTIFFKDDGNYKTRAEVKFEGDTLVNRIELKGIDFKEDGNILGHKLEYNYNSHNVYIMADKQKNGIKVNFKIRHNIEDGSVQLADHYQQNTPIGDGPVLLPDNHYLSTQSALSKDPNEKRDHMVLLEFVTAAGITHGMDELYK*'\n",
    "WT_SEQs['amacGFP'] = 'MSKGEELFTGIVPVLIELDGDVHGHKFSVRGEGEGDADYGKLEIKFICTTGKLPVPWPTLVTTLSYGILCFARYPEHMKMNDFFKSAMPEGYIQERTIFFQDDGKYKTRGEVKFEGDTLVNRIELKGMDFKEDGNILGHKLEYNFNSHNVYIMPDKANNGLKVNFKIRHNIEGGGVQLADHYQTNVPLGDGPVLIPINHYLSCQTAISKDRNETRDHMVFLEFFSACGHTHGMDELYK*'\n",
    "WT_SEQs['cgreGFP'] = 'MTALTEGAKLFEKEIPYITELEGDVEGMKFIIKGEGTGDATTGTIKAKYICTTGDLPVPWATILSSLSYGVFCFAKYPRHIADFFKSTQPDGYSQDRIISFDNDGQYDVKAKVTYENGTLYNRVTVKGTGFKSNGNILGMRVLYHSPPHAVYILPDRKNGGMKIEYNKAFDVMGGGHQMARHAQFNKPLGAWEEDYPLYHHLTVWTSFGKDPDDDETDHLTIVEVIKAVDLETYR*'\n",
    "WT_SEQs['ppluGFP'] = 'MPAMKIECRITGTLNGVEFELVGGGEGTPEQGRMTNKMKSTKGALTFSPYLLSHVMGYGFYHFGTYPSGYENPFLHAINNGGYTNTRIEKYEDGGVLHVSFSYRYEAGRVIGDFKVVGTGFPEDSVIFTDKIIRSNATVEHLHPMGDNVLVGSFARTFSLRDGGYYSFVVDSHMHFKSAIHPSILQNGGPMFAFRRVEELHSNTELGIVEYQHAFKTPIAFA*'\n",
    "\n",
    "\n",
    "WT_SEQs_ALIGNED = {}\n",
    "WT_SEQs_ALIGNED['avGFP']   = 'MSK---GEELFTGVVPILVELDGDVNGHKFSVSGEGEGDATYGKLTLKFICTTGKLPVPWPTLVTTLSYGVQCFSRYPDHMKQHDFFKSAM-PEGYVQERTIFFKDDGNYKTRAEVKFEGDTLVNRIELKGIDFKEDGNILGHKLEYNYNSHNVYIMADKQKNGIKVNFKIRHNIEDGSVQLADHYQQNTPIGDGPVLLP---DNHYLSTQSALSKDPNE-KRDHMVLLEFVTAAGITHGMDELYK*'\n",
    "WT_SEQs_ALIGNED['amacGFP'] = 'MSK---GEELFTGIVPVLIELDGDVHGHKFSVRGEGEGDADYGKLEIKFICTTGKLPVPWPTLVTTLSYGILCFARYPEHMKMNDFFKSAM-PEGYIQERTIFFQDDGKYKTRGEVKFEGDTLVNRIELKGMDFKEDGNILGHKLEYNFNSHNVYIMPDKANNGLKVNFKIRHNIEGGGVQLADHYQTNVPLGDGPVLIP---INHYLSCQTAISKDRNE-TRDHMVFLEFFSACGHTHGMDELYK*'\n",
    "WT_SEQs_ALIGNED['cgreGFP'] = 'MTALTEGAKLFEKEIPYITELEGDVEGMKFIIKGEGTGDATTGTIKAKYICTTGDLPVPWATILSSLSYGVFCFAKYPRHIA--DFFKSTQ-PDGYSQDRIISFDNDGQYDVKAKVTYENGTLYNRVTVKGTGFKSNGNILGMRVLYHSPPHAVYILPDRKNGGMKIEYNKAFDVMGGGHQMARHAQFNKPLGAWEEDYP---LYHHLTVWTSFGKDPDDDETDHLTIVEVIKAVDL--E---TYR*'\n",
    "WT_SEQs_ALIGNED['ppluGFP'] = 'MPA-----------MKIECRITGTLNGVEFELVGGGEGTPEQGRMTNKMKSTKGALTFSPYLLSHVMGYGFYHFGTYPSGYE--NPFLHAINNGGYTNTRIEKYEDGGVLHVSFSYRYEAGRVIGDFKVVGTGFPEDSVIFTDKII-RSNATVEHLHPM-GDNVLVGSFARTFSLRDGGYYSFVVDSHMHFKSAIHPSILQNGGPMFAFRRVEELH-----SNTELGIVEYQHAFKTPIAFA----*'"
   ]
  },
  {
   "cell_type": "code",
   "execution_count": 9,
   "metadata": {
    "ExecuteTime": {
     "end_time": "2021-06-15T21:21:26.854312Z",
     "start_time": "2021-06-15T21:21:26.843911Z"
    }
   },
   "outputs": [],
   "source": [
    "def collapse_synonyms(df, protein_column, score_column):\n",
    "    df = df.groupby(protein_column)[[score_column]].aggregate(list)\n",
    "    df.columns=['all_scores']\n",
    "    df['score_mean'] = [np.mean(x) for x in df.all_scores]\n",
    "    df['score_std'] = [np.std(x) for x in df.all_scores]\n",
    "    df['n_synonyms'] = [len(x) for x in df.all_scores]\n",
    "    \n",
    "    return df"
   ]
  },
  {
   "cell_type": "code",
   "execution_count": 10,
   "metadata": {
    "ExecuteTime": {
     "end_time": "2021-06-15T21:21:26.861354Z",
     "start_time": "2021-06-15T21:21:26.855635Z"
    }
   },
   "outputs": [],
   "source": [
    "def insert_mutations(wt_sq, mutations):\n",
    "    if mutations == ['']:\n",
    "        return wt_sq\n",
    "    else:\n",
    "        new_sq=str(wt_sq)\n",
    "        for mut in mutations:\n",
    "            position=int(mut[1:-1])\n",
    "            aa=mut[-1]\n",
    "            new_sq=new_sq[:position] + aa + new_sq[position+1:]\n",
    "        return new_sq"
   ]
  },
  {
   "cell_type": "code",
   "execution_count": null,
   "metadata": {},
   "outputs": [],
   "source": []
  }
 ],
 "metadata": {
  "kernelspec": {
   "display_name": "Python 3",
   "language": "python",
   "name": "python3"
  },
  "language_info": {
   "codemirror_mode": {
    "name": "ipython",
    "version": 3
   },
   "file_extension": ".py",
   "mimetype": "text/x-python",
   "name": "python",
   "nbconvert_exporter": "python",
   "pygments_lexer": "ipython3",
   "version": "3.8.5"
  },
  "toc": {
   "base_numbering": 1,
   "nav_menu": {},
   "number_sections": true,
   "sideBar": true,
   "skip_h1_title": false,
   "title_cell": "Table of Contents",
   "title_sidebar": " ",
   "toc_cell": false,
   "toc_position": {},
   "toc_section_display": true,
   "toc_window_display": true
  }
 },
 "nbformat": 4,
 "nbformat_minor": 4
}
