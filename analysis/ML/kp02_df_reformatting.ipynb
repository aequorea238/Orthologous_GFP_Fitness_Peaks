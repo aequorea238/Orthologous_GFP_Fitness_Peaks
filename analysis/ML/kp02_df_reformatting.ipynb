{
 "cells": [
  {
   "cell_type": "code",
   "execution_count": 12,
   "metadata": {
    "ExecuteTime": {
     "end_time": "2021-06-15T21:22:10.683240Z",
     "start_time": "2021-06-15T21:22:10.358831Z"
    }
   },
   "outputs": [],
   "source": [
    "%run kp00_load_packages.ipynb"
   ]
  },
  {
   "cell_type": "code",
   "execution_count": 13,
   "metadata": {
    "ExecuteTime": {
     "end_time": "2021-06-15T21:22:12.510022Z",
     "start_time": "2021-06-15T21:22:10.684355Z"
    }
   },
   "outputs": [],
   "source": [
    "df['aa_sequence_aligned'] = df.apply(lambda row: insert_mutations(WT_SEQs_ALIGNED[row.gene], row.aa_genotype_pseudo.split(':')) if row.aa_genotype_pseudo!='wt' else WT_SEQs_ALIGNED[row.gene], axis=1)\n",
    "df['aa_sequence'] = [sq.replace('-','') for sq in df.aa_sequence_aligned]\n",
    "df['log_brightness'] = [np.log10(x) for x in df.replicates_mean_brightness]"
   ]
  },
  {
   "cell_type": "code",
   "execution_count": 14,
   "metadata": {
    "ExecuteTime": {
     "end_time": "2021-06-15T21:22:12.514607Z",
     "start_time": "2021-06-15T21:22:12.511478Z"
    }
   },
   "outputs": [
    {
     "data": {
      "text/plain": [
       "Index(['Unnamed: 0', 'aa_genotype_pseudo', 'gene', 'total_cell_count',\n",
       "       'n_replicates', 'replicates_stdev_weighted',\n",
       "       'replicates_mean_brightness', 'ddG_monomer', 'ddG_monomer_stdev',\n",
       "       'ddG_dimer', 'ddG_dimer_stdev', 'aa_genotype_native',\n",
       "       'aa_sequence_aligned', 'aa_sequence', 'log_brightness'],\n",
       "      dtype='object')"
      ]
     },
     "execution_count": 14,
     "metadata": {},
     "output_type": "execute_result"
    }
   ],
   "source": [
    "df.columns"
   ]
  },
  {
   "cell_type": "code",
   "execution_count": 15,
   "metadata": {
    "ExecuteTime": {
     "end_time": "2021-06-15T21:22:12.736481Z",
     "start_time": "2021-06-15T21:22:12.516019Z"
    }
   },
   "outputs": [
    {
     "data": {
      "image/png": "[encoded data removed]",
      "text/plain": [
       "<Figure size 720x576 with 1 Axes>"
      ]
     },
     "metadata": {
      "needs_background": "light"
     },
     "output_type": "display_data"
    }
   ],
   "source": [
    "plt.figure(figsize=[10,8])\n",
    "plt.hist(df.replicates_mean_brightness, bins=100);"
   ]
  },
  {
   "cell_type": "code",
   "execution_count": 16,
   "metadata": {
    "ExecuteTime": {
     "end_time": "2021-06-15T21:22:12.944493Z",
     "start_time": "2021-06-15T21:22:12.737567Z"
    }
   },
   "outputs": [
    {
     "data": {
      "image/png": "[encoded data removed]",
      "text/plain": [
       "<Figure size 720x576 with 1 Axes>"
      ]
     },
     "metadata": {
      "needs_background": "light"
     },
     "output_type": "display_data"
    }
   ],
   "source": [
    "plt.figure(figsize=[10,8])\n",
    "plt.hist(df.log_brightness, range=[1, 5], bins=100);"
   ]
  },
  {
   "cell_type": "code",
   "execution_count": 17,
   "metadata": {
    "ExecuteTime": {
     "end_time": "2021-06-15T21:22:12.966523Z",
     "start_time": "2021-06-15T21:22:12.945482Z"
    }
   },
   "outputs": [
    {
     "data": {
      "text/plain": [
       "(-14.262760251217674, 4.630545947305961)"
      ]
     },
     "execution_count": 17,
     "metadata": {},
     "output_type": "execute_result"
    }
   ],
   "source": [
    "min(df.log_brightness), max(df.log_brightness)"
   ]
  },
  {
   "cell_type": "code",
   "execution_count": 18,
   "metadata": {
    "ExecuteTime": {
     "end_time": "2021-06-15T21:22:12.977624Z",
     "start_time": "2021-06-15T21:22:12.967830Z"
    }
   },
   "outputs": [],
   "source": [
    "df.log_brightness = np.clip(df.log_brightness, 1, 5)"
   ]
  },
  {
   "cell_type": "code",
   "execution_count": 19,
   "metadata": {
    "ExecuteTime": {
     "end_time": "2021-06-15T21:22:13.034598Z",
     "start_time": "2021-06-15T21:22:12.979140Z"
    }
   },
   "outputs": [],
   "source": [
    "df = df[['aa_sequence', 'gene', 'aa_genotype_pseudo', 'log_brightness', 'replicates_stdev_weighted']]\n",
    "df.columns = ['aa_sequence', 'gene', 'aa_mutations_pseudo', 'log_brightness', 'brightness_std']"
   ]
  },
  {
   "cell_type": "code",
   "execution_count": 20,
   "metadata": {
    "ExecuteTime": {
     "end_time": "2021-06-15T21:22:13.573271Z",
     "start_time": "2021-06-15T21:22:13.036124Z"
    }
   },
   "outputs": [],
   "source": [
    "df.to_csv('3_data/ranked_sequences.csv')"
   ]
  },
  {
   "cell_type": "code",
   "execution_count": 21,
   "metadata": {
    "ExecuteTime": {
     "end_time": "2021-06-15T21:22:13.586121Z",
     "start_time": "2021-06-15T21:22:13.574403Z"
    }
   },
   "outputs": [
    {
     "data": {
      "text/html": [
       "<div>\n",
       "<style scoped>\n",
       "    .dataframe tbody tr th:only-of-type {\n",
       "        vertical-align: middle;\n",
       "    }\n",
       "\n",
       "    .dataframe tbody tr th {\n",
       "        vertical-align: top;\n",
       "    }\n",
       "\n",
       "    .dataframe thead th {\n",
       "        text-align: right;\n",
       "    }\n",
       "</style>\n",
       "<table border=\"1\" class=\"dataframe\">\n",
       "  <thead>\n",
       "    <tr style=\"text-align: right;\">\n",
       "      <th></th>\n",
       "      <th>aa_sequence</th>\n",
       "      <th>gene</th>\n",
       "      <th>aa_mutations_pseudo</th>\n",
       "      <th>log_brightness</th>\n",
       "      <th>brightness_std</th>\n",
       "    </tr>\n",
       "  </thead>\n",
       "  <tbody>\n",
       "    <tr>\n",
       "      <th>0</th>\n",
       "      <td>MSKGEELFTGIVPVLIELDGDVHGHKFSVRGEGEGDADYGKLEIKF...</td>\n",
       "      <td>amacGFP</td>\n",
       "      <td>*246G</td>\n",
       "      <td>3.976523</td>\n",
       "      <td>0.000000e+00</td>\n",
       "    </tr>\n",
       "    <tr>\n",
       "      <th>1</th>\n",
       "      <td>MSKGEELFTGIVPVLIELDGDVHGHKFSVRGEGEGDADYGKLEIKF...</td>\n",
       "      <td>amacGFP</td>\n",
       "      <td>*246L</td>\n",
       "      <td>3.949572</td>\n",
       "      <td>0.000000e+00</td>\n",
       "    </tr>\n",
       "    <tr>\n",
       "      <th>2</th>\n",
       "      <td>MSKGEELFTGIVPVLIELDGDVHGHKFSVRGEGEGDADYGKLEIKF...</td>\n",
       "      <td>amacGFP</td>\n",
       "      <td>*246R</td>\n",
       "      <td>3.969685</td>\n",
       "      <td>0.000000e+00</td>\n",
       "    </tr>\n",
       "    <tr>\n",
       "      <th>3</th>\n",
       "      <td>MSKGEELFTGIVPVLIELDGDVHGHKFSVRGEGEGDADYGKLEIKF...</td>\n",
       "      <td>amacGFP</td>\n",
       "      <td>*246W</td>\n",
       "      <td>3.989683</td>\n",
       "      <td>0.000000e+00</td>\n",
       "    </tr>\n",
       "    <tr>\n",
       "      <th>4</th>\n",
       "      <td>MSKGEELFTGIVPVLIELDGDVHGHKFSVRGEGEGDADYGKLEIKF...</td>\n",
       "      <td>amacGFP</td>\n",
       "      <td>A160D</td>\n",
       "      <td>3.955111</td>\n",
       "      <td>1.818989e-12</td>\n",
       "    </tr>\n",
       "    <tr>\n",
       "      <th>...</th>\n",
       "      <td>...</td>\n",
       "      <td>...</td>\n",
       "      <td>...</td>\n",
       "      <td>...</td>\n",
       "      <td>...</td>\n",
       "    </tr>\n",
       "    <tr>\n",
       "      <th>92383</th>\n",
       "      <td>MPAMKIECRITGTLNGVEFELVGGGEGTPEQGRMTNKMKSTKGALT...</td>\n",
       "      <td>ppluGFP</td>\n",
       "      <td>Y95S:N222Y</td>\n",
       "      <td>4.081156</td>\n",
       "      <td>0.000000e+00</td>\n",
       "    </tr>\n",
       "    <tr>\n",
       "      <th>92384</th>\n",
       "      <td>MPAMKIECRITGTLNGVEFELVGGGEGTPEQGRMTNKMKSTKGALT...</td>\n",
       "      <td>ppluGFP</td>\n",
       "      <td>Y95S:R99C:F113S</td>\n",
       "      <td>2.483638</td>\n",
       "      <td>0.000000e+00</td>\n",
       "    </tr>\n",
       "    <tr>\n",
       "      <th>92385</th>\n",
       "      <td>MPAMKIECRITGTLNGVEFELVGGGEGTPEQGRMTNKMKSTKGALT...</td>\n",
       "      <td>ppluGFP</td>\n",
       "      <td>Y95S:S192G</td>\n",
       "      <td>4.110760</td>\n",
       "      <td>0.000000e+00</td>\n",
       "    </tr>\n",
       "    <tr>\n",
       "      <th>92386</th>\n",
       "      <td>MPAMKIECRITGTLNGVEFELVGGGEGTPEQGRMTNKMKSTKGALT...</td>\n",
       "      <td>ppluGFP</td>\n",
       "      <td>Y95S:Y103C</td>\n",
       "      <td>3.813313</td>\n",
       "      <td>0.000000e+00</td>\n",
       "    </tr>\n",
       "    <tr>\n",
       "      <th>92387</th>\n",
       "      <td>MPAMKIECRITGTLNGVEFELVGGGEGTPEQGRMTNKMKSTKGALT...</td>\n",
       "      <td>ppluGFP</td>\n",
       "      <td>wt</td>\n",
       "      <td>4.227470</td>\n",
       "      <td>7.275958e-12</td>\n",
       "    </tr>\n",
       "  </tbody>\n",
       "</table>\n",
       "<p>92388 rows × 5 columns</p>\n",
       "</div>"
      ],
      "text/plain": [
       "                                             aa_sequence     gene  \\\n",
       "0      MSKGEELFTGIVPVLIELDGDVHGHKFSVRGEGEGDADYGKLEIKF...  amacGFP   \n",
       "1      MSKGEELFTGIVPVLIELDGDVHGHKFSVRGEGEGDADYGKLEIKF...  amacGFP   \n",
       "2      MSKGEELFTGIVPVLIELDGDVHGHKFSVRGEGEGDADYGKLEIKF...  amacGFP   \n",
       "3      MSKGEELFTGIVPVLIELDGDVHGHKFSVRGEGEGDADYGKLEIKF...  amacGFP   \n",
       "4      MSKGEELFTGIVPVLIELDGDVHGHKFSVRGEGEGDADYGKLEIKF...  amacGFP   \n",
       "...                                                  ...      ...   \n",
       "92383  MPAMKIECRITGTLNGVEFELVGGGEGTPEQGRMTNKMKSTKGALT...  ppluGFP   \n",
       "92384  MPAMKIECRITGTLNGVEFELVGGGEGTPEQGRMTNKMKSTKGALT...  ppluGFP   \n",
       "92385  MPAMKIECRITGTLNGVEFELVGGGEGTPEQGRMTNKMKSTKGALT...  ppluGFP   \n",
       "92386  MPAMKIECRITGTLNGVEFELVGGGEGTPEQGRMTNKMKSTKGALT...  ppluGFP   \n",
       "92387  MPAMKIECRITGTLNGVEFELVGGGEGTPEQGRMTNKMKSTKGALT...  ppluGFP   \n",
       "\n",
       "      aa_mutations_pseudo  log_brightness  brightness_std  \n",
       "0                   *246G        3.976523    0.000000e+00  \n",
       "1                   *246L        3.949572    0.000000e+00  \n",
       "2                   *246R        3.969685    0.000000e+00  \n",
       "3                   *246W        3.989683    0.000000e+00  \n",
       "4                   A160D        3.955111    1.818989e-12  \n",
       "...                   ...             ...             ...  \n",
       "92383          Y95S:N222Y        4.081156    0.000000e+00  \n",
       "92384     Y95S:R99C:F113S        2.483638    0.000000e+00  \n",
       "92385          Y95S:S192G        4.110760    0.000000e+00  \n",
       "92386          Y95S:Y103C        3.813313    0.000000e+00  \n",
       "92387                  wt        4.227470    7.275958e-12  \n",
       "\n",
       "[92388 rows x 5 columns]"
      ]
     },
     "execution_count": 21,
     "metadata": {},
     "output_type": "execute_result"
    }
   ],
   "source": [
    "df"
   ]
  },
  {
   "cell_type": "code",
   "execution_count": null,
   "metadata": {},
   "outputs": [],
   "source": []
  }
 ],
 "metadata": {
  "kernelspec": {
   "display_name": "Python 3",
   "language": "python",
   "name": "python3"
  },
  "language_info": {
   "codemirror_mode": {
    "name": "ipython",
    "version": 3
   },
   "file_extension": ".py",
   "mimetype": "text/x-python",
   "name": "python",
   "nbconvert_exporter": "python",
   "pygments_lexer": "ipython3",
   "version": "3.8.5"
  },
  "toc": {
   "base_numbering": 1,
   "nav_menu": {},
   "number_sections": true,
   "sideBar": true,
   "skip_h1_title": false,
   "title_cell": "Table of Contents",
   "title_sidebar": " ",
   "toc_cell": false,
   "toc_position": {},
   "toc_section_display": true,
   "toc_window_display": true
  }
 },
 "nbformat": 4,
 "nbformat_minor": 4
}
