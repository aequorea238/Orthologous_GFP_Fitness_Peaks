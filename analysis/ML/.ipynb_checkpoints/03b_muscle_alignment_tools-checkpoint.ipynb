{
 "cells": [
  {
   "cell_type": "code",
   "execution_count": 1,
   "id": "affecting-graduate",
   "metadata": {
    "ExecuteTime": {
     "end_time": "2021-06-17T12:24:17.389433Z",
     "start_time": "2021-06-17T12:24:17.234561Z"
    }
   },
   "outputs": [],
   "source": [
    "import pandas as pd\n",
    "from shutil import rmtree\n",
    "import re"
   ]
  },
  {
   "cell_type": "code",
   "execution_count": 2,
   "id": "logical-execution",
   "metadata": {
    "ExecuteTime": {
     "end_time": "2021-06-17T12:24:17.393153Z",
     "start_time": "2021-06-17T12:24:17.390423Z"
    }
   },
   "outputs": [],
   "source": [
    "def seqs_to_fasta(headers:list,seqs:list,outpath:str):\n",
    "    \n",
    "    \"\"\"turning headers and sequences to fasta file and save to outpath\"\"\"\n",
    "    with open(outpath,\"w\") as out:\n",
    "        for header,seq in zip(headers,seqs):\n",
    "            out.write(f\">{header}\\n{seq}\\n\")\n"
   ]
  },
  {
   "cell_type": "code",
   "execution_count": 3,
   "id": "brief-scanning",
   "metadata": {
    "ExecuteTime": {
     "end_time": "2021-06-17T12:24:17.402678Z",
     "start_time": "2021-06-17T12:24:17.394666Z"
    }
   },
   "outputs": [],
   "source": [
    "def muscle_align(inpath:str,outpath:str):\n",
    "    \n",
    "    \"\"\"align inpath fasta file using muscle and save to outpath\"\"\"\n",
    "    try:os.remove(outpath)\n",
    "    except:pass\n",
    "    !muscle -in $inpath -out $outpath -diags\n"
   ]
  },
  {
   "cell_type": "code",
   "execution_count": 4,
   "id": "micro-swing",
   "metadata": {
    "ExecuteTime": {
     "end_time": "2021-06-17T12:24:17.410961Z",
     "start_time": "2021-06-17T12:24:17.404405Z"
    }
   },
   "outputs": [],
   "source": [
    "def muscle_align_on_profile(inpath1:str,inpath2:str,outpath:str):\n",
    "    \n",
    "    \"\"\"align inpath2 sequences onto inpath1 profile using muscle, and save to outpath\"\"\"\n",
    "    \n",
    "    try:os.remove(outpath)\n",
    "    except:pass\n",
    "    ! muscle -profile -in1 $inpath1 -in2 $inpath2 -out $outpath\n"
   ]
  },
  {
   "cell_type": "code",
   "execution_count": 5,
   "id": "funded-aurora",
   "metadata": {
    "ExecuteTime": {
     "end_time": "2021-06-17T12:24:17.417893Z",
     "start_time": "2021-06-17T12:24:17.412389Z"
    }
   },
   "outputs": [],
   "source": [
    "def clustalo_align(inpath:str,outpath:str,force:bool=False):\n",
    "    \"\"\"align inpath fasta file using clustalo and save to outpath\"\"\"\n",
    "    try:os.remove(outpath)\n",
    "    except:pass\n",
    "    if force:\n",
    "        !clustalo -i $inpath -o $outpath --threads 12 -v --force\n",
    "    else:\n",
    "        !clustalo -i $inpath -o $outpath --threads 12 -v\n"
   ]
  },
  {
   "cell_type": "code",
   "execution_count": 6,
   "id": "bound-compromise",
   "metadata": {
    "ExecuteTime": {
     "end_time": "2021-06-17T12:24:17.425426Z",
     "start_time": "2021-06-17T12:24:17.419214Z"
    }
   },
   "outputs": [],
   "source": [
    "def clustalo_align_on_profile(inpath1:str,inpath2:str,outpath:str,force:bool=False):\n",
    "    \"\"\"align inpath fasta file using clustalo and save to outpath\"\"\"\n",
    "    try:os.remove(outpath)\n",
    "    except:pass\n",
    "    if force:\n",
    "        !clustalo --profile1 $inpath1 --profile2 $inpath2 -o $outpath --threads 12 -v --is-profile --force\n",
    "    else:\n",
    "        !clustalo --profile1 $inpath1 --profile2 $inpath2 -o $outpath --threads 12 -v --is-profile\n"
   ]
  },
  {
   "cell_type": "code",
   "execution_count": 7,
   "id": "vital-organizer",
   "metadata": {
    "ExecuteTime": {
     "end_time": "2021-06-17T12:24:17.434883Z",
     "start_time": "2021-06-17T12:24:17.426499Z"
    }
   },
   "outputs": [],
   "source": [
    "def parse_fasta(fasta_path):\n",
    "    \"\"\"in: file fasta_path, out: dict with fasta headers as keys and sequences as values\"\"\"\n",
    "    with open(fasta_path,\"r\") as f:\n",
    "        \n",
    "        headers,seqs=[],[]\n",
    "        for elt in f.read().split(\">\"):\n",
    "            if elt!=\"\":\n",
    "                pattern = '^.*'\n",
    "                header=re.match(pattern, elt, re.MULTILINE).group(0)\n",
    "                headers.append(header)\n",
    "                \n",
    "                elt=elt.replace(header,\"\")\n",
    "                seq=elt.replace(\"\\n\",\"\")\n",
    "                seqs.append(seq)\n",
    "        \n",
    "        seqs=dict(zip(headers,seqs))\n",
    "        return(seqs)\n",
    "    \n"
   ]
  },
  {
   "cell_type": "code",
   "execution_count": 8,
   "id": "gentle-skirt",
   "metadata": {
    "ExecuteTime": {
     "end_time": "2021-06-17T12:24:17.440598Z",
     "start_time": "2021-06-17T12:24:17.436244Z"
    }
   },
   "outputs": [],
   "source": [
    "def import_alignment_as_df(fasta_alignment_path):\n",
    "    \"\"\"import and converts fasta alignment file into a dataframe\"\"\"\n",
    "    \n",
    "    aln=parse_fasta(fasta_alignment_path)\n",
    "    \n",
    "    headers,sequences=[],[]\n",
    "    for header,seq in aln.items():\n",
    "        headers.append(header)\n",
    "        sequences.append([aa for aa in seq])\n",
    "\n",
    "    df = pd.DataFrame(sequences,index=headers)\n",
    "    return(df)\n"
   ]
  },
  {
   "cell_type": "code",
   "execution_count": null,
   "id": "accompanied-amplifier",
   "metadata": {},
   "outputs": [],
   "source": []
  }
 ],
 "metadata": {
  "kernelspec": {
   "display_name": "Python 3",
   "language": "python",
   "name": "python3"
  },
  "language_info": {
   "codemirror_mode": {
    "name": "ipython",
    "version": 3
   },
   "file_extension": ".py",
   "mimetype": "text/x-python",
   "name": "python",
   "nbconvert_exporter": "python",
   "pygments_lexer": "ipython3",
   "version": "3.8.5"
  },
  "toc": {
   "base_numbering": 1,
   "nav_menu": {},
   "number_sections": true,
   "sideBar": false,
   "skip_h1_title": false,
   "title_cell": "Table of Contents",
   "title_sidebar": "Contents",
   "toc_cell": false,
   "toc_position": {},
   "toc_section_display": true,
   "toc_window_display": true
  }
 },
 "nbformat": 4,
 "nbformat_minor": 5
}
