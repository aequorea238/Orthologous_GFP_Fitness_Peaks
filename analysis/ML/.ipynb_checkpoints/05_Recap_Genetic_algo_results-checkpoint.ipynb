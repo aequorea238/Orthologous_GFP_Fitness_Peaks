{
 "cells": [
  {
   "cell_type": "markdown",
   "metadata": {
    "ExecuteTime": {
     "end_time": "2020-06-14T11:09:06.216667Z",
     "start_time": "2020-06-14T11:09:06.211596Z"
    }
   },
   "source": [
    "### Load gene data"
   ]
  },
  {
   "cell_type": "code",
   "execution_count": 1,
   "metadata": {
    "ExecuteTime": {
     "end_time": "2021-06-17T13:17:15.675727Z",
     "start_time": "2021-06-17T13:17:15.671351Z"
    }
   },
   "outputs": [],
   "source": [
    "gene_name=\"cgreGFP\" # amacGFP cgreGFP ppluGFP \n",
    "# did not run genetic algo to predict avGFP variants\n",
    "\n",
    "# targeted number of mutations\n",
    "nb_mutation_target=96\n",
    "\n",
    "# None: keep all runs\n",
    "# True: keep only runs where we tried to enrich in non-extant mutations\n",
    "# False: exclude runs where non-extant mutations were enriched\n",
    "non_extant_enrich = None\n"
   ]
  },
  {
   "cell_type": "code",
   "execution_count": 2,
   "metadata": {
    "ExecuteTime": {
     "end_time": "2021-06-17T13:17:15.685115Z",
     "start_time": "2021-06-17T13:17:15.676827Z"
    }
   },
   "outputs": [
    {
     "name": "stdout",
     "output_type": "stream",
     "text": [
      "96\n"
     ]
    }
   ],
   "source": [
    "print(nb_mutation_target)"
   ]
  },
  {
   "cell_type": "code",
   "execution_count": 3,
   "metadata": {
    "ExecuteTime": {
     "end_time": "2021-06-17T13:17:19.079963Z",
     "start_time": "2021-06-17T13:17:15.686275Z"
    },
    "scrolled": true
   },
   "outputs": [
    {
     "name": "stdout",
     "output_type": "stream",
     "text": [
      "Import modules\n",
      "Define functions\n",
      "Load cgreGFP data\n",
      "cgreGFP 236 aa\n"
     ]
    },
    {
     "data": {
      "image/png": "[encoded data removed]",
      "text/plain": [
       "<Figure size 504x360 with 1 Axes>"
      ]
     },
     "metadata": {},
     "output_type": "display_data"
    },
    {
     "data": {
      "image/png": "[encoded data removed]",
      "text/plain": [
       "<Figure size 504x360 with 1 Axes>"
      ]
     },
     "metadata": {},
     "output_type": "display_data"
    },
    {
     "name": "stdout",
     "output_type": "stream",
     "text": [
      "Pre-processing cgreGFP\n",
      "Split train, valid, test sets\n"
     ]
    }
   ],
   "source": [
    "showmatrix=False\n",
    "load_encodings=False\n",
    "%run 01_preprocessing.ipynb"
   ]
  },
  {
   "cell_type": "markdown",
   "metadata": {
    "ExecuteTime": {
     "end_time": "2020-06-14T11:09:06.216667Z",
     "start_time": "2020-06-14T11:09:06.211596Z"
    }
   },
   "source": [
    "### Load genetic algo data"
   ]
  },
  {
   "cell_type": "code",
   "execution_count": 4,
   "metadata": {
    "ExecuteTime": {
     "end_time": "2021-06-17T13:17:19.377416Z",
     "start_time": "2021-06-17T13:17:19.081534Z"
    }
   },
   "outputs": [
    {
     "name": "stdout",
     "output_type": "stream",
     "text": [
      "6 muts: 15 files\n",
      "GeneticAlgo_run_cgreGFP_target6muts_2020-08-25 18-44-04.950830_last_generation.csv\n",
      "GeneticAlgo_run_cgreGFP_target6muts_2020-08-25 18-47-05.835809_last_generation.csv\n",
      "GeneticAlgo_run_cgreGFP_target6muts_2020-08-25 18-48-40.102555_last_generation.csv\n",
      "GeneticAlgo_run_cgreGFP_target6muts_2020-08-25 18-56-45.026599_last_generation.csv\n",
      "GeneticAlgo_run_cgreGFP_target6muts_2020-08-25 18-58-39.224590_last_generation.csv\n",
      "GeneticAlgo_run_cgreGFP_target6muts_2020-08-25 19-00-53.979951_last_generation.csv\n",
      "GeneticAlgo_run_cgreGFP_target6muts_2020-08-25 19-03-00.179139_last_generation.csv\n",
      "GeneticAlgo_run_cgreGFP_target6muts_2020-08-25 19-05-58.167717_last_generation.csv\n",
      "GeneticAlgo_run_cgreGFP_target6muts_2020-08-25 19-07-29.781397_last_generation.csv\n",
      "GeneticAlgo_run_cgreGFP_target6muts_2020-08-25 19-09-17.796132_last_generation.csv\n",
      "GeneticAlgo_run_cgreGFP_target6muts_2020-08-25 19-13-24.140732_last_generation.csv\n",
      "GeneticAlgo_run_cgreGFP_target6muts_2020-08-25 19-15-48.133093_last_generation.csv\n",
      "GeneticAlgo_run_cgreGFP_target6muts_2020-08-25 19-17-20.981924_last_generation.csv\n",
      "GeneticAlgo_run_cgreGFP_target6muts_2020-08-25 19-18-43.338066_last_generation.csv\n",
      "GeneticAlgo_run_cgreGFP_target6muts_2020-08-25 19-19-59.168680_last_generation.csv\n",
      "12 muts: 104 files\n",
      "GeneticAlgo_run_cgreGFP_target12muts_2020-08-26 10-04-40.790026_last_generation.csv\n",
      "GeneticAlgo_run_cgreGFP_target12muts_2020-08-26 10-06-34.514187_last_generation.csv\n",
      "GeneticAlgo_run_cgreGFP_target12muts_2020-08-26 10-08-22.337872_last_generation.csv\n",
      "GeneticAlgo_run_cgreGFP_target12muts_2020-08-26 10-10-23.624873_last_generation.csv\n",
      "GeneticAlgo_run_cgreGFP_target12muts_2020-08-26 10-13-11.351846_last_generation.csv\n",
      "GeneticAlgo_run_cgreGFP_target12muts_2020-08-26 10-15-05.772345_last_generation.csv\n",
      "GeneticAlgo_run_cgreGFP_target12muts_2020-08-26 10-16-38.495485_last_generation.csv\n",
      "GeneticAlgo_run_cgreGFP_target12muts_2020-08-26 10-18-10.953106_last_generation.csv\n",
      "GeneticAlgo_run_cgreGFP_target12muts_2020-08-26 10-19-35.932802_last_generation.csv\n",
      "GeneticAlgo_run_cgreGFP_target12muts_2020-08-26 10-20-59.451869_last_generation.csv\n",
      "GeneticAlgo_run_cgreGFP_target12muts_2020-08-26 10-22-23.813283_last_generation.csv\n",
      "GeneticAlgo_run_cgreGFP_target12muts_2020-08-26 10-23-42.976435_last_generation.csv\n",
      "GeneticAlgo_run_cgreGFP_target12muts_2020-08-26 10-25-01.808350_last_generation.csv\n",
      "GeneticAlgo_run_cgreGFP_target12muts_2020-08-26 10-26-23.053522_last_generation.csv\n",
      "GeneticAlgo_run_cgreGFP_target12muts_2020-08-26 10-27-47.621920_last_generation.csv\n",
      "GeneticAlgo_run_cgreGFP_target12muts_2020-08-26 10-30-04.721243_last_generation.csv\n",
      "GeneticAlgo_run_cgreGFP_target12muts_2020-08-26 10-32-37.873610_last_generation.csv\n",
      "GeneticAlgo_run_cgreGFP_target12muts_2020-08-26 10-34-09.196190_last_generation.csv\n",
      "GeneticAlgo_run_cgreGFP_target12muts_2020-08-26 10-42-05.972027_last_generation.csv\n",
      "GeneticAlgo_run_cgreGFP_target12muts_2020-08-26 10-44-08.998624_last_generation.csv\n",
      "GeneticAlgo_run_cgreGFP_target12muts_2020-08-26 10-45-33.240735_last_generation.csv\n",
      "GeneticAlgo_run_cgreGFP_target12muts_2020-08-26 10-46-43.237725_last_generation.csv\n",
      "GeneticAlgo_run_cgreGFP_target12muts_2020-08-26 10-48-25.782727_last_generation.csv\n",
      "GeneticAlgo_run_cgreGFP_target12muts_2020-08-26 10-50-35.823309_last_generation.csv\n",
      "GeneticAlgo_run_cgreGFP_target12muts_2020-08-26 10-52-00.946621_last_generation.csv\n",
      "GeneticAlgo_run_cgreGFP_target12muts_2020-08-26 10-53-29.440174_last_generation.csv\n",
      "GeneticAlgo_run_cgreGFP_target12muts_2020-08-26 10-54-59.706457_last_generation.csv\n",
      "GeneticAlgo_run_cgreGFP_target12muts_2020-08-26 10-56-34.534026_last_generation.csv\n",
      "GeneticAlgo_run_cgreGFP_target12muts_2020-08-26 10-58-01.193109_last_generation.csv\n",
      "GeneticAlgo_run_cgreGFP_target12muts_2020-08-26 10-59-37.029329_last_generation.csv\n",
      "GeneticAlgo_run_cgreGFP_target12muts_2020-08-26 11-01-31.081418_last_generation.csv\n",
      "GeneticAlgo_run_cgreGFP_target12muts_2020-08-26 11-02-51.431854_last_generation.csv\n",
      "GeneticAlgo_run_cgreGFP_target12muts_2020-08-26 11-04-21.252204_last_generation.csv\n",
      "GeneticAlgo_run_cgreGFP_target12muts_2020-08-26 11-06-35.792069_last_generation.csv\n",
      "GeneticAlgo_run_cgreGFP_target12muts_2020-08-26 11-07-48.169265_last_generation.csv\n",
      "GeneticAlgo_run_cgreGFP_target12muts_2020-08-26 11-09-45.928394_last_generation.csv\n",
      "GeneticAlgo_run_cgreGFP_target12muts_2020-08-26 11-11-45.171084_last_generation.csv\n",
      "GeneticAlgo_run_cgreGFP_target12muts_2020-08-26 11-13-17.145441_last_generation.csv\n",
      "GeneticAlgo_run_cgreGFP_target12muts_2020-08-26 11-14-27.760090_last_generation.csv\n",
      "GeneticAlgo_run_cgreGFP_target12muts_2020-08-26 11-16-46.082885_last_generation.csv\n",
      "GeneticAlgo_run_cgreGFP_target12muts_2020-08-26 11-18-43.106317_last_generation.csv\n",
      "GeneticAlgo_run_cgreGFP_target12muts_2020-08-26 11-21-02.417460_last_generation.csv\n",
      "GeneticAlgo_run_cgreGFP_target12muts_2020-08-26 11-22-17.065624_last_generation.csv\n",
      "GeneticAlgo_run_cgreGFP_target12muts_2020-08-26 11-24-43.117831_last_generation.csv\n",
      "GeneticAlgo_run_cgreGFP_target12muts_2020-08-26 11-25-58.010068_last_generation.csv\n",
      "GeneticAlgo_run_cgreGFP_target12muts_2020-08-26 11-27-43.903700_last_generation.csv\n",
      "GeneticAlgo_run_cgreGFP_target12muts_2020-08-26 11-32-16.750665_last_generation.csv\n",
      "GeneticAlgo_run_cgreGFP_target12muts_2020-08-26 11-33-45.989249_last_generation.csv\n",
      "GeneticAlgo_run_cgreGFP_target12muts_2020-08-26 11-35-09.994392_last_generation.csv\n",
      "GeneticAlgo_run_cgreGFP_target12muts_2020-08-26 11-37-58.233275_last_generation.csv\n",
      "GeneticAlgo_run_cgreGFP_target12muts_2020-08-26 11-39-30.741073_last_generation.csv\n",
      "GeneticAlgo_run_cgreGFP_target12muts_2020-08-26 11-40-58.071751_last_generation.csv\n",
      "GeneticAlgo_run_cgreGFP_target12muts_2020-08-26 11-43-20.033908_last_generation.csv\n",
      "GeneticAlgo_run_cgreGFP_target12muts_2020-08-26 11-47-31.007911_last_generation.csv\n",
      "GeneticAlgo_run_cgreGFP_target12muts_2020-08-26 11-50-25.442976_last_generation.csv\n",
      "GeneticAlgo_run_cgreGFP_target12muts_2020-08-26 11-55-56.897534_last_generation.csv\n",
      "GeneticAlgo_run_cgreGFP_target12muts_2020-08-26 13-05-45.342072_last_generation.csv\n",
      "GeneticAlgo_run_cgreGFP_target12muts_2020-08-26 13-07-17.658057_last_generation.csv\n",
      "GeneticAlgo_run_cgreGFP_target12muts_2020-08-26 13-09-07.155633_last_generation.csv\n",
      "GeneticAlgo_run_cgreGFP_target12muts_2020-08-26 13-12-51.134715_last_generation.csv\n",
      "GeneticAlgo_run_cgreGFP_target12muts_2020-08-26 13-14-47.081233_last_generation.csv\n",
      "GeneticAlgo_run_cgreGFP_target12muts_2020-08-26 13-16-11.519782_last_generation.csv\n",
      "GeneticAlgo_run_cgreGFP_target12muts_2020-08-26 13-18-17.865041_last_generation.csv\n",
      "GeneticAlgo_run_cgreGFP_target12muts_2020-08-26 13-22-45.747320_last_generation.csv\n",
      "GeneticAlgo_run_cgreGFP_target12muts_2020-08-26 13-24-19.659144_last_generation.csv\n",
      "GeneticAlgo_run_cgreGFP_target12muts_2020-08-26 13-25-40.234787_last_generation.csv\n",
      "GeneticAlgo_run_cgreGFP_target12muts_2020-08-26 13-27-14.005985_last_generation.csv\n",
      "GeneticAlgo_run_cgreGFP_target12muts_2020-08-26 13-33-22.830484_last_generation.csv\n",
      "GeneticAlgo_run_cgreGFP_target12muts_2020-08-26 13-35-27.526875_last_generation.csv\n",
      "GeneticAlgo_run_cgreGFP_target12muts_2020-08-26 13-37-33.314374_last_generation.csv\n",
      "GeneticAlgo_run_cgreGFP_target12muts_2020-08-26 13-39-07.084312_last_generation.csv\n",
      "GeneticAlgo_run_cgreGFP_target12muts_2020-08-26 13-40-39.446680_last_generation.csv\n",
      "GeneticAlgo_run_cgreGFP_target12muts_2020-08-26 13-42-23.597961_last_generation.csv\n",
      "GeneticAlgo_run_cgreGFP_target12muts_2020-08-26 13-43-59.527951_last_generation.csv\n",
      "GeneticAlgo_run_cgreGFP_target12muts_2020-08-26 13-45-43.944505_last_generation.csv\n",
      "GeneticAlgo_run_cgreGFP_target12muts_2020-08-26 13-47-18.833225_last_generation.csv\n",
      "GeneticAlgo_run_cgreGFP_target12muts_2020-08-26 13-49-04.695863_last_generation.csv\n",
      "GeneticAlgo_run_cgreGFP_target12muts_2020-08-26 13-50-39.975406_last_generation.csv\n",
      "GeneticAlgo_run_cgreGFP_target12muts_2020-08-26 13-52-24.906646_last_generation.csv\n",
      "GeneticAlgo_run_cgreGFP_target12muts_2020-08-26 13-53-59.760872_last_generation.csv\n",
      "GeneticAlgo_run_cgreGFP_target12muts_2020-08-26 13-55-44.727272_last_generation.csv\n",
      "GeneticAlgo_run_cgreGFP_target12muts_2020-08-26 13-57-19.520644_last_generation.csv\n",
      "GeneticAlgo_run_cgreGFP_target12muts_2020-08-26 13-59-05.014146_last_generation.csv\n",
      "GeneticAlgo_run_cgreGFP_target12muts_2020-08-26 14-00-40.764719_last_generation.csv\n",
      "GeneticAlgo_run_cgreGFP_target12muts_2020-08-26 14-02-25.433950_last_generation.csv\n",
      "GeneticAlgo_run_cgreGFP_target12muts_2020-08-26 14-04-00.553018_last_generation.csv\n",
      "GeneticAlgo_run_cgreGFP_target12muts_2020-08-26 14-05-45.604783_last_generation.csv\n",
      "GeneticAlgo_run_cgreGFP_target12muts_2020-08-26 14-07-20.185725_last_generation.csv\n",
      "GeneticAlgo_run_cgreGFP_target12muts_2020-08-26 14-09-07.273592_last_generation.csv\n",
      "GeneticAlgo_run_cgreGFP_target12muts_2020-08-26 16-11-54.468623_last_generation.csv\n",
      "GeneticAlgo_run_cgreGFP_target12muts_2020-08-26 16-14-16.934299_last_generation.csv\n",
      "GeneticAlgo_run_cgreGFP_target12muts_2020-08-26 16-15-55.622192_last_generation.csv\n",
      "GeneticAlgo_run_cgreGFP_target12muts_2020-08-26 16-17-36.388314_last_generation.csv\n",
      "GeneticAlgo_run_cgreGFP_target12muts_2020-08-26 16-19-14.130657_last_generation.csv\n",
      "GeneticAlgo_run_cgreGFP_target12muts_2020-09-28 11-09-01.706149_last_generation.csv\n",
      "GeneticAlgo_run_cgreGFP_target12muts_2020-09-28 11-21-28.083049_last_generation.csv\n",
      "GeneticAlgo_run_cgreGFP_target12muts_2020-09-28 11-24-02.223766_last_generation.csv\n",
      "GeneticAlgo_run_cgreGFP_target12muts_2020-09-28 11-26-18.500530_last_generation.csv\n",
      "GeneticAlgo_run_cgreGFP_target12muts_2020-09-28 11-28-00.837489_last_generation.csv\n",
      "GeneticAlgo_run_cgreGFP_target12muts_2020-09-28 11-30-17.792546_last_generation.csv\n",
      "GeneticAlgo_run_cgreGFP_target12muts_2020-09-28 11-32-04.153253_last_generation.csv\n",
      "GeneticAlgo_run_cgreGFP_target12muts_2020-09-28 11-33-57.230767_last_generation.csv\n",
      "GeneticAlgo_run_cgreGFP_target12muts_2020-09-28 11-38-36.928988_last_generation.csv\n",
      "GeneticAlgo_run_cgreGFP_target12muts_2020-09-28 11-40-23.819321_last_generation.csv\n",
      "18 muts: 59 files\n",
      "GeneticAlgo_run_cgreGFP_target18muts_2020-09-02 10-13-11.748627_last_generation.csv\n",
      "GeneticAlgo_run_cgreGFP_target18muts_2020-09-02 10-14-37.589188_last_generation.csv\n",
      "GeneticAlgo_run_cgreGFP_target18muts_2020-09-02 10-40-09.772767_last_generation.csv\n",
      "GeneticAlgo_run_cgreGFP_target18muts_2020-09-02 10-41-40.224399_last_generation.csv\n",
      "GeneticAlgo_run_cgreGFP_target18muts_2020-09-02 10-44-13.171125_last_generation.csv\n",
      "GeneticAlgo_run_cgreGFP_target18muts_2020-09-02 10-52-31.157148_last_generation.csv\n",
      "GeneticAlgo_run_cgreGFP_target18muts_2020-09-02 10-55-35.394305_last_generation.csv\n",
      "GeneticAlgo_run_cgreGFP_target18muts_2020-09-02 11-05-13.079970_last_generation.csv\n",
      "GeneticAlgo_run_cgreGFP_target18muts_2020-09-02 11-08-43.048465_last_generation.csv\n",
      "GeneticAlgo_run_cgreGFP_target18muts_2020-09-02 11-13-21.670227_last_generation.csv\n",
      "GeneticAlgo_run_cgreGFP_target18muts_2020-09-02 11-18-25.727683_last_generation.csv\n",
      "GeneticAlgo_run_cgreGFP_target18muts_2020-09-02 11-20-55.723283_last_generation.csv\n",
      "GeneticAlgo_run_cgreGFP_target18muts_2020-09-02 11-27-34.410679_last_generation.csv\n",
      "GeneticAlgo_run_cgreGFP_target18muts_2020-09-02 11-34-38.510230_last_generation.csv\n",
      "GeneticAlgo_run_cgreGFP_target18muts_2020-09-02 11-36-02.042636_last_generation.csv\n",
      "GeneticAlgo_run_cgreGFP_target18muts_2020-09-02 12-07-03.363695_last_generation.csv\n",
      "GeneticAlgo_run_cgreGFP_target18muts_2020-09-02 12-09-15.843047_last_generation.csv\n",
      "GeneticAlgo_run_cgreGFP_target18muts_2020-09-02 12-11-28.278194_last_generation.csv\n",
      "GeneticAlgo_run_cgreGFP_target18muts_2020-09-02 12-14-10.509404_last_generation.csv\n",
      "GeneticAlgo_run_cgreGFP_target18muts_2020-09-02 12-16-02.750133_last_generation.csv\n",
      "GeneticAlgo_run_cgreGFP_target18muts_2020-09-02 12-18-56.158026_last_generation.csv\n",
      "GeneticAlgo_run_cgreGFP_target18muts_2020-09-02 12-21-17.773651_last_generation.csv\n",
      "GeneticAlgo_run_cgreGFP_target18muts_2020-09-02 12-22-49.234944_last_generation.csv\n",
      "GeneticAlgo_run_cgreGFP_target18muts_2020-09-02 12-24-19.409618_last_generation.csv\n",
      "GeneticAlgo_run_cgreGFP_target18muts_2020-09-02 12-26-39.657237_last_generation.csv\n",
      "GeneticAlgo_run_cgreGFP_target18muts_2020-09-02 12-28-13.391130_last_generation.csv\n",
      "GeneticAlgo_run_cgreGFP_target18muts_2020-09-02 12-29-42.852460_last_generation.csv\n",
      "GeneticAlgo_run_cgreGFP_target18muts_2020-09-02 12-31-09.484557_last_generation.csv\n",
      "GeneticAlgo_run_cgreGFP_target18muts_2020-09-02 12-33-37.922347_last_generation.csv\n",
      "GeneticAlgo_run_cgreGFP_target18muts_2020-09-02 12-35-17.375220_last_generation.csv\n",
      "GeneticAlgo_run_cgreGFP_target18muts_2020-09-02 12-36-54.297742_last_generation.csv\n",
      "GeneticAlgo_run_cgreGFP_target18muts_2020-09-02 12-38-38.415790_last_generation.csv\n",
      "GeneticAlgo_run_cgreGFP_target18muts_2020-09-02 12-40-17.276406_last_generation.csv\n",
      "GeneticAlgo_run_cgreGFP_target18muts_2020-09-02 12-41-54.841142_last_generation.csv\n",
      "GeneticAlgo_run_cgreGFP_target18muts_2020-09-02 12-43-38.678746_last_generation.csv\n",
      "GeneticAlgo_run_cgreGFP_target18muts_2020-09-02 12-45-18.294223_last_generation.csv\n",
      "GeneticAlgo_run_cgreGFP_target18muts_2020-09-02 12-46-54.711753_last_generation.csv\n",
      "GeneticAlgo_run_cgreGFP_target18muts_2020-09-02 12-48-38.573494_last_generation.csv\n",
      "GeneticAlgo_run_cgreGFP_target18muts_2020-09-02 12-50-19.837797_last_generation.csv\n",
      "GeneticAlgo_run_cgreGFP_target18muts_2020-09-02 12-51-53.775806_last_generation.csv\n",
      "GeneticAlgo_run_cgreGFP_target18muts_2020-09-02 12-53-37.893317_last_generation.csv\n",
      "GeneticAlgo_run_cgreGFP_target18muts_2020-09-02 12-55-18.117933_last_generation.csv\n",
      "GeneticAlgo_run_cgreGFP_target18muts_2020-09-02 12-56-55.505323_last_generation.csv\n",
      "GeneticAlgo_run_cgreGFP_target18muts_2020-09-02 12-58-37.797255_last_generation.csv\n",
      "GeneticAlgo_run_cgreGFP_target18muts_2020-09-02 13-00-19.925850_last_generation.csv\n",
      "GeneticAlgo_run_cgreGFP_target18muts_2020-09-02 13-01-55.215206_last_generation.csv\n",
      "GeneticAlgo_run_cgreGFP_target18muts_2020-09-02 13-03-38.986127_last_generation.csv\n",
      "GeneticAlgo_run_cgreGFP_target18muts_2020-11-02 13-29-51.360887_last_generation.csv\n",
      "GeneticAlgo_run_cgreGFP_target18muts_2020-11-25 17-00-50.738422_last_generation_non_extant_only.csv\n",
      "GeneticAlgo_run_cgreGFP_target18muts_2020-11-25 17-03-08.442171_last_generation_non_extant_only.csv\n",
      "GeneticAlgo_run_cgreGFP_target18muts_2020-11-25 17-06-10.315460_last_generation_non_extant_only.csv\n",
      "GeneticAlgo_run_cgreGFP_target18muts_2020-11-25 17-09-38.022272_last_generation_non_extant_only.csv\n",
      "GeneticAlgo_run_cgreGFP_target18muts_2020-11-25 17-32-35.322382_last_generation_non_extant_only.csv\n",
      "GeneticAlgo_run_cgreGFP_target18muts_2020-11-25 17-35-53.902306_last_generation_non_extant_only.csv\n",
      "GeneticAlgo_run_cgreGFP_target18muts_2020-11-25 17-38-37.048045_last_generation_non_extant_only.csv\n",
      "GeneticAlgo_run_cgreGFP_target18muts_2020-11-25 17-43-16.897854_last_generation_non_extant_only.csv\n",
      "GeneticAlgo_run_cgreGFP_target18muts_2020-11-25 17-46-06.104645_last_generation_non_extant_only.csv\n",
      "GeneticAlgo_run_cgreGFP_target18muts_2020-11-25 17-48-50.219360_last_generation_non_extant_only.csv\n",
      "GeneticAlgo_run_cgreGFP_target18muts_2020-11-25 17-51-40.662933_last_generation_non_extant_only.csv\n",
      "24 muts: 22 files\n",
      "GeneticAlgo_run_cgreGFP_target24muts_2020-09-02 13-48-08.816248_last_generation.csv\n",
      "GeneticAlgo_run_cgreGFP_target24muts_2020-09-02 13-50-46.849056_last_generation.csv\n",
      "GeneticAlgo_run_cgreGFP_target24muts_2020-09-02 13-52-28.633994_last_generation.csv\n",
      "GeneticAlgo_run_cgreGFP_target24muts_2020-09-02 13-54-17.923749_last_generation.csv\n",
      "GeneticAlgo_run_cgreGFP_target24muts_2020-09-02 13-55-50.534765_last_generation.csv\n",
      "GeneticAlgo_run_cgreGFP_target24muts_2020-09-02 13-57-24.834541_last_generation.csv\n",
      "GeneticAlgo_run_cgreGFP_target24muts_2020-09-02 13-59-01.397411_last_generation.csv\n",
      "GeneticAlgo_run_cgreGFP_target24muts_2020-09-02 14-01-24.708144_last_generation.csv\n",
      "GeneticAlgo_run_cgreGFP_target24muts_2020-09-02 14-06-09.208337_last_generation.csv\n",
      "GeneticAlgo_run_cgreGFP_target24muts_2020-09-02 14-09-53.340158_last_generation.csv\n",
      "GeneticAlgo_run_cgreGFP_target24muts_2020-09-02 14-11-28.293420_last_generation.csv\n",
      "GeneticAlgo_run_cgreGFP_target24muts_2020-09-02 14-13-54.843141_last_generation.csv\n",
      "GeneticAlgo_run_cgreGFP_target24muts_2020-09-02 14-15-38.905159_last_generation.csv\n",
      "GeneticAlgo_run_cgreGFP_target24muts_2020-11-02 13-46-31.767969_last_generation.csv\n",
      "GeneticAlgo_run_cgreGFP_target24muts_2020-11-25 17-54-19.297011_last_generation_non_extant_only.csv\n",
      "GeneticAlgo_run_cgreGFP_target24muts_2020-11-25 17-56-16.676587_last_generation_non_extant_only.csv\n",
      "GeneticAlgo_run_cgreGFP_target24muts_2020-11-25 17-58-13.527306_last_generation_non_extant_only.csv\n",
      "GeneticAlgo_run_cgreGFP_target24muts_2020-11-25 18-00-14.701379_last_generation_non_extant_only.csv\n",
      "GeneticAlgo_run_cgreGFP_target24muts_2020-11-25 18-02-20.483298_last_generation_non_extant_only.csv\n",
      "GeneticAlgo_run_cgreGFP_target24muts_2020-11-25 18-04-10.650966_last_generation_non_extant_only.csv\n",
      "GeneticAlgo_run_cgreGFP_target24muts_2020-11-25 18-07-12.273978_last_generation_non_extant_only.csv\n",
      "GeneticAlgo_run_cgreGFP_target24muts_2020-11-25 18-09-35.958844_last_generation_non_extant_only.csv\n",
      "30 muts: 16 files\n",
      "GeneticAlgo_run_cgreGFP_target30muts_2020-11-02 14-05-32.011900_last_generation.csv\n",
      "GeneticAlgo_run_cgreGFP_target30muts_2020-11-02 14-07-24.788527_last_generation.csv\n",
      "GeneticAlgo_run_cgreGFP_target30muts_2020-11-02 14-09-33.019849_last_generation.csv\n",
      "GeneticAlgo_run_cgreGFP_target30muts_2020-11-02 14-11-29.368373_last_generation.csv\n",
      "GeneticAlgo_run_cgreGFP_target30muts_2020-11-02 14-13-11.571325_last_generation.csv\n",
      "GeneticAlgo_run_cgreGFP_target30muts_2020-11-02 14-15-16.045060_last_generation.csv\n",
      "GeneticAlgo_run_cgreGFP_target30muts_2020-11-07 17-28-14.928006_last_generation.csv\n",
      "GeneticAlgo_run_cgreGFP_target30muts_2020-11-07 17-30-02.586283_last_generation.csv\n",
      "GeneticAlgo_run_cgreGFP_target30muts_2020-11-07 17-31-30.623480_last_generation.csv\n",
      "GeneticAlgo_run_cgreGFP_target30muts_2020-11-25 18-20-50.099671_last_generation_non_extant_only.csv\n",
      "GeneticAlgo_run_cgreGFP_target30muts_2020-11-25 18-26-23.815178_last_generation_non_extant_only.csv\n",
      "GeneticAlgo_run_cgreGFP_target30muts_2020-11-25 18-28-55.984411_last_generation_non_extant_only.csv\n",
      "GeneticAlgo_run_cgreGFP_target30muts_2020-11-25 18-31-06.701464_last_generation_non_extant_only.csv\n",
      "GeneticAlgo_run_cgreGFP_target30muts_2020-11-25 18-33-15.545641_last_generation_non_extant_only.csv\n",
      "GeneticAlgo_run_cgreGFP_target30muts_2020-11-25 18-35-36.728188_last_generation_non_extant_only.csv\n",
      "GeneticAlgo_run_cgreGFP_target30muts_2020-11-25 18-37-43.133440_last_generation_non_extant_only.csv\n",
      "36 muts: 17 files\n",
      "GeneticAlgo_run_cgreGFP_target36muts_2020-11-07 17-32-37.290073_last_generation.csv\n",
      "GeneticAlgo_run_cgreGFP_target36muts_2020-11-07 17-36-46.589694_last_generation.csv\n",
      "GeneticAlgo_run_cgreGFP_target36muts_2020-11-07 17-38-43.858659_last_generation.csv\n",
      "GeneticAlgo_run_cgreGFP_target36muts_2020-11-07 17-40-42.306519_last_generation.csv\n",
      "GeneticAlgo_run_cgreGFP_target36muts_2020-11-07 17-42-42.063421_last_generation.csv\n",
      "GeneticAlgo_run_cgreGFP_target36muts_2020-11-07 17-44-42.669593_last_generation.csv\n",
      "GeneticAlgo_run_cgreGFP_target36muts_2020-11-07 17-46-43.194140_last_generation.csv\n",
      "GeneticAlgo_run_cgreGFP_target36muts_2020-11-07 17-49-05.859054_last_generation.csv\n",
      "GeneticAlgo_run_cgreGFP_target36muts_2020-11-07 17-51-16.108634_last_generation.csv\n",
      "GeneticAlgo_run_cgreGFP_target36muts_2020-11-07 17-53-52.637971_last_generation.csv\n",
      "GeneticAlgo_run_cgreGFP_target36muts_2020-11-07 17-55-56.496992_last_generation.csv\n",
      "GeneticAlgo_run_cgreGFP_target36muts_2020-11-07 17-57-50.173008_last_generation.csv\n",
      "GeneticAlgo_run_cgreGFP_target36muts_2020-11-25 18-41-03.339006_last_generation_non_extant_only.csv\n",
      "GeneticAlgo_run_cgreGFP_target36muts_2020-11-25 18-47-21.362213_last_generation_non_extant_only.csv\n",
      "GeneticAlgo_run_cgreGFP_target36muts_2020-11-25 18-49-49.135506_last_generation_non_extant_only.csv\n",
      "GeneticAlgo_run_cgreGFP_target36muts_2020-11-25 18-53-14.427877_last_generation_non_extant_only.csv\n",
      "GeneticAlgo_run_cgreGFP_target36muts_2020-11-25 18-56-54.152407_last_generation_non_extant_only.csv\n",
      "42 muts: 23 files\n",
      "GeneticAlgo_run_cgreGFP_target42muts_2020-11-07 18-03-25.240671_last_generation.csv\n",
      "GeneticAlgo_run_cgreGFP_target42muts_2020-11-07 18-05-41.433444_last_generation.csv\n",
      "GeneticAlgo_run_cgreGFP_target42muts_2020-11-07 18-08-19.391072_last_generation.csv\n",
      "GeneticAlgo_run_cgreGFP_target42muts_2020-11-07 18-10-42.271928_last_generation.csv\n",
      "GeneticAlgo_run_cgreGFP_target42muts_2020-11-07 18-16-02.337277_last_generation.csv\n",
      "GeneticAlgo_run_cgreGFP_target42muts_2020-11-07 18-21-13.123180_last_generation.csv\n",
      "GeneticAlgo_run_cgreGFP_target42muts_2020-11-07 18-25-48.702445_last_generation.csv\n",
      "GeneticAlgo_run_cgreGFP_target42muts_2020-11-07 18-29-11.657352_last_generation.csv\n",
      "GeneticAlgo_run_cgreGFP_target42muts_2020-11-07 18-51-50.094121_last_generation.csv\n",
      "GeneticAlgo_run_cgreGFP_target42muts_2020-11-07 18-55-26.106788_last_generation.csv\n",
      "GeneticAlgo_run_cgreGFP_target42muts_2020-11-26 10-37-20.993818_last_generation_non_extant_only.csv\n",
      "GeneticAlgo_run_cgreGFP_target42muts_2020-11-26 11-06-12.999276_last_generation_non_extant_only.csv\n",
      "GeneticAlgo_run_cgreGFP_target42muts_2020-11-26 11-20-57.985037_last_generation_non_extant_only.csv\n",
      "GeneticAlgo_run_cgreGFP_target42muts_2020-11-26 11-23-44.400825_last_generation_non_extant_only.csv\n",
      "GeneticAlgo_run_cgreGFP_target42muts_2020-11-26 11-26-15.660554_last_generation_non_extant_only.csv\n",
      "GeneticAlgo_run_cgreGFP_target42muts_2020-11-26 11-32-43.073548_last_generation_non_extant_only.csv\n",
      "GeneticAlgo_run_cgreGFP_target42muts_2020-11-26 11-35-21.706043_last_generation_non_extant_only.csv\n",
      "GeneticAlgo_run_cgreGFP_target42muts_2020-11-26 11-38-19.035792_last_generation_non_extant_only.csv\n",
      "GeneticAlgo_run_cgreGFP_target42muts_2020-11-26 11-43-31.722085_last_generation_non_extant_only.csv\n",
      "GeneticAlgo_run_cgreGFP_target42muts_2020-11-26 11-46-20.422676_last_generation_non_extant_only.csv\n",
      "GeneticAlgo_run_cgreGFP_target42muts_2020-11-26 11-51-37.328154_last_generation_non_extant_only.csv\n",
      "GeneticAlgo_run_cgreGFP_target42muts_2020-11-26 11-54-48.646917_last_generation_non_extant_only.csv\n",
      "GeneticAlgo_run_cgreGFP_target42muts_2020-11-26 11-57-44.305904_last_generation_non_extant_only.csv\n",
      "48 muts: 21 files\n",
      "GeneticAlgo_run_cgreGFP_target48muts_2020-11-24 23-42-55.470860_last_generation.csv\n",
      "GeneticAlgo_run_cgreGFP_target48muts_2020-11-24 23-46-48.062144_last_generation.csv\n",
      "GeneticAlgo_run_cgreGFP_target48muts_2020-11-24 23-49-56.907922_last_generation.csv\n",
      "GeneticAlgo_run_cgreGFP_target48muts_2020-11-24 23-55-46.488287_last_generation.csv\n",
      "GeneticAlgo_run_cgreGFP_target48muts_2020-11-24 23-59-58.128710_last_generation.csv\n",
      "GeneticAlgo_run_cgreGFP_target48muts_2020-11-25 00-03-45.370196_last_generation.csv\n",
      "GeneticAlgo_run_cgreGFP_target48muts_2020-11-25 00-07-45.911793_last_generation.csv\n",
      "GeneticAlgo_run_cgreGFP_target48muts_2020-11-25 00-11-41.189949_last_generation.csv\n",
      "GeneticAlgo_run_cgreGFP_target48muts_2020-11-25 00-16-34.743058_last_generation.csv\n",
      "GeneticAlgo_run_cgreGFP_target48muts_2020-11-25 00-20-00.010357_last_generation.csv\n",
      "GeneticAlgo_run_cgreGFP_target48muts_2020-11-25 00-24-15.618061_last_generation.csv\n",
      "GeneticAlgo_run_cgreGFP_target48muts_2020-11-25 00-28-52.981981_last_generation.csv\n",
      "GeneticAlgo_run_cgreGFP_target48muts_2020-11-26 14-46-26.601744_last_generation_non_extant_only.csv\n",
      "GeneticAlgo_run_cgreGFP_target48muts_2020-11-26 14-58-36.702429_last_generation_non_extant_only.csv\n",
      "GeneticAlgo_run_cgreGFP_target48muts_2020-11-26 15-17-20.079064_last_generation_non_extant_only.csv\n",
      "GeneticAlgo_run_cgreGFP_target48muts_2020-11-26 15-26-22.252156_last_generation_non_extant_only.csv\n",
      "GeneticAlgo_run_cgreGFP_target48muts_2020-11-26 15-27-03.957702_last_generation_non_extant_only.csv\n",
      "GeneticAlgo_run_cgreGFP_target48muts_2020-11-26 15-31-37.032012_last_generation_non_extant_only.csv\n",
      "GeneticAlgo_run_cgreGFP_target48muts_2020-11-26 15-35-21.880506_last_generation_non_extant_only.csv\n",
      "GeneticAlgo_run_cgreGFP_target48muts_2020-11-26 15-43-29.339616_last_generation_non_extant_only.csv\n",
      "GeneticAlgo_run_cgreGFP_target48muts_2020-11-26 16-45-01.644444_last_generation_non_extant_only.csv\n",
      "54 muts: 12 files\n",
      "GeneticAlgo_run_cgreGFP_target54muts_2021-01-15 11-11-57.690066_last_generation_non_extant_only.csv\n",
      "GeneticAlgo_run_cgreGFP_target54muts_2021-01-15 11-16-51.259998_last_generation_non_extant_only.csv\n",
      "GeneticAlgo_run_cgreGFP_target54muts_2021-01-15 11-22-04.949850_last_generation_non_extant_only.csv\n",
      "GeneticAlgo_run_cgreGFP_target54muts_2021-01-15 11-25-47.522562_last_generation_non_extant_only.csv\n",
      "GeneticAlgo_run_cgreGFP_target54muts_2021-01-15 11-29-57.428969_last_generation_non_extant_only.csv\n",
      "GeneticAlgo_run_cgreGFP_target54muts_2021-01-15 11-38-40.305824_last_generation_non_extant_only.csv\n",
      "GeneticAlgo_run_cgreGFP_target54muts_2021-01-15 11-43-24.868862_last_generation_non_extant_only.csv\n",
      "GeneticAlgo_run_cgreGFP_target54muts_2021-01-15 11-49-17.249852_last_generation_non_extant_only.csv\n",
      "GeneticAlgo_run_cgreGFP_target54muts_2021-01-15 11-55-40.391793_last_generation_non_extant_only.csv\n",
      "GeneticAlgo_run_cgreGFP_target54muts_2021-01-15 12-01-25.292601_last_generation.csv\n",
      "GeneticAlgo_run_cgreGFP_target54muts_2021-01-15 12-04-38.363330_last_generation.csv\n",
      "GeneticAlgo_run_cgreGFP_target54muts_2021-01-15 12-07-48.866677_last_generation.csv\n",
      "60 muts: 75 files\n",
      "GeneticAlgo_run_cgreGFP_target60muts_2021-01-11 16-27-22.800982_last_generation.csv\n",
      "GeneticAlgo_run_cgreGFP_target60muts_2021-01-11 16-31-35.377364_last_generation.csv\n",
      "GeneticAlgo_run_cgreGFP_target60muts_2021-01-11 16-51-31.268753_last_generation.csv\n",
      "GeneticAlgo_run_cgreGFP_target60muts_2021-01-12 13-41-40.258949_last_generation.csv\n",
      "GeneticAlgo_run_cgreGFP_target60muts_2021-01-12 15-07-15.173261_last_generation.csv\n",
      "GeneticAlgo_run_cgreGFP_target60muts_2021-01-12 15-52-44.660462_last_generation.csv\n",
      "GeneticAlgo_run_cgreGFP_target60muts_2021-01-12 16-37-18.926049_last_generation.csv\n",
      "GeneticAlgo_run_cgreGFP_target60muts_2021-01-12 16-46-51.804093_last_generation.csv\n",
      "GeneticAlgo_run_cgreGFP_target60muts_2021-01-12 16-51-42.590950_last_generation_non_extant_only.csv\n",
      "GeneticAlgo_run_cgreGFP_target60muts_2021-01-12 16-58-00.089472_last_generation_non_extant_only.csv\n",
      "GeneticAlgo_run_cgreGFP_target60muts_2021-01-12 17-05-04.657592_last_generation_non_extant_only.csv\n",
      "GeneticAlgo_run_cgreGFP_target60muts_2021-01-12 17-23-41.841208_last_generation_non_extant_only.csv\n",
      "GeneticAlgo_run_cgreGFP_target60muts_2021-01-12 17-31-13.881341_last_generation_non_extant_only.csv\n",
      "GeneticAlgo_run_cgreGFP_target60muts_2021-01-12 17-38-06.885795_last_generation_non_extant_only.csv\n",
      "GeneticAlgo_run_cgreGFP_target60muts_2021-01-12 17-48-41.662400_last_generation_non_extant_only.csv\n",
      "GeneticAlgo_run_cgreGFP_target60muts_2021-01-12 18-00-05.804461_last_generation_non_extant_only.csv\n",
      "GeneticAlgo_run_cgreGFP_target60muts_2021-01-12 18-08-20.018560_last_generation_non_extant_only.csv\n",
      "GeneticAlgo_run_cgreGFP_target60muts_2021-01-12 18-16-22.891360_last_generation_non_extant_only.csv\n",
      "GeneticAlgo_run_cgreGFP_target60muts_2021-01-12 18-24-46.392013_last_generation_non_extant_only.csv\n",
      "GeneticAlgo_run_cgreGFP_target60muts_2021-01-12 18-32-43.183879_last_generation_non_extant_only.csv\n",
      "GeneticAlgo_run_cgreGFP_target60muts_2021-01-12 18-42-51.220832_last_generation_non_extant_only.csv\n",
      "GeneticAlgo_run_cgreGFP_target60muts_2021-01-12 18-51-59.620081_last_generation_non_extant_only.csv\n",
      "GeneticAlgo_run_cgreGFP_target60muts_2021-01-12 19-11-44.100186_last_generation_non_extant_only.csv\n",
      "GeneticAlgo_run_cgreGFP_target60muts_2021-01-12 19-31-58.000053_last_generation_non_extant_only.csv\n",
      "GeneticAlgo_run_cgreGFP_target60muts_2021-01-12 19-41-05.112221_last_generation_non_extant_only.csv\n",
      "GeneticAlgo_run_cgreGFP_target60muts_2021-01-12 19-54-19.977546_last_generation_non_extant_only.csv\n",
      "GeneticAlgo_run_cgreGFP_target60muts_2021-01-12 20-03-17.039821_last_generation_non_extant_only.csv\n",
      "GeneticAlgo_run_cgreGFP_target60muts_2021-01-12 20-13-17.023622_last_generation_non_extant_only.csv\n",
      "GeneticAlgo_run_cgreGFP_target60muts_2021-01-12 20-23-12.744753_last_generation_non_extant_only.csv\n",
      "GeneticAlgo_run_cgreGFP_target60muts_2021-01-12 20-32-05.435495_last_generation.csv\n",
      "GeneticAlgo_run_cgreGFP_target60muts_2021-01-12 20-39-57.697054_last_generation.csv\n",
      "GeneticAlgo_run_cgreGFP_target60muts_2021-01-12 20-48-10.908635_last_generation.csv\n",
      "GeneticAlgo_run_cgreGFP_target60muts_2021-01-12 20-56-37.720799_last_generation.csv\n",
      "GeneticAlgo_run_cgreGFP_target60muts_2021-01-12 21-05-54.612818_last_generation.csv\n",
      "GeneticAlgo_run_cgreGFP_target60muts_2021-01-12 21-23-47.623217_last_generation.csv\n",
      "GeneticAlgo_run_cgreGFP_target60muts_2021-01-12 21-50-01.677032_last_generation.csv\n",
      "GeneticAlgo_run_cgreGFP_target60muts_2021-01-12 22-00-18.447898_last_generation.csv\n",
      "GeneticAlgo_run_cgreGFP_target60muts_2021-01-12 22-15-28.034279_last_generation.csv\n",
      "GeneticAlgo_run_cgreGFP_target60muts_2021-01-12 22-25-58.514397_last_generation.csv\n",
      "GeneticAlgo_run_cgreGFP_target60muts_2021-01-12 22-54-28.460893_last_generation.csv\n",
      "GeneticAlgo_run_cgreGFP_target60muts_2021-01-12 23-15-25.324647_last_generation.csv\n",
      "GeneticAlgo_run_cgreGFP_target60muts_2021-01-12 23-25-26.916802_last_generation.csv\n",
      "GeneticAlgo_run_cgreGFP_target60muts_2021-01-12 23-37-44.660766_last_generation.csv\n",
      "GeneticAlgo_run_cgreGFP_target60muts_2021-01-12 23-49-12.658020_last_generation.csv\n",
      "GeneticAlgo_run_cgreGFP_target60muts_2021-01-12 23-58-57.768917_last_generation.csv\n",
      "GeneticAlgo_run_cgreGFP_target60muts_2021-01-13 01-31-14.647622_last_generation.csv\n",
      "GeneticAlgo_run_cgreGFP_target60muts_2021-01-13 01-51-08.498502_last_generation.csv\n",
      "GeneticAlgo_run_cgreGFP_target60muts_2021-01-13 09-28-45.932298_last_generation.csv\n",
      "GeneticAlgo_run_cgreGFP_target60muts_2021-01-13 09-39-21.673867_last_generation.csv\n",
      "GeneticAlgo_run_cgreGFP_target60muts_2021-01-13 10-04-46.759094_last_generation.csv\n",
      "GeneticAlgo_run_cgreGFP_target60muts_2021-01-13 10-17-00.882524_last_generation_non_extant_only.csv\n",
      "GeneticAlgo_run_cgreGFP_target60muts_2021-01-13 10-40-39.145814_last_generation_non_extant_only.csv\n",
      "GeneticAlgo_run_cgreGFP_target60muts_2021-01-13 11-00-49.856624_last_generation_non_extant_only.csv\n",
      "GeneticAlgo_run_cgreGFP_target60muts_2021-01-13 11-13-05.131428_last_generation_non_extant_only.csv\n",
      "GeneticAlgo_run_cgreGFP_target60muts_2021-01-13 11-24-59.551876_last_generation_non_extant_only.csv\n",
      "GeneticAlgo_run_cgreGFP_target60muts_2021-01-13 11-36-49.933760_last_generation_non_extant_only.csv\n",
      "GeneticAlgo_run_cgreGFP_target60muts_2021-01-13 12-08-46.640254_last_generation_non_extant_only.csv\n",
      "GeneticAlgo_run_cgreGFP_target60muts_2021-01-13 12-23-29.932870_last_generation_non_extant_only.csv\n",
      "GeneticAlgo_run_cgreGFP_target60muts_2021-01-13 12-37-58.077807_last_generation_non_extant_only.csv\n",
      "GeneticAlgo_run_cgreGFP_target60muts_2021-01-13 12-49-47.368708_last_generation_non_extant_only.csv\n",
      "GeneticAlgo_run_cgreGFP_target60muts_2021-01-13 12-50-55.656754_last_generation_non_extant_only.csv\n",
      "GeneticAlgo_run_cgreGFP_target60muts_2021-01-13 12-53-15.657471_last_generation_non_extant_only.csv\n",
      "GeneticAlgo_run_cgreGFP_target60muts_2021-01-13 13-06-58.821714_last_generation_non_extant_only.csv\n",
      "GeneticAlgo_run_cgreGFP_target60muts_2021-01-13 13-19-12.253912_last_generation_non_extant_only.csv\n",
      "GeneticAlgo_run_cgreGFP_target60muts_2021-01-13 13-29-09.028048_last_generation_non_extant_only.csv\n",
      "GeneticAlgo_run_cgreGFP_target60muts_2021-01-13 13-46-45.240385_last_generation_non_extant_only.csv\n",
      "GeneticAlgo_run_cgreGFP_target60muts_2021-01-13 15-18-41.176351_last_generation_non_extant_only.csv\n",
      "GeneticAlgo_run_cgreGFP_target60muts_2021-01-13 15-36-07.366274_last_generation_non_extant_only.csv\n",
      "GeneticAlgo_run_cgreGFP_target60muts_2021-01-13 16-31-06.847102_last_generation_non_extant_only.csv\n",
      "GeneticAlgo_run_cgreGFP_target60muts_2021-01-13 16-40-33.213188_last_generation_non_extant_only.csv\n",
      "GeneticAlgo_run_cgreGFP_target60muts_2021-01-13 16-45-00.872276_last_generation_non_extant_only.csv\n",
      "GeneticAlgo_run_cgreGFP_target60muts_2021-01-13 16-50-04.618363_last_generation_non_extant_only.csv\n",
      "GeneticAlgo_run_cgreGFP_target60muts_2021-01-13 17-17-25.053679_last_generation_non_extant_only.csv\n",
      "GeneticAlgo_run_cgreGFP_target60muts_2021-01-13 17-31-14.728009_last_generation_non_extant_only.csv\n",
      "GeneticAlgo_run_cgreGFP_target60muts_2021-01-13 17-35-08.449824_last_generation_non_extant_only.csv\n",
      "66 muts: 12 files\n",
      "GeneticAlgo_run_cgreGFP_target66muts_2021-01-15 12-14-47.014548_last_generation.csv\n",
      "GeneticAlgo_run_cgreGFP_target66muts_2021-01-15 12-19-09.858968_last_generation.csv\n",
      "GeneticAlgo_run_cgreGFP_target66muts_2021-01-15 12-23-37.478574_last_generation.csv\n",
      "GeneticAlgo_run_cgreGFP_target66muts_2021-01-15 12-28-43.937472_last_generation_non_extant_only.csv\n",
      "GeneticAlgo_run_cgreGFP_target66muts_2021-01-15 14-46-28.607140_last_generation_non_extant_only.csv\n",
      "GeneticAlgo_run_cgreGFP_target66muts_2021-01-15 15-00-00.195047_last_generation_non_extant_only.csv\n",
      "GeneticAlgo_run_cgreGFP_target66muts_2021-01-15 15-14-42.445657_last_generation_non_extant_only.csv\n",
      "GeneticAlgo_run_cgreGFP_target66muts_2021-01-15 15-27-43.480885_last_generation_non_extant_only.csv\n",
      "GeneticAlgo_run_cgreGFP_target66muts_2021-01-15 15-41-33.553538_last_generation_non_extant_only.csv\n",
      "GeneticAlgo_run_cgreGFP_target66muts_2021-01-15 15-55-01.282018_last_generation_non_extant_only.csv\n",
      "GeneticAlgo_run_cgreGFP_target66muts_2021-01-15 16-02-51.921207_last_generation_non_extant_only.csv\n",
      "GeneticAlgo_run_cgreGFP_target66muts_2021-01-15 16-11-21.337543_last_generation_non_extant_only.csv\n",
      "72 muts: 17 files\n",
      "GeneticAlgo_run_cgreGFP_target72muts_2021-01-13 17-51-31.416402_last_generation_non_extant_only.csv\n",
      "GeneticAlgo_run_cgreGFP_target72muts_2021-01-13 17-57-03.152333_last_generation_non_extant_only.csv\n",
      "GeneticAlgo_run_cgreGFP_target72muts_2021-01-13 18-03-04.408614_last_generation_non_extant_only.csv\n",
      "GeneticAlgo_run_cgreGFP_target72muts_2021-01-13 18-08-45.521095_last_generation_non_extant_only.csv\n",
      "GeneticAlgo_run_cgreGFP_target72muts_2021-01-13 18-14-10.384942_last_generation_non_extant_only.csv\n",
      "GeneticAlgo_run_cgreGFP_target72muts_2021-01-13 18-20-07.655953_last_generation_non_extant_only.csv\n",
      "GeneticAlgo_run_cgreGFP_target72muts_2021-01-13 18-25-54.169008_last_generation_non_extant_only.csv\n",
      "GeneticAlgo_run_cgreGFP_target72muts_2021-01-13 18-31-22.610130_last_generation_non_extant_only.csv\n",
      "GeneticAlgo_run_cgreGFP_target72muts_2021-01-13 18-37-13.894515_last_generation_non_extant_only.csv\n",
      "GeneticAlgo_run_cgreGFP_target72muts_2021-01-13 18-42-53.811970_last_generation_non_extant_only.csv\n",
      "GeneticAlgo_run_cgreGFP_target72muts_2021-01-13 18-48-10.219792_last_generation_non_extant_only.csv\n",
      "GeneticAlgo_run_cgreGFP_target72muts_2021-01-13 18-54-06.516348_last_generation_non_extant_only.csv\n",
      "GeneticAlgo_run_cgreGFP_target72muts_2021-01-13 18-59-33.385532_last_generation_non_extant_only.csv\n",
      "GeneticAlgo_run_cgreGFP_target72muts_2021-01-13 19-11-25.460343_last_generation.csv\n",
      "GeneticAlgo_run_cgreGFP_target72muts_2021-01-13 19-15-49.129339_last_generation.csv\n",
      "GeneticAlgo_run_cgreGFP_target72muts_2021-01-13 19-21-54.442931_last_generation.csv\n",
      "GeneticAlgo_run_cgreGFP_target72muts_2021-01-13 19-26-20.125168_last_generation.csv\n",
      "78 muts: 13 files\n",
      "GeneticAlgo_run_cgreGFP_target78muts_2021-01-15 16-22-46.091816_last_generation.csv\n",
      "GeneticAlgo_run_cgreGFP_target78muts_2021-01-15 16-29-56.887584_last_generation.csv\n",
      "GeneticAlgo_run_cgreGFP_target78muts_2021-01-15 16-38-36.550430_last_generation.csv\n",
      "GeneticAlgo_run_cgreGFP_target78muts_2021-01-15 16-45-26.301098_last_generation_non_extant_only.csv\n",
      "GeneticAlgo_run_cgreGFP_target78muts_2021-01-15 16-52-19.364882_last_generation_non_extant_only.csv\n",
      "GeneticAlgo_run_cgreGFP_target78muts_2021-01-15 16-58-56.982004_last_generation_non_extant_only.csv\n",
      "GeneticAlgo_run_cgreGFP_target78muts_2021-01-15 17-07-57.888582_last_generation_non_extant_only.csv\n",
      "GeneticAlgo_run_cgreGFP_target78muts_2021-01-15 17-15-30.423623_last_generation_non_extant_only.csv\n",
      "GeneticAlgo_run_cgreGFP_target78muts_2021-01-15 17-22-51.016885_last_generation_non_extant_only.csv\n",
      "GeneticAlgo_run_cgreGFP_target78muts_2021-01-15 17-30-16.769409_last_generation_non_extant_only.csv\n",
      "GeneticAlgo_run_cgreGFP_target78muts_2021-01-15 17-37-28.867083_last_generation_non_extant_only.csv\n",
      "GeneticAlgo_run_cgreGFP_target78muts_2021-01-15 17-45-17.637983_last_generation_non_extant_only.csv\n",
      "GeneticAlgo_run_cgreGFP_target78muts_2021-01-15 17-52-59.607307_last_generation_non_extant_only.csv\n",
      "84 muts: 19 files\n",
      "GeneticAlgo_run_cgreGFP_target84muts_2021-01-14 09-46-50.443038_last_generation.csv\n",
      "GeneticAlgo_run_cgreGFP_target84muts_2021-01-14 09-52-11.217699_last_generation.csv\n",
      "GeneticAlgo_run_cgreGFP_target84muts_2021-01-14 10-34-50.300954_last_generation_non_extant_only.csv\n",
      "GeneticAlgo_run_cgreGFP_target84muts_2021-01-14 10-40-39.483016_last_generation_non_extant_only.csv\n",
      "GeneticAlgo_run_cgreGFP_target84muts_2021-01-14 10-46-37.538300_last_generation_non_extant_only.csv\n",
      "GeneticAlgo_run_cgreGFP_target84muts_2021-01-14 10-55-18.945015_last_generation_non_extant_only.csv\n",
      "GeneticAlgo_run_cgreGFP_target84muts_2021-01-14 11-06-42.378539_last_generation_non_extant_only.csv\n",
      "GeneticAlgo_run_cgreGFP_target84muts_2021-01-14 11-12-23.055012_last_generation_non_extant_only.csv\n",
      "GeneticAlgo_run_cgreGFP_target84muts_2021-01-14 11-18-26.158010_last_generation_non_extant_only.csv\n",
      "GeneticAlgo_run_cgreGFP_target84muts_2021-01-14 11-24-32.091670_last_generation_non_extant_only.csv\n",
      "GeneticAlgo_run_cgreGFP_target84muts_2021-01-14 11-33-37.917679_last_generation_non_extant_only.csv\n",
      "GeneticAlgo_run_cgreGFP_target84muts_2021-01-14 11-44-58.582625_last_generation_non_extant_only.csv\n",
      "GeneticAlgo_run_cgreGFP_target84muts_2021-01-14 11-55-17.775705_last_generation_non_extant_only.csv\n",
      "GeneticAlgo_run_cgreGFP_target84muts_2021-01-14 12-03-48.030856_last_generation_non_extant_only.csv\n",
      "GeneticAlgo_run_cgreGFP_target84muts_2021-01-14 12-12-14.113777_last_generation_non_extant_only.csv\n",
      "GeneticAlgo_run_cgreGFP_target84muts_2021-01-14 12-20-50.371030_last_generation_non_extant_only.csv\n",
      "GeneticAlgo_run_cgreGFP_target84muts_2021-01-14 12-34-28.487482_last_generation_non_extant_only.csv\n",
      "GeneticAlgo_run_cgreGFP_target84muts_2021-01-14 12-53-43.359627_last_generation_non_extant_only.csv\n",
      "GeneticAlgo_run_cgreGFP_target84muts_2021-01-14 13-01-16.564094_last_generation_non_extant_only.csv\n",
      "90 muts: 12 files\n",
      "GeneticAlgo_run_cgreGFP_target90muts_2021-01-15 18-04-16.542705_last_generation.csv\n",
      "GeneticAlgo_run_cgreGFP_target90muts_2021-01-15 18-16-42.241923_last_generation.csv\n",
      "GeneticAlgo_run_cgreGFP_target90muts_2021-01-15 18-24-50.932265_last_generation_non_extant_only.csv\n",
      "GeneticAlgo_run_cgreGFP_target90muts_2021-01-15 18-32-32.588658_last_generation_non_extant_only.csv\n",
      "GeneticAlgo_run_cgreGFP_target90muts_2021-01-15 18-39-40.212459_last_generation_non_extant_only.csv\n",
      "GeneticAlgo_run_cgreGFP_target90muts_2021-01-15 18-46-41.792252_last_generation_non_extant_only.csv\n",
      "GeneticAlgo_run_cgreGFP_target90muts_2021-01-15 18-53-25.219862_last_generation_non_extant_only.csv\n",
      "GeneticAlgo_run_cgreGFP_target90muts_2021-01-15 18-59-44.188237_last_generation_non_extant_only.csv\n",
      "GeneticAlgo_run_cgreGFP_target90muts_2021-01-15 19-06-20.084827_last_generation_non_extant_only.csv\n",
      "GeneticAlgo_run_cgreGFP_target90muts_2021-01-15 19-13-12.827204_last_generation_non_extant_only.csv\n",
      "GeneticAlgo_run_cgreGFP_target90muts_2021-01-15 19-20-14.446385_last_generation_non_extant_only.csv\n",
      "GeneticAlgo_run_cgreGFP_target90muts_2021-01-15 19-26-34.726224_last_generation_non_extant_only.csv\n",
      "96 muts: 53 files\n",
      "GeneticAlgo_run_cgreGFP_target96muts_2021-01-14 14-03-32.704360_last_generation_non_extant_only.csv\n",
      "GeneticAlgo_run_cgreGFP_target96muts_2021-01-14 14-16-56.529429_last_generation_non_extant_only.csv\n",
      "GeneticAlgo_run_cgreGFP_target96muts_2021-01-14 14-32-28.149251_last_generation_non_extant_only.csv\n",
      "GeneticAlgo_run_cgreGFP_target96muts_2021-01-14 14-47-05.534158_last_generation_non_extant_only.csv\n",
      "GeneticAlgo_run_cgreGFP_target96muts_2021-01-14 15-05-01.133468_last_generation_non_extant_only.csv\n",
      "GeneticAlgo_run_cgreGFP_target96muts_2021-01-14 15-20-59.389720_last_generation_non_extant_only.csv\n",
      "GeneticAlgo_run_cgreGFP_target96muts_2021-01-14 15-36-25.503039_last_generation_non_extant_only.csv\n",
      "GeneticAlgo_run_cgreGFP_target96muts_2021-01-14 16-37-43.439871_last_generation_non_extant_only.csv\n",
      "GeneticAlgo_run_cgreGFP_target96muts_2021-01-14 16-42-51.695198_last_generation_non_extant_only.csv\n",
      "GeneticAlgo_run_cgreGFP_target96muts_2021-01-14 17-03-05.472058_last_generation_non_extant_only.csv\n",
      "GeneticAlgo_run_cgreGFP_target96muts_2021-01-14 17-07-44.984960_last_generation_non_extant_only.csv\n",
      "GeneticAlgo_run_cgreGFP_target96muts_2021-01-14 17-12-33.857228_last_generation_non_extant_only.csv\n",
      "GeneticAlgo_run_cgreGFP_target96muts_2021-01-14 17-17-00.898797_last_generation_non_extant_only.csv\n",
      "GeneticAlgo_run_cgreGFP_target96muts_2021-01-14 17-21-26.701257_last_generation_non_extant_only.csv\n",
      "GeneticAlgo_run_cgreGFP_target96muts_2021-01-14 17-26-12.301120_last_generation_non_extant_only.csv\n",
      "GeneticAlgo_run_cgreGFP_target96muts_2021-01-14 17-31-02.494958_last_generation_non_extant_only.csv\n",
      "GeneticAlgo_run_cgreGFP_target96muts_2021-01-14 17-37-08.614346_last_generation_non_extant_only.csv\n",
      "GeneticAlgo_run_cgreGFP_target96muts_2021-01-14 17-42-14.869826_last_generation_non_extant_only.csv\n",
      "GeneticAlgo_run_cgreGFP_target96muts_2021-01-14 17-47-38.923434_last_generation_non_extant_only.csv\n",
      "GeneticAlgo_run_cgreGFP_target96muts_2021-01-14 17-52-22.021897_last_generation_non_extant_only.csv\n",
      "GeneticAlgo_run_cgreGFP_target96muts_2021-01-14 18-00-52.502075_last_generation_non_extant_only.csv\n",
      "GeneticAlgo_run_cgreGFP_target96muts_2021-01-14 18-17-31.132381_last_generation_non_extant_only.csv\n",
      "GeneticAlgo_run_cgreGFP_target96muts_2021-01-14 18-23-31.274116_last_generation_non_extant_only.csv\n",
      "GeneticAlgo_run_cgreGFP_target96muts_2021-01-14 18-41-58.678976_last_generation_non_extant_only.csv\n",
      "GeneticAlgo_run_cgreGFP_target96muts_2021-01-14 18-49-08.567393_last_generation_non_extant_only.csv\n",
      "GeneticAlgo_run_cgreGFP_target96muts_2021-01-14 18-55-50.440225_last_generation_non_extant_only.csv\n",
      "GeneticAlgo_run_cgreGFP_target96muts_2021-01-14 19-03-49.847686_last_generation_non_extant_only.csv\n",
      "GeneticAlgo_run_cgreGFP_target96muts_2021-01-14 19-14-42.402895_last_generation_non_extant_only.csv\n",
      "GeneticAlgo_run_cgreGFP_target96muts_2021-01-14 19-19-42.143245_last_generation_non_extant_only.csv\n",
      "GeneticAlgo_run_cgreGFP_target96muts_2021-01-14 19-25-15.821314_last_generation_non_extant_only.csv\n",
      "GeneticAlgo_run_cgreGFP_target96muts_2021-01-14 19-30-38.752424_last_generation_non_extant_only.csv\n",
      "GeneticAlgo_run_cgreGFP_target96muts_2021-01-14 19-37-51.560220_last_generation_non_extant_only.csv\n",
      "GeneticAlgo_run_cgreGFP_target96muts_2021-01-14 19-42-38.910774_last_generation_non_extant_only.csv\n",
      "GeneticAlgo_run_cgreGFP_target96muts_2021-01-14 19-47-39.975925_last_generation_non_extant_only.csv\n",
      "GeneticAlgo_run_cgreGFP_target96muts_2021-01-14 19-55-01.520158_last_generation_non_extant_only.csv\n",
      "GeneticAlgo_run_cgreGFP_target96muts_2021-01-14 19-59-46.741966_last_generation_non_extant_only.csv\n",
      "GeneticAlgo_run_cgreGFP_target96muts_2021-01-14 20-04-21.314920_last_generation_non_extant_only.csv\n",
      "GeneticAlgo_run_cgreGFP_target96muts_2021-01-14 20-10-16.323536_last_generation_non_extant_only.csv\n",
      "GeneticAlgo_run_cgreGFP_target96muts_2021-01-14 20-16-20.699225_last_generation_non_extant_only.csv\n",
      "GeneticAlgo_run_cgreGFP_target96muts_2021-01-14 20-27-44.467706_last_generation_non_extant_only.csv\n",
      "GeneticAlgo_run_cgreGFP_target96muts_2021-01-14 20-33-21.164763_last_generation_non_extant_only.csv\n",
      "GeneticAlgo_run_cgreGFP_target96muts_2021-01-14 20-55-51.529371_last_generation_non_extant_only.csv\n",
      "GeneticAlgo_run_cgreGFP_target96muts_2021-01-14 20-59-59.685203_last_generation_non_extant_only.csv\n",
      "GeneticAlgo_run_cgreGFP_target96muts_2021-01-14 21-04-08.543940_last_generation_non_extant_only.csv\n"
     ]
    },
    {
     "name": "stdout",
     "output_type": "stream",
     "text": [
      "GeneticAlgo_run_cgreGFP_target96muts_2021-01-14 21-09-30.003848_last_generation_non_extant_only.csv\n",
      "GeneticAlgo_run_cgreGFP_target96muts_2021-01-14 21-13-47.439911_last_generation_non_extant_only.csv\n",
      "GeneticAlgo_run_cgreGFP_target96muts_2021-01-14 21-19-10.187224_last_generation_non_extant_only.csv\n",
      "GeneticAlgo_run_cgreGFP_target96muts_2021-01-14 21-32-30.490351_last_generation_non_extant_only.csv\n",
      "GeneticAlgo_run_cgreGFP_target96muts_2021-01-14 21-53-42.916908_last_generation_non_extant_only.csv\n",
      "GeneticAlgo_run_cgreGFP_target96muts_2021-01-14 21-59-55.044985_last_generation_non_extant_only.csv\n",
      "GeneticAlgo_run_cgreGFP_target96muts_2021-01-14 22-04-40.573741_last_generation_non_extant_only.csv\n",
      "GeneticAlgo_run_cgreGFP_target96muts_2021-01-14 22-09-29.103683_last_generation_non_extant_only.csv\n",
      "GeneticAlgo_run_cgreGFP_target96muts_2021-01-14 22-14-36.554591_last_generation_non_extant_only.csv\n"
     ]
    }
   ],
   "source": [
    "\n",
    "# List run result files\n",
    "\n",
    "runs_files = [f for f in listdir(geneticAlgo_output_folder) \\\n",
    "              if isfile(join(geneticAlgo_output_folder, f)) \\\n",
    "              and gene_name in f and \"last_generation\" in f ]\n",
    "\n",
    "if non_extant_enrich==None: pass \n",
    "elif non_extant_enrich==True:  runs_files = [f for f in runs_files if \"extant\" in f]\n",
    "elif non_extant_enrich==False: runs_files = [f for f in runs_files if not \"extant\" in f]\n",
    "else: raise\n",
    "\n",
    "\n",
    "# listing all run files\n",
    "# loading only the ones matching the targetted number of mutations\n",
    "last_generations=[]\n",
    "for nb_muts in list(range(6,96+6,6)):\n",
    "    \n",
    "    sub = sorted([f for f in runs_files if f\"target{nb_muts}muts\" in f])\n",
    "    print(f\"{nb_muts} muts: {len(sub)} files\")\n",
    "\n",
    "    for run_file in sub:\n",
    "        print(run_file)\n",
    "        \n",
    "        if f\"target{nb_mutation_target}muts\" in run_file:\n",
    "            run_data = pd.read_csv(geneticAlgo_output_folder+run_file)\n",
    "            run_data[\"run\"]=run_file\n",
    "            last_generations.append(run_data)\n",
    "\n",
    "last_generations=pd.concat(last_generations,axis=0)\n",
    "\n",
    "# reindex\n",
    "last_generations = pd.DataFrame.reset_index(last_generations,drop=True)\n"
   ]
  },
  {
   "cell_type": "code",
   "execution_count": 5,
   "metadata": {
    "ExecuteTime": {
     "end_time": "2021-06-17T13:17:19.658938Z",
     "start_time": "2021-06-17T13:17:19.379916Z"
    }
   },
   "outputs": [
    {
     "data": {
      "image/png": "[encoded data removed]",
      "text/plain": [
       "<Figure size 1440x360 with 1 Axes>"
      ]
     },
     "metadata": {},
     "output_type": "display_data"
    }
   ],
   "source": [
    "# Distribution of the number of mutations in resulting genotypes\n",
    "fig, ax = plt.subplots(figsize=(20, 5))\n",
    "fig.patch.set_facecolor('w')\n",
    "plt.hist([len(elt.split(\":\")) for elt in last_generations[genotype_col].values],bins=range(100))\n",
    "plt.xticks(range(0,100,5))\n",
    "plt.xlabel(\"mutations\")\n",
    "plt.ylabel(\"Number of genotypes\")\n",
    "plt.show()"
   ]
  },
  {
   "cell_type": "code",
   "execution_count": 6,
   "metadata": {
    "ExecuteTime": {
     "end_time": "2021-06-17T13:17:20.048396Z",
     "start_time": "2021-06-17T13:17:19.660109Z"
    }
   },
   "outputs": [
    {
     "data": {
      "image/png": "[encoded data removed]",
      "text/plain": [
       "<Figure size 432x288 with 1 Axes>"
      ]
     },
     "metadata": {
      "needs_background": "light"
     },
     "output_type": "display_data"
    }
   ],
   "source": [
    "# Distribution of predicted fluorescence in resulting genotypes\n",
    "\n",
    "h=plt.hist(last_generations[\"Fitness\"],bins=20)\n",
    "plt.xlabel(\"Fitness\")\n",
    "plt.ylabel(\"Number of genotypes\")\n",
    "\n",
    "# add wt indicator\n",
    "plt.axvline(float(wt_record[brightness_col]), color='k', linestyle='dashed', linewidth=1)\n",
    "plt.yscale(\"log\")\n",
    "\n",
    "plt.show()"
   ]
  },
  {
   "cell_type": "code",
   "execution_count": 7,
   "metadata": {
    "ExecuteTime": {
     "end_time": "2021-06-17T13:17:20.551201Z",
     "start_time": "2021-06-17T13:17:20.049578Z"
    }
   },
   "outputs": [],
   "source": [
    "\n",
    "# Count mutations in last generations genotypes\n",
    "last_generations_muts = sorted(list(flatten([ row[genotype_col].split(\":\") for ID,row in last_generations.iterrows()])))\n",
    "counts_in_last_generations=Counter(last_generations_muts)"
   ]
  },
  {
   "cell_type": "markdown",
   "metadata": {
    "ExecuteTime": {
     "end_time": "2020-06-14T11:09:06.216667Z",
     "start_time": "2020-06-14T11:09:06.211596Z"
    }
   },
   "source": [
    "### Frequency of mutation in predictions"
   ]
  },
  {
   "cell_type": "code",
   "execution_count": 8,
   "metadata": {
    "ExecuteTime": {
     "end_time": "2021-06-17T13:17:20.889715Z",
     "start_time": "2021-06-17T13:17:20.553552Z"
    }
   },
   "outputs": [
    {
     "data": {
      "image/png": "[encoded data removed]",
      "text/plain": [
       "<Figure size 720x360 with 1 Axes>"
      ]
     },
     "metadata": {},
     "output_type": "display_data"
    }
   ],
   "source": [
    "\n",
    "# represent percentage of presence of last generation genotypes\n",
    "presence_percentage = {}\n",
    "for mut in counts_in_last_generations.keys():\n",
    "    p=100*counts_in_last_generations[mut]/last_generations.shape[0]\n",
    "    presence_percentage[mut]=p\n",
    "    \n",
    "fig, ax = plt.subplots(figsize=(10, 5))\n",
    "\n",
    "fig.patch.set_facecolor('w')\n",
    "plt.hist(presence_percentage.values(),bins=25,edgecolor=\"w\")\n",
    "plt.xlabel(\"mutation % of presence\")\n",
    "plt.ylabel(\"Nb of mutations\")\n",
    "plt.yscale(\"log\")\n",
    "ax.set_title(f\"On {last_generations.shape[0]} last generation genotypes (pooled)\")\n",
    "plt.show()"
   ]
  },
  {
   "cell_type": "markdown",
   "metadata": {
    "ExecuteTime": {
     "end_time": "2020-06-14T11:10:05.871838Z",
     "start_time": "2020-06-14T11:10:05.864897Z"
    }
   },
   "source": [
    "### Save recap file"
   ]
  },
  {
   "cell_type": "code",
   "execution_count": 9,
   "metadata": {
    "ExecuteTime": {
     "end_time": "2021-06-17T13:17:20.896181Z",
     "start_time": "2021-06-17T13:17:20.891589Z"
    }
   },
   "outputs": [
    {
     "data": {
      "text/plain": [
       "(5300, 16)"
      ]
     },
     "execution_count": 9,
     "metadata": {},
     "output_type": "execute_result"
    }
   ],
   "source": [
    "last_generations.shape"
   ]
  },
  {
   "cell_type": "code",
   "execution_count": 10,
   "metadata": {
    "ExecuteTime": {
     "end_time": "2021-06-17T13:17:20.911592Z",
     "start_time": "2021-06-17T13:17:20.898861Z"
    }
   },
   "outputs": [],
   "source": [
    "# remove wild-types\n",
    "last_generations = last_generations[~last_generations[genotype_col].str.contains(\"wt\", na=False)]"
   ]
  },
  {
   "cell_type": "code",
   "execution_count": 11,
   "metadata": {
    "ExecuteTime": {
     "end_time": "2021-06-17T13:17:21.088404Z",
     "start_time": "2021-06-17T13:17:20.912612Z"
    }
   },
   "outputs": [],
   "source": [
    "try:mkdir(join(geneticAlgo_output_folder,\"RECAP\"))\n",
    "except:pass\n",
    "recap_file = join(geneticAlgo_output_folder,\"RECAP\",f\"Recap_{gene_name}_target{nb_mutation_target}muts.csv\")\n",
    "last_generations.to_csv(recap_file)"
   ]
  },
  {
   "cell_type": "code",
   "execution_count": null,
   "metadata": {},
   "outputs": [],
   "source": []
  }
 ],
 "metadata": {
  "kernelspec": {
   "display_name": "Python 3",
   "language": "python",
   "name": "python3"
  },
  "language_info": {
   "codemirror_mode": {
    "name": "ipython",
    "version": 3
   },
   "file_extension": ".py",
   "mimetype": "text/x-python",
   "name": "python",
   "nbconvert_exporter": "python",
   "pygments_lexer": "ipython3",
   "version": "3.8.5"
  },
  "toc": {
   "base_numbering": 1,
   "nav_menu": {},
   "number_sections": true,
   "sideBar": true,
   "skip_h1_title": false,
   "title_cell": "Table of Contents",
   "title_sidebar": " ",
   "toc_cell": false,
   "toc_position": {
    "height": "705.455px",
    "left": "61px",
    "top": "91.407px",
    "width": "341.788px"
   },
   "toc_section_display": true,
   "toc_window_display": true
  }
 },
 "nbformat": 4,
 "nbformat_minor": 4
}
