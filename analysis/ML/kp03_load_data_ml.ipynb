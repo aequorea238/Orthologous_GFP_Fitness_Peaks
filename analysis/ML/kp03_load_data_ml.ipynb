{
 "cells": [
  {
   "cell_type": "code",
   "execution_count": 66,
   "metadata": {
    "ExecuteTime": {
     "end_time": "2021-06-16T09:41:26.545116Z",
     "start_time": "2021-06-16T09:41:26.184504Z"
    }
   },
   "outputs": [],
   "source": [
    "%run kp00_load_packages.ipynb"
   ]
  },
  {
   "cell_type": "code",
   "execution_count": 67,
   "metadata": {
    "ExecuteTime": {
     "end_time": "2021-06-16T09:41:26.548930Z",
     "start_time": "2021-06-16T09:41:26.546196Z"
    }
   },
   "outputs": [],
   "source": [
    "pd.set_option('display.max_rows', 500)\n",
    "import keras\n",
    "from sklearn.metrics import r2_score\n",
    "from keras.layers import Input, Dense, Dropout\n",
    "from keras.callbacks import EarlyStopping\n",
    "from keras.models import Model\n",
    "from sklearn.model_selection import train_test_split\n",
    "from sklearn import preprocessing\n",
    "from sklearn.ensemble import RandomForestClassifier, RandomForestRegressor\n",
    "from keras import regularizers\n",
    "from sklearn import metrics\n",
    "from keras.layers import LeakyReLU"
   ]
  },
  {
   "cell_type": "code",
   "execution_count": 68,
   "metadata": {
    "ExecuteTime": {
     "end_time": "2021-06-16T09:41:26.559891Z",
     "start_time": "2021-06-16T09:41:26.550347Z"
    }
   },
   "outputs": [
    {
     "data": {
      "text/plain": [
       "['amacGFP', 'cgreGFP', 'ppluGFP']"
      ]
     },
     "execution_count": 68,
     "metadata": {},
     "output_type": "execute_result"
    }
   ],
   "source": [
    "GFPs"
   ]
  },
  {
   "cell_type": "code",
   "execution_count": 69,
   "metadata": {
    "ExecuteTime": {
     "end_time": "2021-06-16T09:41:26.567209Z",
     "start_time": "2021-06-16T09:41:26.563283Z"
    }
   },
   "outputs": [
    {
     "name": "stdout",
     "output_type": "stream",
     "text": [
      "ppluGFP\n"
     ]
    }
   ],
   "source": [
    "# Select GFP used in subsequent analysis (SELECTED_GFP)\n",
    "# this notebook is called by other notebooks\n",
    "# so SELECTED_GFP is not instanciated here\n",
    "print(SELECTED_GFP)"
   ]
  },
  {
   "cell_type": "code",
   "execution_count": 70,
   "metadata": {
    "ExecuteTime": {
     "end_time": "2021-06-16T09:41:26.861730Z",
     "start_time": "2021-06-16T09:41:26.568449Z"
    }
   },
   "outputs": [],
   "source": [
    "df = pd.read_csv('3_data/ranked_sequences.csv', index_col=0)\n",
    "df = df[df.gene==SELECTED_GFP]\n",
    "#df = df.groupby('aa_sequence')[['log_brightness']].agg(np.median).reset_index()\n",
    "df=df.reset_index(drop=True)\n",
    "df=df[[\"aa_sequence\",\"aa_mutations_pseudo\",\"log_brightness\"]]\n",
    "df.columns = ['sequences',\"aa_mutations_pseudo\",'labels']"
   ]
  },
  {
   "cell_type": "code",
   "execution_count": 71,
   "metadata": {
    "ExecuteTime": {
     "end_time": "2021-06-16T09:41:26.984520Z",
     "start_time": "2021-06-16T09:41:26.863289Z"
    }
   },
   "outputs": [
    {
     "data": {
      "text/plain": [
       "Text(0, 0.5, 'N sequences')"
      ]
     },
     "execution_count": 71,
     "metadata": {},
     "output_type": "execute_result"
    },
    {
     "data": {
      "image/png": "[encoded data removed]",
      "text/plain": [
       "<Figure size 720x504 with 1 Axes>"
      ]
     },
     "metadata": {
      "needs_background": "light"
     },
     "output_type": "display_data"
    }
   ],
   "source": [
    "wt_score = float(df[df.sequences==WT_SEQs[SELECTED_GFP]].labels)\n",
    "\n",
    "plt.figure(figsize=[10,7])\n",
    "plt.hist(df.labels)\n",
    "plt.plot([wt_score]*2, [0,10000])\n",
    "plt.xlabel('Standardised enrichment score')\n",
    "plt.ylabel('N sequences')"
   ]
  },
  {
   "cell_type": "code",
   "execution_count": 72,
   "metadata": {
    "ExecuteTime": {
     "end_time": "2021-06-16T09:41:26.991670Z",
     "start_time": "2021-06-16T09:41:26.985642Z"
    }
   },
   "outputs": [
    {
     "name": "stdout",
     "output_type": "stream",
     "text": [
      "Number of sequences = 32267\n"
     ]
    }
   ],
   "source": [
    "sequences = list(df.sequences)\n",
    "print(f'Number of sequences = {len(sequences)}')"
   ]
  },
  {
   "cell_type": "code",
   "execution_count": 73,
   "metadata": {
    "ExecuteTime": {
     "end_time": "2021-06-16T09:41:30.075835Z",
     "start_time": "2021-06-16T09:41:26.992942Z"
    }
   },
   "outputs": [],
   "source": [
    "enc = preprocessing.OneHotEncoder(handle_unknown=\"ignore\")\n",
    "genotype_matrix = enc.fit_transform([list(sq) for sq in list(sequences)]).toarray()\n",
    "labels = df.labels.values.reshape(-1,1)\n",
    "# np.random.shuffle(labels)\n"
   ]
  },
  {
   "cell_type": "code",
   "execution_count": 74,
   "metadata": {
    "ExecuteTime": {
     "end_time": "2021-06-16T09:41:30.095603Z",
     "start_time": "2021-06-16T09:41:30.076844Z"
    }
   },
   "outputs": [
    {
     "data": {
      "text/plain": [
       "['4_ML/1_encoders/2D_encoder_ppluGFP.joblib']"
      ]
     },
     "execution_count": 74,
     "metadata": {},
     "output_type": "execute_result"
    }
   ],
   "source": [
    "from joblib import dump, load\n",
    "dump(enc, f'4_ML/1_encoders/2D_encoder_{SELECTED_GFP}.joblib') "
   ]
  },
  {
   "cell_type": "code",
   "execution_count": null,
   "metadata": {},
   "outputs": [],
   "source": []
  }
 ],
 "metadata": {
  "kernelspec": {
   "display_name": "Python 3",
   "language": "python",
   "name": "python3"
  },
  "language_info": {
   "codemirror_mode": {
    "name": "ipython",
    "version": 3
   },
   "file_extension": ".py",
   "mimetype": "text/x-python",
   "name": "python",
   "nbconvert_exporter": "python",
   "pygments_lexer": "ipython3",
   "version": "3.8.5"
  },
  "toc": {
   "base_numbering": 1,
   "nav_menu": {},
   "number_sections": true,
   "sideBar": true,
   "skip_h1_title": false,
   "title_cell": "Table of Contents",
   "title_sidebar": " ",
   "toc_cell": false,
   "toc_position": {},
   "toc_section_display": true,
   "toc_window_display": true
  }
 },
 "nbformat": 4,
 "nbformat_minor": 4
}
